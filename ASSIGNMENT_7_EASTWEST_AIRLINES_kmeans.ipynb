{
  "nbformat": 4,
  "nbformat_minor": 0,
  "metadata": {
    "colab": {
      "name": "ASSIGNMENT_7_EASTWEST_AIRLINES_kmeans.ipynb",
      "provenance": [],
      "collapsed_sections": [],
      "authorship_tag": "ABX9TyNvIcmrwd8uno8YNowfc/sr",
      "include_colab_link": true
    },
    "kernelspec": {
      "name": "python3",
      "display_name": "Python 3"
    },
    "language_info": {
      "name": "python"
    }
  },
  "cells": [
    {
      "cell_type": "markdown",
      "metadata": {
        "id": "view-in-github",
        "colab_type": "text"
      },
      "source": [
        "<a href=\"https://colab.research.google.com/github/SaiDhanyaa/ExcelR_Assignments/blob/main/ASSIGNMENT_7_EASTWEST_AIRLINES_kmeans.ipynb\" target=\"_parent\"><img src=\"https://colab.research.google.com/assets/colab-badge.svg\" alt=\"Open In Colab\"/></a>"
      ]
    },
    {
      "cell_type": "markdown",
      "metadata": {
        "id": "44YAXaBrqf56"
      },
      "source": [
        "Perform clustering (hierarchical,K means clustering and DBSCAN) for the airlines data to obtain optimum number of clusters. \n",
        "Draw the inferences from the clusters obtained.\n",
        "\n",
        "Data Description:\n",
        " \n",
        "The file EastWestAirlinescontains information on passengers who belong to an airlineâ€™s frequent flier program. For each passenger the data include information on their mileage history and on different ways they accrued or spent miles in the last year. The goal is to try to identify clusters of passengers that have similar characteristics for the purpose of targeting different segments for different types of mileage offers\n",
        "\n",
        "ID --Unique ID\n",
        "\n",
        "Balance--Number of miles eligible for award travel\n",
        "\n",
        "Qual_mile--Number of miles counted as qualifying for Topflight status\n",
        "\n",
        "cc1_miles -- Number of miles earned with freq. flyer credit card in the past 12 months:\n",
        "cc2_miles -- Number of miles earned with Rewards credit card in the past 12 months:\n",
        "cc3_miles -- Number of miles earned with Small Business credit card in the past 12 months:\n",
        "\n",
        "1 = under 5,000\n",
        "2 = 5,000 - 10,000\n",
        "3 = 10,001 - 25,000\n",
        "4 = 25,001 - 50,000\n",
        "5 = over 50,000\n",
        "\n",
        "Bonus_miles--Number of miles earned from non-flight bonus transactions in the past 12 months\n",
        "\n",
        "Bonus_trans--Number of non-flight bonus transactions in the past 12 months\n",
        "\n",
        "Flight_miles_12mo--Number of flight miles in the past 12 months\n",
        "\n",
        "Flight_trans_12--Number of flight transactions in the past 12 months\n",
        "\n",
        "Days_since_enrolled--Number of days since enrolled in flier program\n",
        "\n",
        "Award--whether that person had award flight (free flight) or not\n"
      ]
    },
    {
      "cell_type": "code",
      "metadata": {
        "id": "JcE-uNzXiv-9"
      },
      "source": [
        "import numpy as np\n",
        "import pandas as pd\n",
        "from matplotlib import pyplot as plt\n",
        "from sklearn.cluster import KMeans"
      ],
      "execution_count": 89,
      "outputs": []
    },
    {
      "cell_type": "code",
      "metadata": {
        "id": "7QEawAJOjO3E"
      },
      "source": [
        "air = pd.read_csv(\"/content/EastWestAirlines.csv\")"
      ],
      "execution_count": 90,
      "outputs": []
    },
    {
      "cell_type": "code",
      "metadata": {
        "id": "oiOL4Kh1jcIs"
      },
      "source": [
        "air.head()"
      ],
      "execution_count": null,
      "outputs": []
    },
    {
      "cell_type": "code",
      "metadata": {
        "id": "Aud6apqSjO5n"
      },
      "source": [
        "# Normalization function \n",
        "from sklearn.preprocessing import StandardScaler\n",
        "scaler = StandardScaler()\n",
        "scaled_air_df = scaler.fit_transform(air)"
      ],
      "execution_count": 92,
      "outputs": []
    },
    {
      "cell_type": "code",
      "metadata": {
        "id": "R8w6yy3Rq8-5"
      },
      "source": [
        "scaled_air_df"
      ],
      "execution_count": null,
      "outputs": []
    },
    {
      "cell_type": "code",
      "metadata": {
        "id": "HwdFuMsOjO9f"
      },
      "source": [
        "# How to find optimum number of  cluster\n",
        "#The K-means algorithm aims to choose centroids that minimise the inertia, or within-cluster sum-of-squares criterion:"
      ],
      "execution_count": 94,
      "outputs": []
    },
    {
      "cell_type": "code",
      "metadata": {
        "id": "QaqkIFImjPAV"
      },
      "source": [
        "wcss = []\n",
        "for i in range(1, 11):\n",
        "    kmeans = KMeans(n_clusters=i,random_state=0)\n",
        "    kmeans.fit(scaled_air_df)\n",
        "    wcss.append(kmeans.inertia_)\n",
        "    \n",
        "plt.plot(range(1, 11), wcss)\n",
        "plt.title('Elbow Method')\n",
        "plt.xlabel('Number of clusters')\n",
        "plt.ylabel('WCSS')\n",
        "plt.show()"
      ],
      "execution_count": null,
      "outputs": []
    },
    {
      "cell_type": "code",
      "metadata": {
        "id": "FioDMfvvrDWZ"
      },
      "source": [
        ""
      ],
      "execution_count": 95,
      "outputs": []
    },
    {
      "cell_type": "markdown",
      "metadata": {
        "id": "8TQBVOvarhXt"
      },
      "source": [
        "## ***WE HAVE CHOSEN THE BEST K VALUE IS 6. AND WE ARE GOING WITH IT***"
      ]
    },
    {
      "cell_type": "code",
      "metadata": {
        "id": "G_tlI4qkrDZx"
      },
      "source": [
        "# buuild the clusters algorithm\n",
        "from sklearn.cluster import KMeans\n",
        "kmeans_cluster = KMeans(n_clusters=6, random_state=42)\n",
        "kmeans_cluster.fit(scaled_air_df)"
      ],
      "execution_count": null,
      "outputs": []
    },
    {
      "cell_type": "code",
      "metadata": {
        "id": "0rZ-aWlN0aqo"
      },
      "source": [
        "kmeans_cluster.labels_"
      ],
      "execution_count": null,
      "outputs": []
    },
    {
      "cell_type": "markdown",
      "metadata": {
        "id": "pfEJRKrB0jSP"
      },
      "source": [
        "# ***THESE ARE THE CLUSTER MEMBERS, THAT WE ARE GOING TO APPEND IT IN THE airlines DATASET***"
      ]
    },
    {
      "cell_type": "code",
      "metadata": {
        "id": "uWTDA4Yb1YNb"
      },
      "source": [
        "air['clust6']=kmeans_cluster.labels_"
      ],
      "execution_count": 98,
      "outputs": []
    },
    {
      "cell_type": "code",
      "metadata": {
        "id": "3y0894Jz1xlG"
      },
      "source": [
        "air.head()"
      ],
      "execution_count": null,
      "outputs": []
    },
    {
      "cell_type": "code",
      "metadata": {
        "id": "GnCmSwcw0gvC"
      },
      "source": [
        "air.iloc[:,1:].groupby(air.clust6).mean()"
      ],
      "execution_count": null,
      "outputs": []
    },
    {
      "cell_type": "markdown",
      "metadata": {
        "id": "YS7-PJSU26JO"
      },
      "source": [
        "## **Inference :**\n",
        "# 1.Average flight miles travelled in last 12 month is highest for cluster 5\n",
        "\n",
        "# 2.Cluster 5 has highest average number of transactions in past 12 months\n",
        "\n",
        "# 3.Award winning average is highest in cluster 5 "
      ]
    },
    {
      "cell_type": "code",
      "metadata": {
        "id": "4LmrOUVj1lsv"
      },
      "source": [
        ""
      ],
      "execution_count": 100,
      "outputs": []
    },
    {
      "cell_type": "markdown",
      "metadata": {
        "id": "HHhiRZ-T3MZv"
      },
      "source": [
        "# ***WE HAVE CHOSEN THE BEST K VALUE IS 7. AND WE ARE GOING WITH IT***"
      ]
    },
    {
      "cell_type": "code",
      "metadata": {
        "id": "cAEFBfcJ3TsH"
      },
      "source": [
        "# buuild the clusters algorithm\n",
        "from sklearn.cluster import KMeans\n",
        "kmeans_cluster = KMeans(n_clusters=7, random_state=42)\n",
        "kmeans_cluster.fit(scaled_air_df)"
      ],
      "execution_count": null,
      "outputs": []
    },
    {
      "cell_type": "code",
      "metadata": {
        "id": "GpbsV4xO3TsI"
      },
      "source": [
        "kmeans_cluster.labels_"
      ],
      "execution_count": null,
      "outputs": []
    },
    {
      "cell_type": "markdown",
      "metadata": {
        "id": "OchNtTpb3TsI"
      },
      "source": [
        "# ***THESE ARE THE CLUSTER MEMBERS, THAT WE ARE GOING TO APPEND IT IN THE airlines DATASET***"
      ]
    },
    {
      "cell_type": "code",
      "metadata": {
        "id": "LF1aozQl3TsJ"
      },
      "source": [
        "air['clust7']=kmeans_cluster.labels_"
      ],
      "execution_count": 103,
      "outputs": []
    },
    {
      "cell_type": "code",
      "metadata": {
        "id": "os94xWz93TsL"
      },
      "source": [
        "air.iloc[:,1:].groupby(air.clust7).mean()"
      ],
      "execution_count": null,
      "outputs": []
    },
    {
      "cell_type": "markdown",
      "metadata": {
        "id": "AbK7116X3TsM"
      },
      "source": [
        "\n",
        "## ***Inference :***\n",
        "\n",
        "# 1.Average flight miles travelled in last 12 month is highest for people in cluster 5\n",
        "\n",
        "# 2.Cluster 5 has highest average number of transactions in past 12 months\n",
        "\n",
        "# 3.Award winning average is highest in cluster 5\n",
        "\n",
        "# 4. people in cluster 5 maintains highner number of miles eligible for the award travel"
      ]
    }
  ]
}