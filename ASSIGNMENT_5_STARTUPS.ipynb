{
  "nbformat": 4,
  "nbformat_minor": 0,
  "metadata": {
    "colab": {
      "name": "ASSIGNMENT_5_STARTUPS.ipynb",
      "provenance": [],
      "collapsed_sections": []
    },
    "kernelspec": {
      "name": "python3",
      "display_name": "Python 3"
    },
    "language_info": {
      "name": "python"
    },
    "widgets": {
      "application/vnd.jupyter.widget-state+json": {
        "d6e865aa74564bebb5289fe8cdb62c40": {
          "model_module": "@jupyter-widgets/controls",
          "model_name": "HBoxModel",
          "model_module_version": "1.5.0",
          "state": {
            "_view_name": "HBoxView",
            "_dom_classes": [],
            "_model_name": "HBoxModel",
            "_view_module": "@jupyter-widgets/controls",
            "_model_module_version": "1.5.0",
            "_view_count": null,
            "_view_module_version": "1.5.0",
            "box_style": "",
            "layout": "IPY_MODEL_94536d3bf2fe41e9b3c3fcc1e83044a9",
            "_model_module": "@jupyter-widgets/controls",
            "children": [
              "IPY_MODEL_82c82e1ea3d1470fae1d98f05cbe69ed",
              "IPY_MODEL_b0adbc1e807041b2948631a61453097a",
              "IPY_MODEL_ac442a6de3e44d838be8de2bd994bb85"
            ]
          }
        },
        "94536d3bf2fe41e9b3c3fcc1e83044a9": {
          "model_module": "@jupyter-widgets/base",
          "model_name": "LayoutModel",
          "model_module_version": "1.2.0",
          "state": {
            "_view_name": "LayoutView",
            "grid_template_rows": null,
            "right": null,
            "justify_content": null,
            "_view_module": "@jupyter-widgets/base",
            "overflow": null,
            "_model_module_version": "1.2.0",
            "_view_count": null,
            "flex_flow": null,
            "width": null,
            "min_width": null,
            "border": null,
            "align_items": null,
            "bottom": null,
            "_model_module": "@jupyter-widgets/base",
            "top": null,
            "grid_column": null,
            "overflow_y": null,
            "overflow_x": null,
            "grid_auto_flow": null,
            "grid_area": null,
            "grid_template_columns": null,
            "flex": null,
            "_model_name": "LayoutModel",
            "justify_items": null,
            "grid_row": null,
            "max_height": null,
            "align_content": null,
            "visibility": null,
            "align_self": null,
            "height": null,
            "min_height": null,
            "padding": null,
            "grid_auto_rows": null,
            "grid_gap": null,
            "max_width": null,
            "order": null,
            "_view_module_version": "1.2.0",
            "grid_template_areas": null,
            "object_position": null,
            "object_fit": null,
            "grid_auto_columns": null,
            "margin": null,
            "display": null,
            "left": null
          }
        },
        "82c82e1ea3d1470fae1d98f05cbe69ed": {
          "model_module": "@jupyter-widgets/controls",
          "model_name": "HTMLModel",
          "model_module_version": "1.5.0",
          "state": {
            "_view_name": "HTMLView",
            "style": "IPY_MODEL_65099160ccad42d9917d0cba12e8b195",
            "_dom_classes": [],
            "description": "",
            "_model_name": "HTMLModel",
            "placeholder": "​",
            "_view_module": "@jupyter-widgets/controls",
            "_model_module_version": "1.5.0",
            "value": "Summarize dataset: ",
            "_view_count": null,
            "_view_module_version": "1.5.0",
            "description_tooltip": null,
            "_model_module": "@jupyter-widgets/controls",
            "layout": "IPY_MODEL_3b4cfb374dc34727b329d2dcbae5f879"
          }
        },
        "b0adbc1e807041b2948631a61453097a": {
          "model_module": "@jupyter-widgets/controls",
          "model_name": "FloatProgressModel",
          "model_module_version": "1.5.0",
          "state": {
            "_view_name": "ProgressView",
            "style": "IPY_MODEL_b29a29b8cbc647f88ea45c503153ec75",
            "_dom_classes": [],
            "description": "",
            "_model_name": "FloatProgressModel",
            "bar_style": "success",
            "max": 19,
            "_view_module": "@jupyter-widgets/controls",
            "_model_module_version": "1.5.0",
            "value": 19,
            "_view_count": null,
            "_view_module_version": "1.5.0",
            "orientation": "horizontal",
            "min": 0,
            "description_tooltip": null,
            "_model_module": "@jupyter-widgets/controls",
            "layout": "IPY_MODEL_fc3820d3f9b74be7a96255f839b7d3b5"
          }
        },
        "ac442a6de3e44d838be8de2bd994bb85": {
          "model_module": "@jupyter-widgets/controls",
          "model_name": "HTMLModel",
          "model_module_version": "1.5.0",
          "state": {
            "_view_name": "HTMLView",
            "style": "IPY_MODEL_86e22be4777e4299a0e160d1c4f74067",
            "_dom_classes": [],
            "description": "",
            "_model_name": "HTMLModel",
            "placeholder": "​",
            "_view_module": "@jupyter-widgets/controls",
            "_model_module_version": "1.5.0",
            "value": " 21/? [00:04&lt;00:00,  2.67it/s, Completed]",
            "_view_count": null,
            "_view_module_version": "1.5.0",
            "description_tooltip": null,
            "_model_module": "@jupyter-widgets/controls",
            "layout": "IPY_MODEL_3afbef656ca04d13bdf4cd22be976921"
          }
        },
        "65099160ccad42d9917d0cba12e8b195": {
          "model_module": "@jupyter-widgets/controls",
          "model_name": "DescriptionStyleModel",
          "model_module_version": "1.5.0",
          "state": {
            "_view_name": "StyleView",
            "_model_name": "DescriptionStyleModel",
            "description_width": "",
            "_view_module": "@jupyter-widgets/base",
            "_model_module_version": "1.5.0",
            "_view_count": null,
            "_view_module_version": "1.2.0",
            "_model_module": "@jupyter-widgets/controls"
          }
        },
        "3b4cfb374dc34727b329d2dcbae5f879": {
          "model_module": "@jupyter-widgets/base",
          "model_name": "LayoutModel",
          "model_module_version": "1.2.0",
          "state": {
            "_view_name": "LayoutView",
            "grid_template_rows": null,
            "right": null,
            "justify_content": null,
            "_view_module": "@jupyter-widgets/base",
            "overflow": null,
            "_model_module_version": "1.2.0",
            "_view_count": null,
            "flex_flow": null,
            "width": null,
            "min_width": null,
            "border": null,
            "align_items": null,
            "bottom": null,
            "_model_module": "@jupyter-widgets/base",
            "top": null,
            "grid_column": null,
            "overflow_y": null,
            "overflow_x": null,
            "grid_auto_flow": null,
            "grid_area": null,
            "grid_template_columns": null,
            "flex": null,
            "_model_name": "LayoutModel",
            "justify_items": null,
            "grid_row": null,
            "max_height": null,
            "align_content": null,
            "visibility": null,
            "align_self": null,
            "height": null,
            "min_height": null,
            "padding": null,
            "grid_auto_rows": null,
            "grid_gap": null,
            "max_width": null,
            "order": null,
            "_view_module_version": "1.2.0",
            "grid_template_areas": null,
            "object_position": null,
            "object_fit": null,
            "grid_auto_columns": null,
            "margin": null,
            "display": null,
            "left": null
          }
        },
        "b29a29b8cbc647f88ea45c503153ec75": {
          "model_module": "@jupyter-widgets/controls",
          "model_name": "ProgressStyleModel",
          "model_module_version": "1.5.0",
          "state": {
            "_view_name": "StyleView",
            "_model_name": "ProgressStyleModel",
            "description_width": "",
            "_view_module": "@jupyter-widgets/base",
            "_model_module_version": "1.5.0",
            "_view_count": null,
            "_view_module_version": "1.2.0",
            "bar_color": null,
            "_model_module": "@jupyter-widgets/controls"
          }
        },
        "fc3820d3f9b74be7a96255f839b7d3b5": {
          "model_module": "@jupyter-widgets/base",
          "model_name": "LayoutModel",
          "model_module_version": "1.2.0",
          "state": {
            "_view_name": "LayoutView",
            "grid_template_rows": null,
            "right": null,
            "justify_content": null,
            "_view_module": "@jupyter-widgets/base",
            "overflow": null,
            "_model_module_version": "1.2.0",
            "_view_count": null,
            "flex_flow": null,
            "width": null,
            "min_width": null,
            "border": null,
            "align_items": null,
            "bottom": null,
            "_model_module": "@jupyter-widgets/base",
            "top": null,
            "grid_column": null,
            "overflow_y": null,
            "overflow_x": null,
            "grid_auto_flow": null,
            "grid_area": null,
            "grid_template_columns": null,
            "flex": null,
            "_model_name": "LayoutModel",
            "justify_items": null,
            "grid_row": null,
            "max_height": null,
            "align_content": null,
            "visibility": null,
            "align_self": null,
            "height": null,
            "min_height": null,
            "padding": null,
            "grid_auto_rows": null,
            "grid_gap": null,
            "max_width": null,
            "order": null,
            "_view_module_version": "1.2.0",
            "grid_template_areas": null,
            "object_position": null,
            "object_fit": null,
            "grid_auto_columns": null,
            "margin": null,
            "display": null,
            "left": null
          }
        },
        "86e22be4777e4299a0e160d1c4f74067": {
          "model_module": "@jupyter-widgets/controls",
          "model_name": "DescriptionStyleModel",
          "model_module_version": "1.5.0",
          "state": {
            "_view_name": "StyleView",
            "_model_name": "DescriptionStyleModel",
            "description_width": "",
            "_view_module": "@jupyter-widgets/base",
            "_model_module_version": "1.5.0",
            "_view_count": null,
            "_view_module_version": "1.2.0",
            "_model_module": "@jupyter-widgets/controls"
          }
        },
        "3afbef656ca04d13bdf4cd22be976921": {
          "model_module": "@jupyter-widgets/base",
          "model_name": "LayoutModel",
          "model_module_version": "1.2.0",
          "state": {
            "_view_name": "LayoutView",
            "grid_template_rows": null,
            "right": null,
            "justify_content": null,
            "_view_module": "@jupyter-widgets/base",
            "overflow": null,
            "_model_module_version": "1.2.0",
            "_view_count": null,
            "flex_flow": null,
            "width": null,
            "min_width": null,
            "border": null,
            "align_items": null,
            "bottom": null,
            "_model_module": "@jupyter-widgets/base",
            "top": null,
            "grid_column": null,
            "overflow_y": null,
            "overflow_x": null,
            "grid_auto_flow": null,
            "grid_area": null,
            "grid_template_columns": null,
            "flex": null,
            "_model_name": "LayoutModel",
            "justify_items": null,
            "grid_row": null,
            "max_height": null,
            "align_content": null,
            "visibility": null,
            "align_self": null,
            "height": null,
            "min_height": null,
            "padding": null,
            "grid_auto_rows": null,
            "grid_gap": null,
            "max_width": null,
            "order": null,
            "_view_module_version": "1.2.0",
            "grid_template_areas": null,
            "object_position": null,
            "object_fit": null,
            "grid_auto_columns": null,
            "margin": null,
            "display": null,
            "left": null
          }
        },
        "babb06ce6cd2461e9de9fbb27d1808b2": {
          "model_module": "@jupyter-widgets/controls",
          "model_name": "HBoxModel",
          "model_module_version": "1.5.0",
          "state": {
            "_view_name": "HBoxView",
            "_dom_classes": [],
            "_model_name": "HBoxModel",
            "_view_module": "@jupyter-widgets/controls",
            "_model_module_version": "1.5.0",
            "_view_count": null,
            "_view_module_version": "1.5.0",
            "box_style": "",
            "layout": "IPY_MODEL_4fe602038d274835863075435928b403",
            "_model_module": "@jupyter-widgets/controls",
            "children": [
              "IPY_MODEL_dbc8a4631aac4e148a9e4dfdb4d108cd",
              "IPY_MODEL_d9dbccb6a8674634bb9c65a92082e1fb",
              "IPY_MODEL_d01c04baec0f4c1298df5c07150ae697"
            ]
          }
        },
        "4fe602038d274835863075435928b403": {
          "model_module": "@jupyter-widgets/base",
          "model_name": "LayoutModel",
          "model_module_version": "1.2.0",
          "state": {
            "_view_name": "LayoutView",
            "grid_template_rows": null,
            "right": null,
            "justify_content": null,
            "_view_module": "@jupyter-widgets/base",
            "overflow": null,
            "_model_module_version": "1.2.0",
            "_view_count": null,
            "flex_flow": null,
            "width": null,
            "min_width": null,
            "border": null,
            "align_items": null,
            "bottom": null,
            "_model_module": "@jupyter-widgets/base",
            "top": null,
            "grid_column": null,
            "overflow_y": null,
            "overflow_x": null,
            "grid_auto_flow": null,
            "grid_area": null,
            "grid_template_columns": null,
            "flex": null,
            "_model_name": "LayoutModel",
            "justify_items": null,
            "grid_row": null,
            "max_height": null,
            "align_content": null,
            "visibility": null,
            "align_self": null,
            "height": null,
            "min_height": null,
            "padding": null,
            "grid_auto_rows": null,
            "grid_gap": null,
            "max_width": null,
            "order": null,
            "_view_module_version": "1.2.0",
            "grid_template_areas": null,
            "object_position": null,
            "object_fit": null,
            "grid_auto_columns": null,
            "margin": null,
            "display": null,
            "left": null
          }
        },
        "dbc8a4631aac4e148a9e4dfdb4d108cd": {
          "model_module": "@jupyter-widgets/controls",
          "model_name": "HTMLModel",
          "model_module_version": "1.5.0",
          "state": {
            "_view_name": "HTMLView",
            "style": "IPY_MODEL_6e8b5cf9d3b54e6e9acd4107a90bfcc3",
            "_dom_classes": [],
            "description": "",
            "_model_name": "HTMLModel",
            "placeholder": "​",
            "_view_module": "@jupyter-widgets/controls",
            "_model_module_version": "1.5.0",
            "value": "Generate report structure: 100%",
            "_view_count": null,
            "_view_module_version": "1.5.0",
            "description_tooltip": null,
            "_model_module": "@jupyter-widgets/controls",
            "layout": "IPY_MODEL_5f739eaf1ae24582a1fc1ec67907b53b"
          }
        },
        "d9dbccb6a8674634bb9c65a92082e1fb": {
          "model_module": "@jupyter-widgets/controls",
          "model_name": "FloatProgressModel",
          "model_module_version": "1.5.0",
          "state": {
            "_view_name": "ProgressView",
            "style": "IPY_MODEL_261bddb9c0e64559b6281f2427e4f72d",
            "_dom_classes": [],
            "description": "",
            "_model_name": "FloatProgressModel",
            "bar_style": "success",
            "max": 1,
            "_view_module": "@jupyter-widgets/controls",
            "_model_module_version": "1.5.0",
            "value": 1,
            "_view_count": null,
            "_view_module_version": "1.5.0",
            "orientation": "horizontal",
            "min": 0,
            "description_tooltip": null,
            "_model_module": "@jupyter-widgets/controls",
            "layout": "IPY_MODEL_076cfdd26c5142d688388ac8e2d1f7a7"
          }
        },
        "d01c04baec0f4c1298df5c07150ae697": {
          "model_module": "@jupyter-widgets/controls",
          "model_name": "HTMLModel",
          "model_module_version": "1.5.0",
          "state": {
            "_view_name": "HTMLView",
            "style": "IPY_MODEL_9c281c415db1413bb0abb95b7fd7149f",
            "_dom_classes": [],
            "description": "",
            "_model_name": "HTMLModel",
            "placeholder": "​",
            "_view_module": "@jupyter-widgets/controls",
            "_model_module_version": "1.5.0",
            "value": " 1/1 [00:02&lt;00:00,  2.78s/it]",
            "_view_count": null,
            "_view_module_version": "1.5.0",
            "description_tooltip": null,
            "_model_module": "@jupyter-widgets/controls",
            "layout": "IPY_MODEL_c680c705577641d38cc5c1d3f7e4adab"
          }
        },
        "6e8b5cf9d3b54e6e9acd4107a90bfcc3": {
          "model_module": "@jupyter-widgets/controls",
          "model_name": "DescriptionStyleModel",
          "model_module_version": "1.5.0",
          "state": {
            "_view_name": "StyleView",
            "_model_name": "DescriptionStyleModel",
            "description_width": "",
            "_view_module": "@jupyter-widgets/base",
            "_model_module_version": "1.5.0",
            "_view_count": null,
            "_view_module_version": "1.2.0",
            "_model_module": "@jupyter-widgets/controls"
          }
        },
        "5f739eaf1ae24582a1fc1ec67907b53b": {
          "model_module": "@jupyter-widgets/base",
          "model_name": "LayoutModel",
          "model_module_version": "1.2.0",
          "state": {
            "_view_name": "LayoutView",
            "grid_template_rows": null,
            "right": null,
            "justify_content": null,
            "_view_module": "@jupyter-widgets/base",
            "overflow": null,
            "_model_module_version": "1.2.0",
            "_view_count": null,
            "flex_flow": null,
            "width": null,
            "min_width": null,
            "border": null,
            "align_items": null,
            "bottom": null,
            "_model_module": "@jupyter-widgets/base",
            "top": null,
            "grid_column": null,
            "overflow_y": null,
            "overflow_x": null,
            "grid_auto_flow": null,
            "grid_area": null,
            "grid_template_columns": null,
            "flex": null,
            "_model_name": "LayoutModel",
            "justify_items": null,
            "grid_row": null,
            "max_height": null,
            "align_content": null,
            "visibility": null,
            "align_self": null,
            "height": null,
            "min_height": null,
            "padding": null,
            "grid_auto_rows": null,
            "grid_gap": null,
            "max_width": null,
            "order": null,
            "_view_module_version": "1.2.0",
            "grid_template_areas": null,
            "object_position": null,
            "object_fit": null,
            "grid_auto_columns": null,
            "margin": null,
            "display": null,
            "left": null
          }
        },
        "261bddb9c0e64559b6281f2427e4f72d": {
          "model_module": "@jupyter-widgets/controls",
          "model_name": "ProgressStyleModel",
          "model_module_version": "1.5.0",
          "state": {
            "_view_name": "StyleView",
            "_model_name": "ProgressStyleModel",
            "description_width": "",
            "_view_module": "@jupyter-widgets/base",
            "_model_module_version": "1.5.0",
            "_view_count": null,
            "_view_module_version": "1.2.0",
            "bar_color": null,
            "_model_module": "@jupyter-widgets/controls"
          }
        },
        "076cfdd26c5142d688388ac8e2d1f7a7": {
          "model_module": "@jupyter-widgets/base",
          "model_name": "LayoutModel",
          "model_module_version": "1.2.0",
          "state": {
            "_view_name": "LayoutView",
            "grid_template_rows": null,
            "right": null,
            "justify_content": null,
            "_view_module": "@jupyter-widgets/base",
            "overflow": null,
            "_model_module_version": "1.2.0",
            "_view_count": null,
            "flex_flow": null,
            "width": null,
            "min_width": null,
            "border": null,
            "align_items": null,
            "bottom": null,
            "_model_module": "@jupyter-widgets/base",
            "top": null,
            "grid_column": null,
            "overflow_y": null,
            "overflow_x": null,
            "grid_auto_flow": null,
            "grid_area": null,
            "grid_template_columns": null,
            "flex": null,
            "_model_name": "LayoutModel",
            "justify_items": null,
            "grid_row": null,
            "max_height": null,
            "align_content": null,
            "visibility": null,
            "align_self": null,
            "height": null,
            "min_height": null,
            "padding": null,
            "grid_auto_rows": null,
            "grid_gap": null,
            "max_width": null,
            "order": null,
            "_view_module_version": "1.2.0",
            "grid_template_areas": null,
            "object_position": null,
            "object_fit": null,
            "grid_auto_columns": null,
            "margin": null,
            "display": null,
            "left": null
          }
        },
        "9c281c415db1413bb0abb95b7fd7149f": {
          "model_module": "@jupyter-widgets/controls",
          "model_name": "DescriptionStyleModel",
          "model_module_version": "1.5.0",
          "state": {
            "_view_name": "StyleView",
            "_model_name": "DescriptionStyleModel",
            "description_width": "",
            "_view_module": "@jupyter-widgets/base",
            "_model_module_version": "1.5.0",
            "_view_count": null,
            "_view_module_version": "1.2.0",
            "_model_module": "@jupyter-widgets/controls"
          }
        },
        "c680c705577641d38cc5c1d3f7e4adab": {
          "model_module": "@jupyter-widgets/base",
          "model_name": "LayoutModel",
          "model_module_version": "1.2.0",
          "state": {
            "_view_name": "LayoutView",
            "grid_template_rows": null,
            "right": null,
            "justify_content": null,
            "_view_module": "@jupyter-widgets/base",
            "overflow": null,
            "_model_module_version": "1.2.0",
            "_view_count": null,
            "flex_flow": null,
            "width": null,
            "min_width": null,
            "border": null,
            "align_items": null,
            "bottom": null,
            "_model_module": "@jupyter-widgets/base",
            "top": null,
            "grid_column": null,
            "overflow_y": null,
            "overflow_x": null,
            "grid_auto_flow": null,
            "grid_area": null,
            "grid_template_columns": null,
            "flex": null,
            "_model_name": "LayoutModel",
            "justify_items": null,
            "grid_row": null,
            "max_height": null,
            "align_content": null,
            "visibility": null,
            "align_self": null,
            "height": null,
            "min_height": null,
            "padding": null,
            "grid_auto_rows": null,
            "grid_gap": null,
            "max_width": null,
            "order": null,
            "_view_module_version": "1.2.0",
            "grid_template_areas": null,
            "object_position": null,
            "object_fit": null,
            "grid_auto_columns": null,
            "margin": null,
            "display": null,
            "left": null
          }
        },
        "084a5f7b500041af82694ddbec1a2998": {
          "model_module": "@jupyter-widgets/controls",
          "model_name": "HBoxModel",
          "model_module_version": "1.5.0",
          "state": {
            "_view_name": "HBoxView",
            "_dom_classes": [],
            "_model_name": "HBoxModel",
            "_view_module": "@jupyter-widgets/controls",
            "_model_module_version": "1.5.0",
            "_view_count": null,
            "_view_module_version": "1.5.0",
            "box_style": "",
            "layout": "IPY_MODEL_a3490195e96a4a80bcc91cb8a0fd2062",
            "_model_module": "@jupyter-widgets/controls",
            "children": [
              "IPY_MODEL_bdb243be55be443ba8bcb888366390eb",
              "IPY_MODEL_d44322a9e5af4fc283aee54a92aa299f",
              "IPY_MODEL_d5372aee9e964a61848e5ef7606638fd"
            ]
          }
        },
        "a3490195e96a4a80bcc91cb8a0fd2062": {
          "model_module": "@jupyter-widgets/base",
          "model_name": "LayoutModel",
          "model_module_version": "1.2.0",
          "state": {
            "_view_name": "LayoutView",
            "grid_template_rows": null,
            "right": null,
            "justify_content": null,
            "_view_module": "@jupyter-widgets/base",
            "overflow": null,
            "_model_module_version": "1.2.0",
            "_view_count": null,
            "flex_flow": null,
            "width": null,
            "min_width": null,
            "border": null,
            "align_items": null,
            "bottom": null,
            "_model_module": "@jupyter-widgets/base",
            "top": null,
            "grid_column": null,
            "overflow_y": null,
            "overflow_x": null,
            "grid_auto_flow": null,
            "grid_area": null,
            "grid_template_columns": null,
            "flex": null,
            "_model_name": "LayoutModel",
            "justify_items": null,
            "grid_row": null,
            "max_height": null,
            "align_content": null,
            "visibility": null,
            "align_self": null,
            "height": null,
            "min_height": null,
            "padding": null,
            "grid_auto_rows": null,
            "grid_gap": null,
            "max_width": null,
            "order": null,
            "_view_module_version": "1.2.0",
            "grid_template_areas": null,
            "object_position": null,
            "object_fit": null,
            "grid_auto_columns": null,
            "margin": null,
            "display": null,
            "left": null
          }
        },
        "bdb243be55be443ba8bcb888366390eb": {
          "model_module": "@jupyter-widgets/controls",
          "model_name": "HTMLModel",
          "model_module_version": "1.5.0",
          "state": {
            "_view_name": "HTMLView",
            "style": "IPY_MODEL_d5d6509275e34cb5b78cce1c562d5fb9",
            "_dom_classes": [],
            "description": "",
            "_model_name": "HTMLModel",
            "placeholder": "​",
            "_view_module": "@jupyter-widgets/controls",
            "_model_module_version": "1.5.0",
            "value": "Render HTML: 100%",
            "_view_count": null,
            "_view_module_version": "1.5.0",
            "description_tooltip": null,
            "_model_module": "@jupyter-widgets/controls",
            "layout": "IPY_MODEL_8d937ab7027a451e8708497cfca48e71"
          }
        },
        "d44322a9e5af4fc283aee54a92aa299f": {
          "model_module": "@jupyter-widgets/controls",
          "model_name": "FloatProgressModel",
          "model_module_version": "1.5.0",
          "state": {
            "_view_name": "ProgressView",
            "style": "IPY_MODEL_c3d61ff4641a4c21afad0151e4df0236",
            "_dom_classes": [],
            "description": "",
            "_model_name": "FloatProgressModel",
            "bar_style": "success",
            "max": 1,
            "_view_module": "@jupyter-widgets/controls",
            "_model_module_version": "1.5.0",
            "value": 1,
            "_view_count": null,
            "_view_module_version": "1.5.0",
            "orientation": "horizontal",
            "min": 0,
            "description_tooltip": null,
            "_model_module": "@jupyter-widgets/controls",
            "layout": "IPY_MODEL_5efb63873c164ce2b29e188e16f63204"
          }
        },
        "d5372aee9e964a61848e5ef7606638fd": {
          "model_module": "@jupyter-widgets/controls",
          "model_name": "HTMLModel",
          "model_module_version": "1.5.0",
          "state": {
            "_view_name": "HTMLView",
            "style": "IPY_MODEL_61a17be9ca364395b478de42c53a21e4",
            "_dom_classes": [],
            "description": "",
            "_model_name": "HTMLModel",
            "placeholder": "​",
            "_view_module": "@jupyter-widgets/controls",
            "_model_module_version": "1.5.0",
            "value": " 1/1 [00:00&lt;00:00,  2.09it/s]",
            "_view_count": null,
            "_view_module_version": "1.5.0",
            "description_tooltip": null,
            "_model_module": "@jupyter-widgets/controls",
            "layout": "IPY_MODEL_d62db91a4e734f9d882aa28681f875a2"
          }
        },
        "d5d6509275e34cb5b78cce1c562d5fb9": {
          "model_module": "@jupyter-widgets/controls",
          "model_name": "DescriptionStyleModel",
          "model_module_version": "1.5.0",
          "state": {
            "_view_name": "StyleView",
            "_model_name": "DescriptionStyleModel",
            "description_width": "",
            "_view_module": "@jupyter-widgets/base",
            "_model_module_version": "1.5.0",
            "_view_count": null,
            "_view_module_version": "1.2.0",
            "_model_module": "@jupyter-widgets/controls"
          }
        },
        "8d937ab7027a451e8708497cfca48e71": {
          "model_module": "@jupyter-widgets/base",
          "model_name": "LayoutModel",
          "model_module_version": "1.2.0",
          "state": {
            "_view_name": "LayoutView",
            "grid_template_rows": null,
            "right": null,
            "justify_content": null,
            "_view_module": "@jupyter-widgets/base",
            "overflow": null,
            "_model_module_version": "1.2.0",
            "_view_count": null,
            "flex_flow": null,
            "width": null,
            "min_width": null,
            "border": null,
            "align_items": null,
            "bottom": null,
            "_model_module": "@jupyter-widgets/base",
            "top": null,
            "grid_column": null,
            "overflow_y": null,
            "overflow_x": null,
            "grid_auto_flow": null,
            "grid_area": null,
            "grid_template_columns": null,
            "flex": null,
            "_model_name": "LayoutModel",
            "justify_items": null,
            "grid_row": null,
            "max_height": null,
            "align_content": null,
            "visibility": null,
            "align_self": null,
            "height": null,
            "min_height": null,
            "padding": null,
            "grid_auto_rows": null,
            "grid_gap": null,
            "max_width": null,
            "order": null,
            "_view_module_version": "1.2.0",
            "grid_template_areas": null,
            "object_position": null,
            "object_fit": null,
            "grid_auto_columns": null,
            "margin": null,
            "display": null,
            "left": null
          }
        },
        "c3d61ff4641a4c21afad0151e4df0236": {
          "model_module": "@jupyter-widgets/controls",
          "model_name": "ProgressStyleModel",
          "model_module_version": "1.5.0",
          "state": {
            "_view_name": "StyleView",
            "_model_name": "ProgressStyleModel",
            "description_width": "",
            "_view_module": "@jupyter-widgets/base",
            "_model_module_version": "1.5.0",
            "_view_count": null,
            "_view_module_version": "1.2.0",
            "bar_color": null,
            "_model_module": "@jupyter-widgets/controls"
          }
        },
        "5efb63873c164ce2b29e188e16f63204": {
          "model_module": "@jupyter-widgets/base",
          "model_name": "LayoutModel",
          "model_module_version": "1.2.0",
          "state": {
            "_view_name": "LayoutView",
            "grid_template_rows": null,
            "right": null,
            "justify_content": null,
            "_view_module": "@jupyter-widgets/base",
            "overflow": null,
            "_model_module_version": "1.2.0",
            "_view_count": null,
            "flex_flow": null,
            "width": null,
            "min_width": null,
            "border": null,
            "align_items": null,
            "bottom": null,
            "_model_module": "@jupyter-widgets/base",
            "top": null,
            "grid_column": null,
            "overflow_y": null,
            "overflow_x": null,
            "grid_auto_flow": null,
            "grid_area": null,
            "grid_template_columns": null,
            "flex": null,
            "_model_name": "LayoutModel",
            "justify_items": null,
            "grid_row": null,
            "max_height": null,
            "align_content": null,
            "visibility": null,
            "align_self": null,
            "height": null,
            "min_height": null,
            "padding": null,
            "grid_auto_rows": null,
            "grid_gap": null,
            "max_width": null,
            "order": null,
            "_view_module_version": "1.2.0",
            "grid_template_areas": null,
            "object_position": null,
            "object_fit": null,
            "grid_auto_columns": null,
            "margin": null,
            "display": null,
            "left": null
          }
        },
        "61a17be9ca364395b478de42c53a21e4": {
          "model_module": "@jupyter-widgets/controls",
          "model_name": "DescriptionStyleModel",
          "model_module_version": "1.5.0",
          "state": {
            "_view_name": "StyleView",
            "_model_name": "DescriptionStyleModel",
            "description_width": "",
            "_view_module": "@jupyter-widgets/base",
            "_model_module_version": "1.5.0",
            "_view_count": null,
            "_view_module_version": "1.2.0",
            "_model_module": "@jupyter-widgets/controls"
          }
        },
        "d62db91a4e734f9d882aa28681f875a2": {
          "model_module": "@jupyter-widgets/base",
          "model_name": "LayoutModel",
          "model_module_version": "1.2.0",
          "state": {
            "_view_name": "LayoutView",
            "grid_template_rows": null,
            "right": null,
            "justify_content": null,
            "_view_module": "@jupyter-widgets/base",
            "overflow": null,
            "_model_module_version": "1.2.0",
            "_view_count": null,
            "flex_flow": null,
            "width": null,
            "min_width": null,
            "border": null,
            "align_items": null,
            "bottom": null,
            "_model_module": "@jupyter-widgets/base",
            "top": null,
            "grid_column": null,
            "overflow_y": null,
            "overflow_x": null,
            "grid_auto_flow": null,
            "grid_area": null,
            "grid_template_columns": null,
            "flex": null,
            "_model_name": "LayoutModel",
            "justify_items": null,
            "grid_row": null,
            "max_height": null,
            "align_content": null,
            "visibility": null,
            "align_self": null,
            "height": null,
            "min_height": null,
            "padding": null,
            "grid_auto_rows": null,
            "grid_gap": null,
            "max_width": null,
            "order": null,
            "_view_module_version": "1.2.0",
            "grid_template_areas": null,
            "object_position": null,
            "object_fit": null,
            "grid_auto_columns": null,
            "margin": null,
            "display": null,
            "left": null
          }
        },
        "9d650c429b7f40ddad6064ca9d005dcf": {
          "model_module": "@jupyter-widgets/controls",
          "model_name": "HBoxModel",
          "model_module_version": "1.5.0",
          "state": {
            "_view_name": "HBoxView",
            "_dom_classes": [],
            "_model_name": "HBoxModel",
            "_view_module": "@jupyter-widgets/controls",
            "_model_module_version": "1.5.0",
            "_view_count": null,
            "_view_module_version": "1.5.0",
            "box_style": "",
            "layout": "IPY_MODEL_066c7883eb784db1a94e16782adde679",
            "_model_module": "@jupyter-widgets/controls",
            "children": [
              "IPY_MODEL_b59087bf493749cd9354bd5577d01527",
              "IPY_MODEL_9191f226c3b64405af7daab3477ec70a",
              "IPY_MODEL_c0e7663d646e40a793beef2b546dbfad"
            ]
          }
        },
        "066c7883eb784db1a94e16782adde679": {
          "model_module": "@jupyter-widgets/base",
          "model_name": "LayoutModel",
          "model_module_version": "1.2.0",
          "state": {
            "_view_name": "LayoutView",
            "grid_template_rows": null,
            "right": null,
            "justify_content": null,
            "_view_module": "@jupyter-widgets/base",
            "overflow": null,
            "_model_module_version": "1.2.0",
            "_view_count": null,
            "flex_flow": null,
            "width": null,
            "min_width": null,
            "border": null,
            "align_items": null,
            "bottom": null,
            "_model_module": "@jupyter-widgets/base",
            "top": null,
            "grid_column": null,
            "overflow_y": null,
            "overflow_x": null,
            "grid_auto_flow": null,
            "grid_area": null,
            "grid_template_columns": null,
            "flex": null,
            "_model_name": "LayoutModel",
            "justify_items": null,
            "grid_row": null,
            "max_height": null,
            "align_content": null,
            "visibility": null,
            "align_self": null,
            "height": null,
            "min_height": null,
            "padding": null,
            "grid_auto_rows": null,
            "grid_gap": null,
            "max_width": null,
            "order": null,
            "_view_module_version": "1.2.0",
            "grid_template_areas": null,
            "object_position": null,
            "object_fit": null,
            "grid_auto_columns": null,
            "margin": null,
            "display": null,
            "left": null
          }
        },
        "b59087bf493749cd9354bd5577d01527": {
          "model_module": "@jupyter-widgets/controls",
          "model_name": "HTMLModel",
          "model_module_version": "1.5.0",
          "state": {
            "_view_name": "HTMLView",
            "style": "IPY_MODEL_24f1659aca8d4b1184e46a90a8f1499d",
            "_dom_classes": [],
            "description": "",
            "_model_name": "HTMLModel",
            "placeholder": "​",
            "_view_module": "@jupyter-widgets/controls",
            "_model_module_version": "1.5.0",
            "value": "Export report to file: 100%",
            "_view_count": null,
            "_view_module_version": "1.5.0",
            "description_tooltip": null,
            "_model_module": "@jupyter-widgets/controls",
            "layout": "IPY_MODEL_0d06292f57c44b91940c878be51007d6"
          }
        },
        "9191f226c3b64405af7daab3477ec70a": {
          "model_module": "@jupyter-widgets/controls",
          "model_name": "FloatProgressModel",
          "model_module_version": "1.5.0",
          "state": {
            "_view_name": "ProgressView",
            "style": "IPY_MODEL_befb7c0b1a8c40f6bf1b5a6d1ec45060",
            "_dom_classes": [],
            "description": "",
            "_model_name": "FloatProgressModel",
            "bar_style": "success",
            "max": 1,
            "_view_module": "@jupyter-widgets/controls",
            "_model_module_version": "1.5.0",
            "value": 1,
            "_view_count": null,
            "_view_module_version": "1.5.0",
            "orientation": "horizontal",
            "min": 0,
            "description_tooltip": null,
            "_model_module": "@jupyter-widgets/controls",
            "layout": "IPY_MODEL_50e6c4630c3e4804b788324525b8e5a4"
          }
        },
        "c0e7663d646e40a793beef2b546dbfad": {
          "model_module": "@jupyter-widgets/controls",
          "model_name": "HTMLModel",
          "model_module_version": "1.5.0",
          "state": {
            "_view_name": "HTMLView",
            "style": "IPY_MODEL_6c6adbc9e8414b7bb67035e7c95acbad",
            "_dom_classes": [],
            "description": "",
            "_model_name": "HTMLModel",
            "placeholder": "​",
            "_view_module": "@jupyter-widgets/controls",
            "_model_module_version": "1.5.0",
            "value": " 1/1 [00:00&lt;00:00, 17.78it/s]",
            "_view_count": null,
            "_view_module_version": "1.5.0",
            "description_tooltip": null,
            "_model_module": "@jupyter-widgets/controls",
            "layout": "IPY_MODEL_eea149b8f25b418f875a3a017ea0d3aa"
          }
        },
        "24f1659aca8d4b1184e46a90a8f1499d": {
          "model_module": "@jupyter-widgets/controls",
          "model_name": "DescriptionStyleModel",
          "model_module_version": "1.5.0",
          "state": {
            "_view_name": "StyleView",
            "_model_name": "DescriptionStyleModel",
            "description_width": "",
            "_view_module": "@jupyter-widgets/base",
            "_model_module_version": "1.5.0",
            "_view_count": null,
            "_view_module_version": "1.2.0",
            "_model_module": "@jupyter-widgets/controls"
          }
        },
        "0d06292f57c44b91940c878be51007d6": {
          "model_module": "@jupyter-widgets/base",
          "model_name": "LayoutModel",
          "model_module_version": "1.2.0",
          "state": {
            "_view_name": "LayoutView",
            "grid_template_rows": null,
            "right": null,
            "justify_content": null,
            "_view_module": "@jupyter-widgets/base",
            "overflow": null,
            "_model_module_version": "1.2.0",
            "_view_count": null,
            "flex_flow": null,
            "width": null,
            "min_width": null,
            "border": null,
            "align_items": null,
            "bottom": null,
            "_model_module": "@jupyter-widgets/base",
            "top": null,
            "grid_column": null,
            "overflow_y": null,
            "overflow_x": null,
            "grid_auto_flow": null,
            "grid_area": null,
            "grid_template_columns": null,
            "flex": null,
            "_model_name": "LayoutModel",
            "justify_items": null,
            "grid_row": null,
            "max_height": null,
            "align_content": null,
            "visibility": null,
            "align_self": null,
            "height": null,
            "min_height": null,
            "padding": null,
            "grid_auto_rows": null,
            "grid_gap": null,
            "max_width": null,
            "order": null,
            "_view_module_version": "1.2.0",
            "grid_template_areas": null,
            "object_position": null,
            "object_fit": null,
            "grid_auto_columns": null,
            "margin": null,
            "display": null,
            "left": null
          }
        },
        "befb7c0b1a8c40f6bf1b5a6d1ec45060": {
          "model_module": "@jupyter-widgets/controls",
          "model_name": "ProgressStyleModel",
          "model_module_version": "1.5.0",
          "state": {
            "_view_name": "StyleView",
            "_model_name": "ProgressStyleModel",
            "description_width": "",
            "_view_module": "@jupyter-widgets/base",
            "_model_module_version": "1.5.0",
            "_view_count": null,
            "_view_module_version": "1.2.0",
            "bar_color": null,
            "_model_module": "@jupyter-widgets/controls"
          }
        },
        "50e6c4630c3e4804b788324525b8e5a4": {
          "model_module": "@jupyter-widgets/base",
          "model_name": "LayoutModel",
          "model_module_version": "1.2.0",
          "state": {
            "_view_name": "LayoutView",
            "grid_template_rows": null,
            "right": null,
            "justify_content": null,
            "_view_module": "@jupyter-widgets/base",
            "overflow": null,
            "_model_module_version": "1.2.0",
            "_view_count": null,
            "flex_flow": null,
            "width": null,
            "min_width": null,
            "border": null,
            "align_items": null,
            "bottom": null,
            "_model_module": "@jupyter-widgets/base",
            "top": null,
            "grid_column": null,
            "overflow_y": null,
            "overflow_x": null,
            "grid_auto_flow": null,
            "grid_area": null,
            "grid_template_columns": null,
            "flex": null,
            "_model_name": "LayoutModel",
            "justify_items": null,
            "grid_row": null,
            "max_height": null,
            "align_content": null,
            "visibility": null,
            "align_self": null,
            "height": null,
            "min_height": null,
            "padding": null,
            "grid_auto_rows": null,
            "grid_gap": null,
            "max_width": null,
            "order": null,
            "_view_module_version": "1.2.0",
            "grid_template_areas": null,
            "object_position": null,
            "object_fit": null,
            "grid_auto_columns": null,
            "margin": null,
            "display": null,
            "left": null
          }
        },
        "6c6adbc9e8414b7bb67035e7c95acbad": {
          "model_module": "@jupyter-widgets/controls",
          "model_name": "DescriptionStyleModel",
          "model_module_version": "1.5.0",
          "state": {
            "_view_name": "StyleView",
            "_model_name": "DescriptionStyleModel",
            "description_width": "",
            "_view_module": "@jupyter-widgets/base",
            "_model_module_version": "1.5.0",
            "_view_count": null,
            "_view_module_version": "1.2.0",
            "_model_module": "@jupyter-widgets/controls"
          }
        },
        "eea149b8f25b418f875a3a017ea0d3aa": {
          "model_module": "@jupyter-widgets/base",
          "model_name": "LayoutModel",
          "model_module_version": "1.2.0",
          "state": {
            "_view_name": "LayoutView",
            "grid_template_rows": null,
            "right": null,
            "justify_content": null,
            "_view_module": "@jupyter-widgets/base",
            "overflow": null,
            "_model_module_version": "1.2.0",
            "_view_count": null,
            "flex_flow": null,
            "width": null,
            "min_width": null,
            "border": null,
            "align_items": null,
            "bottom": null,
            "_model_module": "@jupyter-widgets/base",
            "top": null,
            "grid_column": null,
            "overflow_y": null,
            "overflow_x": null,
            "grid_auto_flow": null,
            "grid_area": null,
            "grid_template_columns": null,
            "flex": null,
            "_model_name": "LayoutModel",
            "justify_items": null,
            "grid_row": null,
            "max_height": null,
            "align_content": null,
            "visibility": null,
            "align_self": null,
            "height": null,
            "min_height": null,
            "padding": null,
            "grid_auto_rows": null,
            "grid_gap": null,
            "max_width": null,
            "order": null,
            "_view_module_version": "1.2.0",
            "grid_template_areas": null,
            "object_position": null,
            "object_fit": null,
            "grid_auto_columns": null,
            "margin": null,
            "display": null,
            "left": null
          }
        },
        "487df74d1fdf40fa8873ce90b74c14e6": {
          "model_module": "@jupyter-widgets/controls",
          "model_name": "HBoxModel",
          "model_module_version": "1.5.0",
          "state": {
            "_view_name": "HBoxView",
            "_dom_classes": [],
            "_model_name": "HBoxModel",
            "_view_module": "@jupyter-widgets/controls",
            "_model_module_version": "1.5.0",
            "_view_count": null,
            "_view_module_version": "1.5.0",
            "box_style": "",
            "layout": "IPY_MODEL_f500fc0cf86248d09141ab00a35f9e2c",
            "_model_module": "@jupyter-widgets/controls",
            "children": [
              "IPY_MODEL_2455c083ac0244dca564471453f866e7",
              "IPY_MODEL_fb11701e69904ddf8fc42c355f2e974a",
              "IPY_MODEL_c3b0631b7da845d8bbcc46a4f1cc11cd"
            ]
          }
        },
        "f500fc0cf86248d09141ab00a35f9e2c": {
          "model_module": "@jupyter-widgets/base",
          "model_name": "LayoutModel",
          "model_module_version": "1.2.0",
          "state": {
            "_view_name": "LayoutView",
            "grid_template_rows": null,
            "right": null,
            "justify_content": null,
            "_view_module": "@jupyter-widgets/base",
            "overflow": null,
            "_model_module_version": "1.2.0",
            "_view_count": null,
            "flex_flow": "row wrap",
            "width": "100%",
            "min_width": null,
            "border": null,
            "align_items": null,
            "bottom": null,
            "_model_module": "@jupyter-widgets/base",
            "top": null,
            "grid_column": null,
            "overflow_y": null,
            "overflow_x": null,
            "grid_auto_flow": null,
            "grid_area": null,
            "grid_template_columns": null,
            "flex": null,
            "_model_name": "LayoutModel",
            "justify_items": null,
            "grid_row": null,
            "max_height": null,
            "align_content": null,
            "visibility": null,
            "align_self": null,
            "height": null,
            "min_height": null,
            "padding": null,
            "grid_auto_rows": null,
            "grid_gap": null,
            "max_width": null,
            "order": null,
            "_view_module_version": "1.2.0",
            "grid_template_areas": null,
            "object_position": null,
            "object_fit": null,
            "grid_auto_columns": null,
            "margin": null,
            "display": "inline-flex",
            "left": null
          }
        },
        "2455c083ac0244dca564471453f866e7": {
          "model_module": "@jupyter-widgets/controls",
          "model_name": "HTMLModel",
          "model_module_version": "1.5.0",
          "state": {
            "_view_name": "HTMLView",
            "style": "IPY_MODEL_3fae405901c94bd3bd410b984a38298c",
            "_dom_classes": [],
            "description": "",
            "_model_name": "HTMLModel",
            "placeholder": "​",
            "_view_module": "@jupyter-widgets/controls",
            "_model_module_version": "1.5.0",
            "value": "Done! Use &#x27;show&#x27; commands to display/save.   ",
            "_view_count": null,
            "_view_module_version": "1.5.0",
            "description_tooltip": null,
            "_model_module": "@jupyter-widgets/controls",
            "layout": "IPY_MODEL_810db3ca93e44f2b915ecdd91ae3129f"
          }
        },
        "fb11701e69904ddf8fc42c355f2e974a": {
          "model_module": "@jupyter-widgets/controls",
          "model_name": "FloatProgressModel",
          "model_module_version": "1.5.0",
          "state": {
            "_view_name": "ProgressView",
            "style": "IPY_MODEL_7a3c120721ed4be990056ea0ecaecd2d",
            "_dom_classes": [],
            "description": "",
            "_model_name": "FloatProgressModel",
            "bar_style": "success",
            "max": 1,
            "_view_module": "@jupyter-widgets/controls",
            "_model_module_version": "1.5.0",
            "value": 1,
            "_view_count": null,
            "_view_module_version": "1.5.0",
            "orientation": "horizontal",
            "min": 0,
            "description_tooltip": null,
            "_model_module": "@jupyter-widgets/controls",
            "layout": "IPY_MODEL_cf0498637e07476aa8bff9808d5563c8"
          }
        },
        "c3b0631b7da845d8bbcc46a4f1cc11cd": {
          "model_module": "@jupyter-widgets/controls",
          "model_name": "HTMLModel",
          "model_module_version": "1.5.0",
          "state": {
            "_view_name": "HTMLView",
            "style": "IPY_MODEL_3e0f3357db1d4879b55c16d748152772",
            "_dom_classes": [],
            "description": "",
            "_model_name": "HTMLModel",
            "placeholder": "​",
            "_view_module": "@jupyter-widgets/controls",
            "_model_module_version": "1.5.0",
            "value": " [100%]   00:01 -&gt; (00:00 left)",
            "_view_count": null,
            "_view_module_version": "1.5.0",
            "description_tooltip": null,
            "_model_module": "@jupyter-widgets/controls",
            "layout": "IPY_MODEL_54750df4397747c7a01f2d981987c14f"
          }
        },
        "3fae405901c94bd3bd410b984a38298c": {
          "model_module": "@jupyter-widgets/controls",
          "model_name": "DescriptionStyleModel",
          "model_module_version": "1.5.0",
          "state": {
            "_view_name": "StyleView",
            "_model_name": "DescriptionStyleModel",
            "description_width": "",
            "_view_module": "@jupyter-widgets/base",
            "_model_module_version": "1.5.0",
            "_view_count": null,
            "_view_module_version": "1.2.0",
            "_model_module": "@jupyter-widgets/controls"
          }
        },
        "810db3ca93e44f2b915ecdd91ae3129f": {
          "model_module": "@jupyter-widgets/base",
          "model_name": "LayoutModel",
          "model_module_version": "1.2.0",
          "state": {
            "_view_name": "LayoutView",
            "grid_template_rows": null,
            "right": null,
            "justify_content": null,
            "_view_module": "@jupyter-widgets/base",
            "overflow": null,
            "_model_module_version": "1.2.0",
            "_view_count": null,
            "flex_flow": null,
            "width": null,
            "min_width": null,
            "border": null,
            "align_items": null,
            "bottom": null,
            "_model_module": "@jupyter-widgets/base",
            "top": null,
            "grid_column": null,
            "overflow_y": null,
            "overflow_x": null,
            "grid_auto_flow": null,
            "grid_area": null,
            "grid_template_columns": null,
            "flex": null,
            "_model_name": "LayoutModel",
            "justify_items": null,
            "grid_row": null,
            "max_height": null,
            "align_content": null,
            "visibility": null,
            "align_self": null,
            "height": null,
            "min_height": null,
            "padding": null,
            "grid_auto_rows": null,
            "grid_gap": null,
            "max_width": null,
            "order": null,
            "_view_module_version": "1.2.0",
            "grid_template_areas": null,
            "object_position": null,
            "object_fit": null,
            "grid_auto_columns": null,
            "margin": null,
            "display": null,
            "left": null
          }
        },
        "7a3c120721ed4be990056ea0ecaecd2d": {
          "model_module": "@jupyter-widgets/controls",
          "model_name": "ProgressStyleModel",
          "model_module_version": "1.5.0",
          "state": {
            "_view_name": "StyleView",
            "_model_name": "ProgressStyleModel",
            "description_width": "",
            "_view_module": "@jupyter-widgets/base",
            "_model_module_version": "1.5.0",
            "_view_count": null,
            "_view_module_version": "1.2.0",
            "bar_color": null,
            "_model_module": "@jupyter-widgets/controls"
          }
        },
        "cf0498637e07476aa8bff9808d5563c8": {
          "model_module": "@jupyter-widgets/base",
          "model_name": "LayoutModel",
          "model_module_version": "1.2.0",
          "state": {
            "_view_name": "LayoutView",
            "grid_template_rows": null,
            "right": null,
            "justify_content": null,
            "_view_module": "@jupyter-widgets/base",
            "overflow": null,
            "_model_module_version": "1.2.0",
            "_view_count": null,
            "flex_flow": null,
            "width": null,
            "min_width": null,
            "border": null,
            "align_items": null,
            "bottom": null,
            "_model_module": "@jupyter-widgets/base",
            "top": null,
            "grid_column": null,
            "overflow_y": null,
            "overflow_x": null,
            "grid_auto_flow": null,
            "grid_area": null,
            "grid_template_columns": null,
            "flex": "2",
            "_model_name": "LayoutModel",
            "justify_items": null,
            "grid_row": null,
            "max_height": null,
            "align_content": null,
            "visibility": null,
            "align_self": null,
            "height": null,
            "min_height": null,
            "padding": null,
            "grid_auto_rows": null,
            "grid_gap": null,
            "max_width": null,
            "order": null,
            "_view_module_version": "1.2.0",
            "grid_template_areas": null,
            "object_position": null,
            "object_fit": null,
            "grid_auto_columns": null,
            "margin": null,
            "display": null,
            "left": null
          }
        },
        "3e0f3357db1d4879b55c16d748152772": {
          "model_module": "@jupyter-widgets/controls",
          "model_name": "DescriptionStyleModel",
          "model_module_version": "1.5.0",
          "state": {
            "_view_name": "StyleView",
            "_model_name": "DescriptionStyleModel",
            "description_width": "",
            "_view_module": "@jupyter-widgets/base",
            "_model_module_version": "1.5.0",
            "_view_count": null,
            "_view_module_version": "1.2.0",
            "_model_module": "@jupyter-widgets/controls"
          }
        },
        "54750df4397747c7a01f2d981987c14f": {
          "model_module": "@jupyter-widgets/base",
          "model_name": "LayoutModel",
          "model_module_version": "1.2.0",
          "state": {
            "_view_name": "LayoutView",
            "grid_template_rows": null,
            "right": null,
            "justify_content": null,
            "_view_module": "@jupyter-widgets/base",
            "overflow": null,
            "_model_module_version": "1.2.0",
            "_view_count": null,
            "flex_flow": null,
            "width": null,
            "min_width": null,
            "border": null,
            "align_items": null,
            "bottom": null,
            "_model_module": "@jupyter-widgets/base",
            "top": null,
            "grid_column": null,
            "overflow_y": null,
            "overflow_x": null,
            "grid_auto_flow": null,
            "grid_area": null,
            "grid_template_columns": null,
            "flex": null,
            "_model_name": "LayoutModel",
            "justify_items": null,
            "grid_row": null,
            "max_height": null,
            "align_content": null,
            "visibility": null,
            "align_self": null,
            "height": null,
            "min_height": null,
            "padding": null,
            "grid_auto_rows": null,
            "grid_gap": null,
            "max_width": null,
            "order": null,
            "_view_module_version": "1.2.0",
            "grid_template_areas": null,
            "object_position": null,
            "object_fit": null,
            "grid_auto_columns": null,
            "margin": null,
            "display": null,
            "left": null
          }
        }
      }
    }
  },
  "cells": [
    {
      "cell_type": "markdown",
      "metadata": {
        "id": "JE3uJAfXpfcl"
      },
      "source": [
        "Prepare a prediction model for profit of 50_startups data.\n",
        "\n",
        "Do transformations for getting better predictions of profit and make a table containing R^2 value for each prepared model.\n",
        "\n",
        "R&D Spend -- Research and devolop spend in the past few years\n",
        "\n",
        "Administration -- spend on administration in the past few years\n",
        "\n",
        "Marketing Spend -- spend on Marketing in the past few years\n",
        "\n",
        "State -- states from which data is collected\n",
        "\n",
        "Profit  -- profit of each state in the past few years\n"
      ]
    },
    {
      "cell_type": "code",
      "metadata": {
        "id": "RqMNdVMwoo5-"
      },
      "source": [
        "import pandas as pd\n",
        "import matplotlib.pyplot as plt\n",
        "import seaborn as sns\n",
        "from statsmodels.graphics.regressionplots import influence_plot\n",
        "import statsmodels.formula.api as smf\n",
        "\n",
        "import numpy as np"
      ],
      "execution_count": 402,
      "outputs": []
    },
    {
      "cell_type": "code",
      "metadata": {
        "id": "4LmJdsl8psmF"
      },
      "source": [
        "startup=pd.read_csv('/content/50_Startups.csv')"
      ],
      "execution_count": 403,
      "outputs": []
    },
    {
      "cell_type": "code",
      "metadata": {
        "colab": {
          "base_uri": "https://localhost:8080/",
          "height": 205
        },
        "id": "PuA6d7swpsoz",
        "outputId": "e8b6bc22-7cef-4fd6-db72-c6926f4891b9"
      },
      "source": [
        "startup.head()"
      ],
      "execution_count": 404,
      "outputs": [
        {
          "output_type": "execute_result",
          "data": {
            "text/html": [
              "<div>\n",
              "<style scoped>\n",
              "    .dataframe tbody tr th:only-of-type {\n",
              "        vertical-align: middle;\n",
              "    }\n",
              "\n",
              "    .dataframe tbody tr th {\n",
              "        vertical-align: top;\n",
              "    }\n",
              "\n",
              "    .dataframe thead th {\n",
              "        text-align: right;\n",
              "    }\n",
              "</style>\n",
              "<table border=\"1\" class=\"dataframe\">\n",
              "  <thead>\n",
              "    <tr style=\"text-align: right;\">\n",
              "      <th></th>\n",
              "      <th>R&amp;D Spend</th>\n",
              "      <th>Administration</th>\n",
              "      <th>Marketing Spend</th>\n",
              "      <th>State</th>\n",
              "      <th>Profit</th>\n",
              "    </tr>\n",
              "  </thead>\n",
              "  <tbody>\n",
              "    <tr>\n",
              "      <th>0</th>\n",
              "      <td>165349.20</td>\n",
              "      <td>136897.80</td>\n",
              "      <td>471784.10</td>\n",
              "      <td>New York</td>\n",
              "      <td>192261.83</td>\n",
              "    </tr>\n",
              "    <tr>\n",
              "      <th>1</th>\n",
              "      <td>162597.70</td>\n",
              "      <td>151377.59</td>\n",
              "      <td>443898.53</td>\n",
              "      <td>California</td>\n",
              "      <td>191792.06</td>\n",
              "    </tr>\n",
              "    <tr>\n",
              "      <th>2</th>\n",
              "      <td>153441.51</td>\n",
              "      <td>101145.55</td>\n",
              "      <td>407934.54</td>\n",
              "      <td>Florida</td>\n",
              "      <td>191050.39</td>\n",
              "    </tr>\n",
              "    <tr>\n",
              "      <th>3</th>\n",
              "      <td>144372.41</td>\n",
              "      <td>118671.85</td>\n",
              "      <td>383199.62</td>\n",
              "      <td>New York</td>\n",
              "      <td>182901.99</td>\n",
              "    </tr>\n",
              "    <tr>\n",
              "      <th>4</th>\n",
              "      <td>142107.34</td>\n",
              "      <td>91391.77</td>\n",
              "      <td>366168.42</td>\n",
              "      <td>Florida</td>\n",
              "      <td>166187.94</td>\n",
              "    </tr>\n",
              "  </tbody>\n",
              "</table>\n",
              "</div>"
            ],
            "text/plain": [
              "   R&D Spend  Administration  Marketing Spend       State     Profit\n",
              "0  165349.20       136897.80        471784.10    New York  192261.83\n",
              "1  162597.70       151377.59        443898.53  California  191792.06\n",
              "2  153441.51       101145.55        407934.54     Florida  191050.39\n",
              "3  144372.41       118671.85        383199.62    New York  182901.99\n",
              "4  142107.34        91391.77        366168.42     Florida  166187.94"
            ]
          },
          "metadata": {},
          "execution_count": 404
        }
      ]
    },
    {
      "cell_type": "code",
      "metadata": {
        "colab": {
          "base_uri": "https://localhost:8080/"
        },
        "id": "Sk6YasZrpsrJ",
        "outputId": "cdc46881-b963-49b1-beda-ff57785a52b6"
      },
      "source": [
        "startup.info()"
      ],
      "execution_count": 405,
      "outputs": [
        {
          "output_type": "stream",
          "name": "stdout",
          "text": [
            "<class 'pandas.core.frame.DataFrame'>\n",
            "RangeIndex: 50 entries, 0 to 49\n",
            "Data columns (total 5 columns):\n",
            " #   Column           Non-Null Count  Dtype  \n",
            "---  ------           --------------  -----  \n",
            " 0   R&D Spend        50 non-null     float64\n",
            " 1   Administration   50 non-null     float64\n",
            " 2   Marketing Spend  50 non-null     float64\n",
            " 3   State            50 non-null     object \n",
            " 4   Profit           50 non-null     float64\n",
            "dtypes: float64(4), object(1)\n",
            "memory usage: 2.1+ KB\n"
          ]
        }
      ]
    },
    {
      "cell_type": "markdown",
      "metadata": {
        "id": "0gb-yaiRv5RN"
      },
      "source": [
        "## **TO FIND DUPLICATES**"
      ]
    },
    {
      "cell_type": "code",
      "metadata": {
        "colab": {
          "base_uri": "https://localhost:8080/"
        },
        "id": "3F02jRCAuiYn",
        "outputId": "9e590ebf-d2e5-4dd6-f545-5747b50daa84"
      },
      "source": [
        "startup.duplicated()"
      ],
      "execution_count": 406,
      "outputs": [
        {
          "output_type": "execute_result",
          "data": {
            "text/plain": [
              "0     False\n",
              "1     False\n",
              "2     False\n",
              "3     False\n",
              "4     False\n",
              "5     False\n",
              "6     False\n",
              "7     False\n",
              "8     False\n",
              "9     False\n",
              "10    False\n",
              "11    False\n",
              "12    False\n",
              "13    False\n",
              "14    False\n",
              "15    False\n",
              "16    False\n",
              "17    False\n",
              "18    False\n",
              "19    False\n",
              "20    False\n",
              "21    False\n",
              "22    False\n",
              "23    False\n",
              "24    False\n",
              "25    False\n",
              "26    False\n",
              "27    False\n",
              "28    False\n",
              "29    False\n",
              "30    False\n",
              "31    False\n",
              "32    False\n",
              "33    False\n",
              "34    False\n",
              "35    False\n",
              "36    False\n",
              "37    False\n",
              "38    False\n",
              "39    False\n",
              "40    False\n",
              "41    False\n",
              "42    False\n",
              "43    False\n",
              "44    False\n",
              "45    False\n",
              "46    False\n",
              "47    False\n",
              "48    False\n",
              "49    False\n",
              "dtype: bool"
            ]
          },
          "metadata": {},
          "execution_count": 406
        }
      ]
    },
    {
      "cell_type": "code",
      "metadata": {
        "colab": {
          "base_uri": "https://localhost:8080/"
        },
        "id": "rmHA-Q2HwLE1",
        "outputId": "c3418033-95e2-47b0-aba2-79fcdec96481"
      },
      "source": [
        "startup[startup.duplicated()].shape"
      ],
      "execution_count": 407,
      "outputs": [
        {
          "output_type": "execute_result",
          "data": {
            "text/plain": [
              "(0, 5)"
            ]
          },
          "metadata": {},
          "execution_count": 407
        }
      ]
    },
    {
      "cell_type": "markdown",
      "metadata": {
        "id": "XMsG-bcVwliN"
      },
      "source": [
        "## **RENAME COLUMNS**"
      ]
    },
    {
      "cell_type": "code",
      "metadata": {
        "id": "muxsqKhArTYv"
      },
      "source": [
        "startup.rename(columns={'R&D Spend':'rdspend','Administration':'admin', 'Marketing Spend':'Mspend'},inplace=True)"
      ],
      "execution_count": 408,
      "outputs": []
    },
    {
      "cell_type": "code",
      "metadata": {
        "colab": {
          "base_uri": "https://localhost:8080/",
          "height": 205
        },
        "id": "cD56tvBFsM62",
        "outputId": "8096a522-860e-47dc-a889-0ef26fdbbfdc"
      },
      "source": [
        "startup.head()"
      ],
      "execution_count": 409,
      "outputs": [
        {
          "output_type": "execute_result",
          "data": {
            "text/html": [
              "<div>\n",
              "<style scoped>\n",
              "    .dataframe tbody tr th:only-of-type {\n",
              "        vertical-align: middle;\n",
              "    }\n",
              "\n",
              "    .dataframe tbody tr th {\n",
              "        vertical-align: top;\n",
              "    }\n",
              "\n",
              "    .dataframe thead th {\n",
              "        text-align: right;\n",
              "    }\n",
              "</style>\n",
              "<table border=\"1\" class=\"dataframe\">\n",
              "  <thead>\n",
              "    <tr style=\"text-align: right;\">\n",
              "      <th></th>\n",
              "      <th>rdspend</th>\n",
              "      <th>admin</th>\n",
              "      <th>Mspend</th>\n",
              "      <th>State</th>\n",
              "      <th>Profit</th>\n",
              "    </tr>\n",
              "  </thead>\n",
              "  <tbody>\n",
              "    <tr>\n",
              "      <th>0</th>\n",
              "      <td>165349.20</td>\n",
              "      <td>136897.80</td>\n",
              "      <td>471784.10</td>\n",
              "      <td>New York</td>\n",
              "      <td>192261.83</td>\n",
              "    </tr>\n",
              "    <tr>\n",
              "      <th>1</th>\n",
              "      <td>162597.70</td>\n",
              "      <td>151377.59</td>\n",
              "      <td>443898.53</td>\n",
              "      <td>California</td>\n",
              "      <td>191792.06</td>\n",
              "    </tr>\n",
              "    <tr>\n",
              "      <th>2</th>\n",
              "      <td>153441.51</td>\n",
              "      <td>101145.55</td>\n",
              "      <td>407934.54</td>\n",
              "      <td>Florida</td>\n",
              "      <td>191050.39</td>\n",
              "    </tr>\n",
              "    <tr>\n",
              "      <th>3</th>\n",
              "      <td>144372.41</td>\n",
              "      <td>118671.85</td>\n",
              "      <td>383199.62</td>\n",
              "      <td>New York</td>\n",
              "      <td>182901.99</td>\n",
              "    </tr>\n",
              "    <tr>\n",
              "      <th>4</th>\n",
              "      <td>142107.34</td>\n",
              "      <td>91391.77</td>\n",
              "      <td>366168.42</td>\n",
              "      <td>Florida</td>\n",
              "      <td>166187.94</td>\n",
              "    </tr>\n",
              "  </tbody>\n",
              "</table>\n",
              "</div>"
            ],
            "text/plain": [
              "     rdspend      admin     Mspend       State     Profit\n",
              "0  165349.20  136897.80  471784.10    New York  192261.83\n",
              "1  162597.70  151377.59  443898.53  California  191792.06\n",
              "2  153441.51  101145.55  407934.54     Florida  191050.39\n",
              "3  144372.41  118671.85  383199.62    New York  182901.99\n",
              "4  142107.34   91391.77  366168.42     Florida  166187.94"
            ]
          },
          "metadata": {},
          "execution_count": 409
        }
      ]
    },
    {
      "cell_type": "markdown",
      "metadata": {
        "id": "KpnGw1GHw0-e"
      },
      "source": [
        "## **OUTLIER DETECTION**"
      ]
    },
    {
      "cell_type": "code",
      "metadata": {
        "colab": {
          "base_uri": "https://localhost:8080/",
          "height": 489
        },
        "id": "H4jhBchXwkTb",
        "outputId": "077234bc-acf4-404f-b982-8742c4527942"
      },
      "source": [
        "#USING HISTOGRAM\n",
        "startup['rdspend'].hist()"
      ],
      "execution_count": 410,
      "outputs": [
        {
          "output_type": "execute_result",
          "data": {
            "text/plain": [
              "<matplotlib.axes._subplots.AxesSubplot at 0x7f83a40d7450>"
            ]
          },
          "metadata": {},
          "execution_count": 410
        },
        {
          "output_type": "display_data",
          "data": {
            "image/png": "[encoded data removed]",
            "text/plain": [
              "<Figure size 800x550 with 1 Axes>"
            ]
          },
          "metadata": {}
        }
      ]
    },
    {
      "cell_type": "code",
      "metadata": {
        "colab": {
          "base_uri": "https://localhost:8080/",
          "height": 489
        },
        "id": "XzRYj9hqwkWA",
        "outputId": "ea801d3f-c8bf-4794-a5be-d1c48aa42d2a"
      },
      "source": [
        "startup['admin'].hist()"
      ],
      "execution_count": 411,
      "outputs": [
        {
          "output_type": "execute_result",
          "data": {
            "text/plain": [
              "<matplotlib.axes._subplots.AxesSubplot at 0x7f83a4097690>"
            ]
          },
          "metadata": {},
          "execution_count": 411
        },
        {
          "output_type": "display_data",
          "data": {
            "image/png": "[encoded data removed]",
            "text/plain": [
              "<Figure size 800x550 with 1 Axes>"
            ]
          },
          "metadata": {}
        }
      ]
    },
    {
      "cell_type": "code",
      "metadata": {
        "colab": {
          "base_uri": "https://localhost:8080/",
          "height": 489
        },
        "id": "oXbj3cmaxYyU",
        "outputId": "2a839bb1-5997-4c44-cd10-4d1f01ded56f"
      },
      "source": [
        "startup['Mspend'].hist()"
      ],
      "execution_count": 412,
      "outputs": [
        {
          "output_type": "execute_result",
          "data": {
            "text/plain": [
              "<matplotlib.axes._subplots.AxesSubplot at 0x7f83a40634d0>"
            ]
          },
          "metadata": {},
          "execution_count": 412
        },
        {
          "output_type": "display_data",
          "data": {
            "image/png": "[encoded data removed]",
            "text/plain": [
              "<Figure size 800x550 with 1 Axes>"
            ]
          },
          "metadata": {}
        }
      ]
    },
    {
      "cell_type": "code",
      "metadata": {
        "colab": {
          "base_uri": "https://localhost:8080/",
          "height": 489
        },
        "id": "6alb4U47xY3m",
        "outputId": "765ca85b-907d-480c-801c-bf4b89cbc029"
      },
      "source": [
        "startup['Profit'].hist()"
      ],
      "execution_count": 413,
      "outputs": [
        {
          "output_type": "execute_result",
          "data": {
            "text/plain": [
              "<matplotlib.axes._subplots.AxesSubplot at 0x7f83a3f65b50>"
            ]
          },
          "metadata": {},
          "execution_count": 413
        },
        {
          "output_type": "display_data",
          "data": {
            "image/png": "[encoded data removed]",
            "text/plain": [
              "<Figure size 800x550 with 1 Axes>"
            ]
          },
          "metadata": {}
        }
      ]
    },
    {
      "cell_type": "code",
      "metadata": {
        "colab": {
          "base_uri": "https://localhost:8080/",
          "height": 616
        },
        "id": "LzHERgHjxY08",
        "outputId": "767c0f1f-f2b2-4445-b699-f61ec58d9346"
      },
      "source": [
        "plt.boxplot(startup.rdspend)"
      ],
      "execution_count": 414,
      "outputs": [
        {
          "output_type": "execute_result",
          "data": {
            "text/plain": [
              "{'boxes': [<matplotlib.lines.Line2D at 0x7f83a3f02e90>],\n",
              " 'caps': [<matplotlib.lines.Line2D at 0x7f83a3e88f10>,\n",
              "  <matplotlib.lines.Line2D at 0x7f83a3e90490>],\n",
              " 'fliers': [<matplotlib.lines.Line2D at 0x7f83a3e90f50>],\n",
              " 'means': [],\n",
              " 'medians': [<matplotlib.lines.Line2D at 0x7f83a3e90a10>],\n",
              " 'whiskers': [<matplotlib.lines.Line2D at 0x7f83a3f02fd0>,\n",
              "  <matplotlib.lines.Line2D at 0x7f83a3e889d0>]}"
            ]
          },
          "metadata": {},
          "execution_count": 414
        },
        {
          "output_type": "display_data",
          "data": {
            "image/png": "[encoded data removed]",
            "text/plain": [
              "<Figure size 800x550 with 1 Axes>"
            ]
          },
          "metadata": {}
        }
      ]
    },
    {
      "cell_type": "code",
      "metadata": {
        "colab": {
          "base_uri": "https://localhost:8080/",
          "height": 616
        },
        "id": "ClgRgJxPxwnA",
        "outputId": "00b75690-1044-4b57-c6ad-c46fa29f9871"
      },
      "source": [
        "plt.boxplot(startup.admin)"
      ],
      "execution_count": 415,
      "outputs": [
        {
          "output_type": "execute_result",
          "data": {
            "text/plain": [
              "{'boxes': [<matplotlib.lines.Line2D at 0x7f83a3e73250>],\n",
              " 'caps': [<matplotlib.lines.Line2D at 0x7f83a3e73e50>,\n",
              "  <matplotlib.lines.Line2D at 0x7f83a3e7a7d0>],\n",
              " 'fliers': [<matplotlib.lines.Line2D at 0x7f83a3e7aed0>],\n",
              " 'means': [],\n",
              " 'medians': [<matplotlib.lines.Line2D at 0x7f83a3e7ad50>],\n",
              " 'whiskers': [<matplotlib.lines.Line2D at 0x7f83a3e737d0>,\n",
              "  <matplotlib.lines.Line2D at 0x7f83a3e73d10>]}"
            ]
          },
          "metadata": {},
          "execution_count": 415
        },
        {
          "output_type": "display_data",
          "data": {
            "image/png": "[encoded data removed]",
            "text/plain": [
              "<Figure size 800x550 with 1 Axes>"
            ]
          },
          "metadata": {}
        }
      ]
    },
    {
      "cell_type": "code",
      "metadata": {
        "colab": {
          "base_uri": "https://localhost:8080/",
          "height": 616
        },
        "id": "e4ZCNJn5xwpj",
        "outputId": "24d1484c-9a68-4a9b-cbfe-18745310a4bf"
      },
      "source": [
        "plt.boxplot(startup.Mspend)"
      ],
      "execution_count": 416,
      "outputs": [
        {
          "output_type": "execute_result",
          "data": {
            "text/plain": [
              "{'boxes': [<matplotlib.lines.Line2D at 0x7f83a3dde650>],\n",
              " 'caps': [<matplotlib.lines.Line2D at 0x7f83a3de4690>,\n",
              "  <matplotlib.lines.Line2D at 0x7f83a3de4bd0>],\n",
              " 'fliers': [<matplotlib.lines.Line2D at 0x7f83a3dec6d0>],\n",
              " 'means': [],\n",
              " 'medians': [<matplotlib.lines.Line2D at 0x7f83a3dec190>],\n",
              " 'whiskers': [<matplotlib.lines.Line2D at 0x7f83a3ddebd0>,\n",
              "  <matplotlib.lines.Line2D at 0x7f83a3dded10>]}"
            ]
          },
          "metadata": {},
          "execution_count": 416
        },
        {
          "output_type": "display_data",
          "data": {
            "image/png": "[encoded data removed]",
            "text/plain": [
              "<Figure size 800x550 with 1 Axes>"
            ]
          },
          "metadata": {}
        }
      ]
    },
    {
      "cell_type": "code",
      "metadata": {
        "colab": {
          "base_uri": "https://localhost:8080/",
          "height": 618
        },
        "id": "ocAmy1BVxwr-",
        "outputId": "c94b4183-5e4d-449d-b879-7c677a0d6a53"
      },
      "source": [
        "plt.boxplot(startup.Profit)"
      ],
      "execution_count": 417,
      "outputs": [
        {
          "output_type": "execute_result",
          "data": {
            "text/plain": [
              "{'boxes': [<matplotlib.lines.Line2D at 0x7f83a3dbee90>],\n",
              " 'caps': [<matplotlib.lines.Line2D at 0x7f83a3dc5ed0>,\n",
              "  <matplotlib.lines.Line2D at 0x7f83a3d4b450>],\n",
              " 'fliers': [<matplotlib.lines.Line2D at 0x7f83a3d4bf10>],\n",
              " 'means': [],\n",
              " 'medians': [<matplotlib.lines.Line2D at 0x7f83a3d4b9d0>],\n",
              " 'whiskers': [<matplotlib.lines.Line2D at 0x7f83a3dbefd0>,\n",
              "  <matplotlib.lines.Line2D at 0x7f83a3dc5990>]}"
            ]
          },
          "metadata": {},
          "execution_count": 417
        },
        {
          "output_type": "display_data",
          "data": {
            "image/png": "[encoded data removed]",
            "text/plain": [
              "<Figure size 800x550 with 1 Axes>"
            ]
          },
          "metadata": {}
        }
      ]
    },
    {
      "cell_type": "code",
      "metadata": {
        "colab": {
          "base_uri": "https://localhost:8080/",
          "height": 533
        },
        "id": "4UEkFoM1xwue",
        "outputId": "846c2fe2-decb-4680-93a3-20e856c4c083"
      },
      "source": [
        "##bar plot for categorical data\n",
        "\n",
        "startup['State'].value_counts().plot.bar()"
      ],
      "execution_count": 418,
      "outputs": [
        {
          "output_type": "execute_result",
          "data": {
            "text/plain": [
              "<matplotlib.axes._subplots.AxesSubplot at 0x7f83a3ec5cd0>"
            ]
          },
          "metadata": {},
          "execution_count": 418
        },
        {
          "output_type": "display_data",
          "data": {
            "image/png": "[encoded data removed]",
            "text/plain": [
              "<Figure size 800x550 with 1 Axes>"
            ]
          },
          "metadata": {}
        }
      ]
    },
    {
      "cell_type": "markdown",
      "metadata": {
        "id": "DJwjLivrzWi0"
      },
      "source": [
        "# **MISSING VALUES**"
      ]
    },
    {
      "cell_type": "code",
      "metadata": {
        "colab": {
          "base_uri": "https://localhost:8080/"
        },
        "id": "_euiXPMtqvDX",
        "outputId": "beced4fd-ca6f-4d9b-fb31-2b01c5af3633"
      },
      "source": [
        "startup.isna().sum()"
      ],
      "execution_count": 419,
      "outputs": [
        {
          "output_type": "execute_result",
          "data": {
            "text/plain": [
              "rdspend    0\n",
              "admin      0\n",
              "Mspend     0\n",
              "State      0\n",
              "Profit     0\n",
              "dtype: int64"
            ]
          },
          "metadata": {},
          "execution_count": 419
        }
      ]
    },
    {
      "cell_type": "markdown",
      "metadata": {
        "id": "oT6o_TUuq0NO"
      },
      "source": [
        "# **CORRELATION MATRIX**"
      ]
    },
    {
      "cell_type": "code",
      "metadata": {
        "colab": {
          "base_uri": "https://localhost:8080/",
          "height": 175
        },
        "id": "MVntEOCTqvF9",
        "outputId": "e4e1ab26-0d2c-43a1-e379-1861718d4bf4"
      },
      "source": [
        "startup.corr()"
      ],
      "execution_count": 420,
      "outputs": [
        {
          "output_type": "execute_result",
          "data": {
            "text/html": [
              "<div>\n",
              "<style scoped>\n",
              "    .dataframe tbody tr th:only-of-type {\n",
              "        vertical-align: middle;\n",
              "    }\n",
              "\n",
              "    .dataframe tbody tr th {\n",
              "        vertical-align: top;\n",
              "    }\n",
              "\n",
              "    .dataframe thead th {\n",
              "        text-align: right;\n",
              "    }\n",
              "</style>\n",
              "<table border=\"1\" class=\"dataframe\">\n",
              "  <thead>\n",
              "    <tr style=\"text-align: right;\">\n",
              "      <th></th>\n",
              "      <th>rdspend</th>\n",
              "      <th>admin</th>\n",
              "      <th>Mspend</th>\n",
              "      <th>Profit</th>\n",
              "    </tr>\n",
              "  </thead>\n",
              "  <tbody>\n",
              "    <tr>\n",
              "      <th>rdspend</th>\n",
              "      <td>1.000000</td>\n",
              "      <td>0.241955</td>\n",
              "      <td>0.724248</td>\n",
              "      <td>0.972900</td>\n",
              "    </tr>\n",
              "    <tr>\n",
              "      <th>admin</th>\n",
              "      <td>0.241955</td>\n",
              "      <td>1.000000</td>\n",
              "      <td>-0.032154</td>\n",
              "      <td>0.200717</td>\n",
              "    </tr>\n",
              "    <tr>\n",
              "      <th>Mspend</th>\n",
              "      <td>0.724248</td>\n",
              "      <td>-0.032154</td>\n",
              "      <td>1.000000</td>\n",
              "      <td>0.747766</td>\n",
              "    </tr>\n",
              "    <tr>\n",
              "      <th>Profit</th>\n",
              "      <td>0.972900</td>\n",
              "      <td>0.200717</td>\n",
              "      <td>0.747766</td>\n",
              "      <td>1.000000</td>\n",
              "    </tr>\n",
              "  </tbody>\n",
              "</table>\n",
              "</div>"
            ],
            "text/plain": [
              "          rdspend     admin    Mspend    Profit\n",
              "rdspend  1.000000  0.241955  0.724248  0.972900\n",
              "admin    0.241955  1.000000 -0.032154  0.200717\n",
              "Mspend   0.724248 -0.032154  1.000000  0.747766\n",
              "Profit   0.972900  0.200717  0.747766  1.000000"
            ]
          },
          "metadata": {},
          "execution_count": 420
        }
      ]
    },
    {
      "cell_type": "code",
      "metadata": {
        "colab": {
          "base_uri": "https://localhost:8080/",
          "height": 299
        },
        "id": "KWLeZ6Z83mZe",
        "outputId": "89443518-e896-46f9-faf5-a771944247fb"
      },
      "source": [
        "startup.describe()\n"
      ],
      "execution_count": 421,
      "outputs": [
        {
          "output_type": "execute_result",
          "data": {
            "text/html": [
              "<div>\n",
              "<style scoped>\n",
              "    .dataframe tbody tr th:only-of-type {\n",
              "        vertical-align: middle;\n",
              "    }\n",
              "\n",
              "    .dataframe tbody tr th {\n",
              "        vertical-align: top;\n",
              "    }\n",
              "\n",
              "    .dataframe thead th {\n",
              "        text-align: right;\n",
              "    }\n",
              "</style>\n",
              "<table border=\"1\" class=\"dataframe\">\n",
              "  <thead>\n",
              "    <tr style=\"text-align: right;\">\n",
              "      <th></th>\n",
              "      <th>rdspend</th>\n",
              "      <th>admin</th>\n",
              "      <th>Mspend</th>\n",
              "      <th>Profit</th>\n",
              "    </tr>\n",
              "  </thead>\n",
              "  <tbody>\n",
              "    <tr>\n",
              "      <th>count</th>\n",
              "      <td>50.000000</td>\n",
              "      <td>50.000000</td>\n",
              "      <td>50.000000</td>\n",
              "      <td>50.000000</td>\n",
              "    </tr>\n",
              "    <tr>\n",
              "      <th>mean</th>\n",
              "      <td>73721.615600</td>\n",
              "      <td>121344.639600</td>\n",
              "      <td>211025.097800</td>\n",
              "      <td>112012.639200</td>\n",
              "    </tr>\n",
              "    <tr>\n",
              "      <th>std</th>\n",
              "      <td>45902.256482</td>\n",
              "      <td>28017.802755</td>\n",
              "      <td>122290.310726</td>\n",
              "      <td>40306.180338</td>\n",
              "    </tr>\n",
              "    <tr>\n",
              "      <th>min</th>\n",
              "      <td>0.000000</td>\n",
              "      <td>51283.140000</td>\n",
              "      <td>0.000000</td>\n",
              "      <td>14681.400000</td>\n",
              "    </tr>\n",
              "    <tr>\n",
              "      <th>25%</th>\n",
              "      <td>39936.370000</td>\n",
              "      <td>103730.875000</td>\n",
              "      <td>129300.132500</td>\n",
              "      <td>90138.902500</td>\n",
              "    </tr>\n",
              "    <tr>\n",
              "      <th>50%</th>\n",
              "      <td>73051.080000</td>\n",
              "      <td>122699.795000</td>\n",
              "      <td>212716.240000</td>\n",
              "      <td>107978.190000</td>\n",
              "    </tr>\n",
              "    <tr>\n",
              "      <th>75%</th>\n",
              "      <td>101602.800000</td>\n",
              "      <td>144842.180000</td>\n",
              "      <td>299469.085000</td>\n",
              "      <td>139765.977500</td>\n",
              "    </tr>\n",
              "    <tr>\n",
              "      <th>max</th>\n",
              "      <td>165349.200000</td>\n",
              "      <td>182645.560000</td>\n",
              "      <td>471784.100000</td>\n",
              "      <td>192261.830000</td>\n",
              "    </tr>\n",
              "  </tbody>\n",
              "</table>\n",
              "</div>"
            ],
            "text/plain": [
              "             rdspend          admin         Mspend         Profit\n",
              "count      50.000000      50.000000      50.000000      50.000000\n",
              "mean    73721.615600  121344.639600  211025.097800  112012.639200\n",
              "std     45902.256482   28017.802755  122290.310726   40306.180338\n",
              "min         0.000000   51283.140000       0.000000   14681.400000\n",
              "25%     39936.370000  103730.875000  129300.132500   90138.902500\n",
              "50%     73051.080000  122699.795000  212716.240000  107978.190000\n",
              "75%    101602.800000  144842.180000  299469.085000  139765.977500\n",
              "max    165349.200000  182645.560000  471784.100000  192261.830000"
            ]
          },
          "metadata": {},
          "execution_count": 421
        }
      ]
    },
    {
      "cell_type": "markdown",
      "metadata": {
        "id": "_oXGjM9Oz4MV"
      },
      "source": [
        "## **# Transformations**"
      ]
    },
    {
      "cell_type": "markdown",
      "metadata": {
        "id": "Y33mQMuHz76Y"
      },
      "source": [
        "## **#### Dummy Variable**"
      ]
    },
    {
      "cell_type": "code",
      "metadata": {
        "id": "HCSxR4Ouz5lM"
      },
      "source": [
        "#Creating dummy variable for State column\n",
        "startup=pd.get_dummies(startup,columns=['State'])"
      ],
      "execution_count": 422,
      "outputs": []
    },
    {
      "cell_type": "code",
      "metadata": {
        "colab": {
          "base_uri": "https://localhost:8080/",
          "height": 205
        },
        "id": "d-MriEEyz5nz",
        "outputId": "41f17cb5-9164-402f-9c67-667a3bc4fdad"
      },
      "source": [
        "startup.head()"
      ],
      "execution_count": 423,
      "outputs": [
        {
          "output_type": "execute_result",
          "data": {
            "text/html": [
              "<div>\n",
              "<style scoped>\n",
              "    .dataframe tbody tr th:only-of-type {\n",
              "        vertical-align: middle;\n",
              "    }\n",
              "\n",
              "    .dataframe tbody tr th {\n",
              "        vertical-align: top;\n",
              "    }\n",
              "\n",
              "    .dataframe thead th {\n",
              "        text-align: right;\n",
              "    }\n",
              "</style>\n",
              "<table border=\"1\" class=\"dataframe\">\n",
              "  <thead>\n",
              "    <tr style=\"text-align: right;\">\n",
              "      <th></th>\n",
              "      <th>rdspend</th>\n",
              "      <th>admin</th>\n",
              "      <th>Mspend</th>\n",
              "      <th>Profit</th>\n",
              "      <th>State_California</th>\n",
              "      <th>State_Florida</th>\n",
              "      <th>State_New York</th>\n",
              "    </tr>\n",
              "  </thead>\n",
              "  <tbody>\n",
              "    <tr>\n",
              "      <th>0</th>\n",
              "      <td>165349.20</td>\n",
              "      <td>136897.80</td>\n",
              "      <td>471784.10</td>\n",
              "      <td>192261.83</td>\n",
              "      <td>0</td>\n",
              "      <td>0</td>\n",
              "      <td>1</td>\n",
              "    </tr>\n",
              "    <tr>\n",
              "      <th>1</th>\n",
              "      <td>162597.70</td>\n",
              "      <td>151377.59</td>\n",
              "      <td>443898.53</td>\n",
              "      <td>191792.06</td>\n",
              "      <td>1</td>\n",
              "      <td>0</td>\n",
              "      <td>0</td>\n",
              "    </tr>\n",
              "    <tr>\n",
              "      <th>2</th>\n",
              "      <td>153441.51</td>\n",
              "      <td>101145.55</td>\n",
              "      <td>407934.54</td>\n",
              "      <td>191050.39</td>\n",
              "      <td>0</td>\n",
              "      <td>1</td>\n",
              "      <td>0</td>\n",
              "    </tr>\n",
              "    <tr>\n",
              "      <th>3</th>\n",
              "      <td>144372.41</td>\n",
              "      <td>118671.85</td>\n",
              "      <td>383199.62</td>\n",
              "      <td>182901.99</td>\n",
              "      <td>0</td>\n",
              "      <td>0</td>\n",
              "      <td>1</td>\n",
              "    </tr>\n",
              "    <tr>\n",
              "      <th>4</th>\n",
              "      <td>142107.34</td>\n",
              "      <td>91391.77</td>\n",
              "      <td>366168.42</td>\n",
              "      <td>166187.94</td>\n",
              "      <td>0</td>\n",
              "      <td>1</td>\n",
              "      <td>0</td>\n",
              "    </tr>\n",
              "  </tbody>\n",
              "</table>\n",
              "</div>"
            ],
            "text/plain": [
              "     rdspend      admin  ...  State_Florida  State_New York\n",
              "0  165349.20  136897.80  ...              0               1\n",
              "1  162597.70  151377.59  ...              0               0\n",
              "2  153441.51  101145.55  ...              1               0\n",
              "3  144372.41  118671.85  ...              0               1\n",
              "4  142107.34   91391.77  ...              1               0\n",
              "\n",
              "[5 rows x 7 columns]"
            ]
          },
          "metadata": {},
          "execution_count": 423
        }
      ]
    },
    {
      "cell_type": "markdown",
      "metadata": {
        "id": "BjaWnF080bsj"
      },
      "source": [
        "## **TO CARRY OUT FEATURE SCALING**"
      ]
    },
    {
      "cell_type": "markdown",
      "metadata": {
        "id": "8uLN6Mou0flt"
      },
      "source": [
        "## **NORMALISATION**"
      ]
    },
    {
      "cell_type": "code",
      "metadata": {
        "id": "zm3jQjUn0gvk"
      },
      "source": [
        "#Normalization of the data\n",
        "from numpy import set_printoptions\n",
        "from sklearn.preprocessing import MinMaxScaler"
      ],
      "execution_count": 424,
      "outputs": []
    },
    {
      "cell_type": "code",
      "metadata": {
        "colab": {
          "base_uri": "https://localhost:8080/"
        },
        "id": "lP1yqtGa0gyL",
        "outputId": "32fbf771-0f18-4948-bfda-11e53a2240b6"
      },
      "source": [
        "startup.values\n"
      ],
      "execution_count": 425,
      "outputs": [
        {
          "output_type": "execute_result",
          "data": {
            "text/plain": [
              "array([[1.65e+05, 1.37e+05, 4.72e+05, 1.92e+05, 0.00e+00, 0.00e+00,\n",
              "        1.00e+00],\n",
              "       [1.63e+05, 1.51e+05, 4.44e+05, 1.92e+05, 1.00e+00, 0.00e+00,\n",
              "        0.00e+00],\n",
              "       [1.53e+05, 1.01e+05, 4.08e+05, 1.91e+05, 0.00e+00, 1.00e+00,\n",
              "        0.00e+00],\n",
              "       [1.44e+05, 1.19e+05, 3.83e+05, 1.83e+05, 0.00e+00, 0.00e+00,\n",
              "        1.00e+00],\n",
              "       [1.42e+05, 9.14e+04, 3.66e+05, 1.66e+05, 0.00e+00, 1.00e+00,\n",
              "        0.00e+00],\n",
              "       [1.32e+05, 9.98e+04, 3.63e+05, 1.57e+05, 0.00e+00, 0.00e+00,\n",
              "        1.00e+00],\n",
              "       [1.35e+05, 1.47e+05, 1.28e+05, 1.56e+05, 1.00e+00, 0.00e+00,\n",
              "        0.00e+00],\n",
              "       [1.30e+05, 1.46e+05, 3.24e+05, 1.56e+05, 0.00e+00, 1.00e+00,\n",
              "        0.00e+00],\n",
              "       [1.21e+05, 1.49e+05, 3.12e+05, 1.52e+05, 0.00e+00, 0.00e+00,\n",
              "        1.00e+00],\n",
              "       [1.23e+05, 1.09e+05, 3.05e+05, 1.50e+05, 1.00e+00, 0.00e+00,\n",
              "        0.00e+00],\n",
              "       [1.02e+05, 1.11e+05, 2.29e+05, 1.46e+05, 0.00e+00, 1.00e+00,\n",
              "        0.00e+00],\n",
              "       [1.01e+05, 9.18e+04, 2.50e+05, 1.44e+05, 1.00e+00, 0.00e+00,\n",
              "        0.00e+00],\n",
              "       [9.39e+04, 1.27e+05, 2.50e+05, 1.42e+05, 0.00e+00, 1.00e+00,\n",
              "        0.00e+00],\n",
              "       [9.20e+04, 1.35e+05, 2.53e+05, 1.34e+05, 1.00e+00, 0.00e+00,\n",
              "        0.00e+00],\n",
              "       [1.20e+05, 1.57e+05, 2.57e+05, 1.33e+05, 0.00e+00, 1.00e+00,\n",
              "        0.00e+00],\n",
              "       [1.15e+05, 1.23e+05, 2.62e+05, 1.30e+05, 0.00e+00, 0.00e+00,\n",
              "        1.00e+00],\n",
              "       [7.80e+04, 1.22e+05, 2.64e+05, 1.27e+05, 1.00e+00, 0.00e+00,\n",
              "        0.00e+00],\n",
              "       [9.47e+04, 1.45e+05, 2.83e+05, 1.25e+05, 0.00e+00, 0.00e+00,\n",
              "        1.00e+00],\n",
              "       [9.17e+04, 1.14e+05, 2.95e+05, 1.24e+05, 0.00e+00, 1.00e+00,\n",
              "        0.00e+00],\n",
              "       [8.64e+04, 1.54e+05, 0.00e+00, 1.23e+05, 0.00e+00, 0.00e+00,\n",
              "        1.00e+00],\n",
              "       [7.63e+04, 1.14e+05, 2.99e+05, 1.18e+05, 1.00e+00, 0.00e+00,\n",
              "        0.00e+00],\n",
              "       [7.84e+04, 1.54e+05, 3.00e+05, 1.11e+05, 0.00e+00, 0.00e+00,\n",
              "        1.00e+00],\n",
              "       [7.40e+04, 1.23e+05, 3.03e+05, 1.10e+05, 0.00e+00, 1.00e+00,\n",
              "        0.00e+00],\n",
              "       [6.75e+04, 1.06e+05, 3.05e+05, 1.09e+05, 0.00e+00, 1.00e+00,\n",
              "        0.00e+00],\n",
              "       [7.70e+04, 9.93e+04, 1.41e+05, 1.09e+05, 0.00e+00, 0.00e+00,\n",
              "        1.00e+00],\n",
              "       [6.47e+04, 1.40e+05, 1.38e+05, 1.07e+05, 1.00e+00, 0.00e+00,\n",
              "        0.00e+00],\n",
              "       [7.53e+04, 1.44e+05, 1.34e+05, 1.06e+05, 0.00e+00, 1.00e+00,\n",
              "        0.00e+00],\n",
              "       [7.21e+04, 1.28e+05, 3.53e+05, 1.05e+05, 0.00e+00, 0.00e+00,\n",
              "        1.00e+00],\n",
              "       [6.61e+04, 1.83e+05, 1.18e+05, 1.03e+05, 0.00e+00, 1.00e+00,\n",
              "        0.00e+00],\n",
              "       [6.56e+04, 1.53e+05, 1.07e+05, 1.01e+05, 0.00e+00, 0.00e+00,\n",
              "        1.00e+00],\n",
              "       [6.20e+04, 1.16e+05, 9.11e+04, 9.99e+04, 0.00e+00, 1.00e+00,\n",
              "        0.00e+00],\n",
              "       [6.11e+04, 1.53e+05, 8.82e+04, 9.75e+04, 0.00e+00, 0.00e+00,\n",
              "        1.00e+00],\n",
              "       [6.34e+04, 1.29e+05, 4.61e+04, 9.74e+04, 1.00e+00, 0.00e+00,\n",
              "        0.00e+00],\n",
              "       [5.55e+04, 1.03e+05, 2.15e+05, 9.68e+04, 0.00e+00, 1.00e+00,\n",
              "        0.00e+00],\n",
              "       [4.64e+04, 1.58e+05, 2.11e+05, 9.67e+04, 1.00e+00, 0.00e+00,\n",
              "        0.00e+00],\n",
              "       [4.60e+04, 8.50e+04, 2.06e+05, 9.65e+04, 0.00e+00, 0.00e+00,\n",
              "        1.00e+00],\n",
              "       [2.87e+04, 1.27e+05, 2.01e+05, 9.07e+04, 0.00e+00, 1.00e+00,\n",
              "        0.00e+00],\n",
              "       [4.41e+04, 5.13e+04, 1.97e+05, 8.99e+04, 1.00e+00, 0.00e+00,\n",
              "        0.00e+00],\n",
              "       [2.02e+04, 6.59e+04, 1.85e+05, 8.12e+04, 0.00e+00, 0.00e+00,\n",
              "        1.00e+00],\n",
              "       [3.86e+04, 8.30e+04, 1.75e+05, 8.10e+04, 1.00e+00, 0.00e+00,\n",
              "        0.00e+00],\n",
              "       [2.88e+04, 1.19e+05, 1.73e+05, 7.82e+04, 1.00e+00, 0.00e+00,\n",
              "        0.00e+00],\n",
              "       [2.79e+04, 8.47e+04, 1.64e+05, 7.78e+04, 0.00e+00, 1.00e+00,\n",
              "        0.00e+00],\n",
              "       [2.36e+04, 9.62e+04, 1.48e+05, 7.15e+04, 1.00e+00, 0.00e+00,\n",
              "        0.00e+00],\n",
              "       [1.55e+04, 1.27e+05, 3.55e+04, 6.98e+04, 0.00e+00, 0.00e+00,\n",
              "        1.00e+00],\n",
              "       [2.22e+04, 1.55e+05, 2.83e+04, 6.52e+04, 1.00e+00, 0.00e+00,\n",
              "        0.00e+00],\n",
              "       [1.00e+03, 1.24e+05, 1.90e+03, 6.49e+04, 0.00e+00, 0.00e+00,\n",
              "        1.00e+00],\n",
              "       [1.32e+03, 1.16e+05, 2.97e+05, 4.95e+04, 0.00e+00, 1.00e+00,\n",
              "        0.00e+00],\n",
              "       [0.00e+00, 1.35e+05, 0.00e+00, 4.26e+04, 1.00e+00, 0.00e+00,\n",
              "        0.00e+00],\n",
              "       [5.42e+02, 5.17e+04, 0.00e+00, 3.57e+04, 0.00e+00, 0.00e+00,\n",
              "        1.00e+00],\n",
              "       [0.00e+00, 1.17e+05, 4.52e+04, 1.47e+04, 1.00e+00, 0.00e+00,\n",
              "        0.00e+00]])"
            ]
          },
          "metadata": {},
          "execution_count": 425
        }
      ]
    },
    {
      "cell_type": "code",
      "metadata": {
        "id": "WcO8KSR_0g0U"
      },
      "source": [
        "array = startup.values\n",
        "scaler = MinMaxScaler(feature_range=(0,1))\n",
        "rescaledX = scaler.fit_transform(array[:,0:5])"
      ],
      "execution_count": 426,
      "outputs": []
    },
    {
      "cell_type": "code",
      "metadata": {
        "colab": {
          "base_uri": "https://localhost:8080/"
        },
        "id": "iI5i6JEe0g2-",
        "outputId": "a3bc99e5-7aeb-4344-c502-90023e5d9302"
      },
      "source": [
        "#transformed data\n",
        "set_printoptions(precision=2)\n",
        "print(rescaledX[0:5,:])"
      ],
      "execution_count": 427,
      "outputs": [
        {
          "output_type": "stream",
          "name": "stdout",
          "text": [
            "[[1.   0.65 1.   1.   0.  ]\n",
            " [0.98 0.76 0.94 1.   1.  ]\n",
            " [0.93 0.38 0.86 0.99 0.  ]\n",
            " [0.87 0.51 0.81 0.95 0.  ]\n",
            " [0.86 0.31 0.78 0.85 0.  ]]\n"
          ]
        }
      ]
    },
    {
      "cell_type": "code",
      "metadata": {
        "id": "e_8s20taz5sK"
      },
      "source": [
        "###THE DATA HAS BEEN TRANSFORMED WITH VALUES RANGING FROM 0-1"
      ],
      "execution_count": 428,
      "outputs": []
    },
    {
      "cell_type": "markdown",
      "metadata": {
        "id": "lnzfuVMY06z7"
      },
      "source": [
        "## **STANDARDISATION**"
      ]
    },
    {
      "cell_type": "code",
      "metadata": {
        "id": "EBgjXv3L02OU"
      },
      "source": [
        "# Standardize data (0 mean, 1 stdev)\n",
        "from sklearn.preprocessing import StandardScaler"
      ],
      "execution_count": 429,
      "outputs": []
    },
    {
      "cell_type": "code",
      "metadata": {
        "id": "WF0r8yK202Rc"
      },
      "source": [
        "array = startup.values\n",
        "scaler = StandardScaler().fit(array)\n",
        "rescaledX = scaler.transform(array)"
      ],
      "execution_count": 430,
      "outputs": []
    },
    {
      "cell_type": "code",
      "metadata": {
        "colab": {
          "base_uri": "https://localhost:8080/"
        },
        "id": "U5d7z_hi02T9",
        "outputId": "f7883114-9c9f-42fa-e159-669b190af266"
      },
      "source": [
        "# summarize transformed data\n",
        "set_printoptions(precision=2)\n",
        "print(rescaledX[0:5,:])"
      ],
      "execution_count": 431,
      "outputs": [
        {
          "output_type": "stream",
          "name": "stdout",
          "text": [
            "[[ 2.02  0.56  2.15  2.01 -0.72 -0.69  1.39]\n",
            " [ 1.96  1.08  1.92  2.    1.39 -0.69 -0.72]\n",
            " [ 1.75 -0.73  1.63  1.98 -0.72  1.46 -0.72]\n",
            " [ 1.55 -0.1   1.42  1.78 -0.72 -0.69  1.39]\n",
            " [ 1.5  -1.08  1.28  1.36 -0.72  1.46 -0.72]]\n"
          ]
        }
      ]
    },
    {
      "cell_type": "code",
      "metadata": {
        "colab": {
          "base_uri": "https://localhost:8080/"
        },
        "id": "1ap960W02vKB",
        "outputId": "8eb07bf0-cb10-40f3-d197-c3a8f6bc6521"
      },
      "source": [
        "rescaledX\n"
      ],
      "execution_count": 432,
      "outputs": [
        {
          "output_type": "execute_result",
          "data": {
            "text/plain": [
              "array([[ 2.02e+00,  5.61e-01,  2.15e+00,  2.01e+00, -7.18e-01, -6.86e-01,\n",
              "         1.39e+00],\n",
              "       [ 1.96e+00,  1.08e+00,  1.92e+00,  2.00e+00,  1.39e+00, -6.86e-01,\n",
              "        -7.18e-01],\n",
              "       [ 1.75e+00, -7.28e-01,  1.63e+00,  1.98e+00, -7.18e-01,  1.46e+00,\n",
              "        -7.18e-01],\n",
              "       [ 1.55e+00, -9.64e-02,  1.42e+00,  1.78e+00, -7.18e-01, -6.86e-01,\n",
              "         1.39e+00],\n",
              "       [ 1.50e+00, -1.08e+00,  1.28e+00,  1.36e+00, -7.18e-01,  1.46e+00,\n",
              "        -7.18e-01],\n",
              "       [ 1.28e+00, -7.76e-01,  1.25e+00,  1.13e+00, -7.18e-01, -6.86e-01,\n",
              "         1.39e+00],\n",
              "       [ 1.34e+00,  9.32e-01, -6.88e-01,  1.11e+00,  1.39e+00, -6.86e-01,\n",
              "        -7.18e-01],\n",
              "       [ 1.25e+00,  8.72e-01,  9.32e-01,  1.10e+00, -7.18e-01,  1.46e+00,\n",
              "        -7.18e-01],\n",
              "       [ 1.03e+00,  9.87e-01,  8.31e-01,  1.01e+00, -7.18e-01, -6.86e-01,\n",
              "         1.39e+00],\n",
              "       [ 1.09e+00, -4.57e-01,  7.76e-01,  9.46e-01,  1.39e+00, -6.86e-01,\n",
              "        -7.18e-01],\n",
              "       [ 6.20e-01, -3.88e-01,  1.50e-01,  8.55e-01, -7.18e-01,  1.46e+00,\n",
              "        -7.18e-01],\n",
              "       [ 5.93e-01, -1.07e+00,  3.20e-01,  8.08e-01,  1.39e+00, -6.86e-01,\n",
              "        -7.18e-01],\n",
              "       [ 4.43e-01,  2.15e-01,  3.21e-01,  7.41e-01, -7.18e-01,  1.46e+00,\n",
              "        -7.18e-01],\n",
              "       [ 4.02e-01,  5.10e-01,  3.44e-01,  5.59e-01,  1.39e+00, -6.86e-01,\n",
              "        -7.18e-01],\n",
              "       [ 1.02e+00,  1.27e+00,  3.76e-01,  5.16e-01, -7.18e-01,  1.46e+00,\n",
              "        -7.18e-01],\n",
              "       [ 8.98e-01,  4.59e-02,  4.19e-01,  4.49e-01, -7.18e-01, -6.86e-01,\n",
              "         1.39e+00],\n",
              "       [ 9.44e-02,  9.12e-03,  4.40e-01,  3.75e-01,  1.39e+00, -6.86e-01,\n",
              "        -7.18e-01],\n",
              "       [ 4.61e-01,  8.56e-01,  5.91e-01,  3.35e-01, -7.18e-01, -6.86e-01,\n",
              "         1.39e+00],\n",
              "       [ 3.97e-01, -2.58e-01,  6.93e-01,  3.07e-01, -7.18e-01,  1.46e+00,\n",
              "        -7.18e-01],\n",
              "       [ 2.79e-01,  1.16e+00, -1.74e+00,  2.70e-01, -7.18e-01, -6.86e-01,\n",
              "         1.39e+00],\n",
              "       [ 5.57e-02, -2.70e-01,  7.24e-01,  1.62e-01,  1.39e+00, -6.86e-01,\n",
              "        -7.18e-01],\n",
              "       [ 1.03e-01,  1.17e+00,  7.33e-01, -1.75e-02, -7.18e-01, -6.86e-01,\n",
              "         1.39e+00],\n",
              "       [ 6.01e-03,  5.18e-02,  7.62e-01, -4.16e-02, -7.18e-01,  1.46e+00,\n",
              "        -7.18e-01],\n",
              "       [-1.36e-01, -5.62e-01,  7.74e-01, -8.22e-02, -7.18e-01,  1.46e+00,\n",
              "        -7.18e-01],\n",
              "       [ 7.31e-02, -7.95e-01, -5.82e-01, -8.67e-02, -7.18e-01, -6.86e-01,\n",
              "         1.39e+00],\n",
              "       [-1.99e-01,  6.56e-01, -6.04e-01, -1.15e-01,  1.39e+00, -6.86e-01,\n",
              "        -7.18e-01],\n",
              "       [ 3.54e-02,  8.22e-01, -6.36e-01, -1.57e-01, -7.18e-01,  1.46e+00,\n",
              "        -7.18e-01],\n",
              "       [-3.55e-02,  2.35e-01,  1.17e+00, -1.76e-01, -7.18e-01, -6.86e-01,\n",
              "         1.39e+00],\n",
              "       [-1.69e-01,  2.21e+00, -7.67e-01, -2.19e-01, -7.18e-01,  1.46e+00,\n",
              "        -7.18e-01],\n",
              "       [-1.79e-01,  1.14e+00, -8.58e-01, -2.76e-01, -7.18e-01, -6.86e-01,\n",
              "         1.39e+00],\n",
              "       [-2.58e-01, -2.06e-01, -9.90e-01, -3.03e-01, -7.18e-01,  1.46e+00,\n",
              "        -7.18e-01],\n",
              "       [-2.77e-01,  1.13e+00, -1.01e+00, -3.64e-01, -7.18e-01, -6.86e-01,\n",
              "         1.39e+00],\n",
              "       [-2.27e-01,  2.84e-01, -1.36e+00, -3.66e-01,  1.39e+00, -6.86e-01,\n",
              "        -7.18e-01],\n",
              "       [-4.01e-01, -6.59e-01,  2.98e-02, -3.82e-01, -7.18e-01,  1.46e+00,\n",
              "        -7.18e-01],\n",
              "       [-6.01e-01,  1.31e+00, -1.88e-03, -3.83e-01,  1.39e+00, -6.86e-01,\n",
              "        -7.18e-01],\n",
              "       [-6.10e-01, -1.31e+00, -4.55e-02, -3.89e-01, -7.18e-01, -6.86e-01,\n",
              "         1.39e+00],\n",
              "       [-9.92e-01,  2.06e-01, -8.18e-02, -5.34e-01, -7.18e-01,  1.46e+00,\n",
              "        -7.18e-01],\n",
              "       [-6.53e-01, -2.53e+00, -1.16e-01, -5.53e-01,  1.39e+00, -6.86e-01,\n",
              "        -7.18e-01],\n",
              "       [-1.18e+00, -2.00e+00, -2.13e-01, -7.71e-01, -7.18e-01, -6.86e-01,\n",
              "         1.39e+00],\n",
              "       [-7.74e-01, -1.38e+00, -2.98e-01, -7.77e-01,  1.39e+00, -6.86e-01,\n",
              "        -7.18e-01],\n",
              "       [-9.90e-01, -1.01e-01, -3.16e-01, -8.46e-01,  1.39e+00, -6.86e-01,\n",
              "        -7.18e-01],\n",
              "       [-1.01e+00, -1.32e+00, -3.85e-01, -8.57e-01, -7.18e-01,  1.46e+00,\n",
              "        -7.18e-01],\n",
              "       [-1.10e+00, -9.07e-01, -5.21e-01, -1.02e+00,  1.39e+00, -6.86e-01,\n",
              "        -7.18e-01],\n",
              "       [-1.28e+00,  2.18e-01, -1.45e+00, -1.06e+00, -7.18e-01, -6.86e-01,\n",
              "         1.39e+00],\n",
              "       [-1.13e+00,  1.21e+00, -1.51e+00, -1.17e+00,  1.39e+00, -6.86e-01,\n",
              "        -7.18e-01],\n",
              "       [-1.60e+00,  1.01e-01, -1.73e+00, -1.18e+00, -7.18e-01, -6.86e-01,\n",
              "         1.39e+00],\n",
              "       [-1.59e+00, -1.99e-01,  7.11e-01, -1.57e+00, -7.18e-01,  1.46e+00,\n",
              "        -7.18e-01],\n",
              "       [-1.62e+00,  5.08e-01, -1.74e+00, -1.74e+00,  1.39e+00, -6.86e-01,\n",
              "        -7.18e-01],\n",
              "       [-1.61e+00, -2.51e+00, -1.74e+00, -1.91e+00, -7.18e-01, -6.86e-01,\n",
              "         1.39e+00],\n",
              "       [-1.62e+00, -1.57e-01, -1.37e+00, -2.44e+00,  1.39e+00, -6.86e-01,\n",
              "        -7.18e-01]])"
            ]
          },
          "metadata": {},
          "execution_count": 432
        }
      ]
    },
    {
      "cell_type": "code",
      "metadata": {
        "id": "fgDoj95-02Wv"
      },
      "source": [
        "###THE DATA HAS BEEN TRANSFORMED WITH VALUES RANGING FROM -3to 3"
      ],
      "execution_count": 433,
      "outputs": []
    },
    {
      "cell_type": "markdown",
      "metadata": {
        "id": "5ZvGuBM91UwO"
      },
      "source": [
        "# **AUTOMATE THE EDA PROCESS**"
      ]
    },
    {
      "cell_type": "markdown",
      "metadata": {
        "id": "vH30wSUn1kNE"
      },
      "source": [
        "## **# Speed up the EDA process BY PANDAS_PROFILING LIBRARY**"
      ]
    },
    {
      "cell_type": "code",
      "metadata": {
        "colab": {
          "base_uri": "https://localhost:8080/"
        },
        "id": "sd42h_P71h8F",
        "outputId": "3570fbb8-5e74-4997-d4c0-720229c8fdba"
      },
      "source": [
        "!pip install pandas_Profiling==2.7.1\n",
        "!pip install sweetviz"
      ],
      "execution_count": 434,
      "outputs": [
        {
          "output_type": "stream",
          "name": "stdout",
          "text": [
            "Requirement already satisfied: pandas_Profiling==2.7.1 in /usr/local/lib/python3.7/dist-packages (2.7.1)\n",
            "Requirement already satisfied: tangled-up-in-unicode>=0.0.4 in /usr/local/lib/python3.7/dist-packages (from pandas_Profiling==2.7.1) (0.1.0)\n",
            "Requirement already satisfied: pandas!=1.0.0,!=1.0.1,!=1.0.2,>=0.25.3 in /usr/local/lib/python3.7/dist-packages (from pandas_Profiling==2.7.1) (1.1.5)\n",
            "Requirement already satisfied: scipy>=1.4.1 in /usr/local/lib/python3.7/dist-packages (from pandas_Profiling==2.7.1) (1.7.1)\n",
            "Requirement already satisfied: phik>=0.9.10 in /usr/local/lib/python3.7/dist-packages (from pandas_Profiling==2.7.1) (0.12.0)\n",
            "Requirement already satisfied: htmlmin>=0.1.12 in /usr/local/lib/python3.7/dist-packages (from pandas_Profiling==2.7.1) (0.1.12)\n",
            "Requirement already satisfied: visions[type_image_path]==0.4.1 in /usr/local/lib/python3.7/dist-packages (from pandas_Profiling==2.7.1) (0.4.1)\n",
            "Requirement already satisfied: numpy>=1.16.0 in /usr/local/lib/python3.7/dist-packages (from pandas_Profiling==2.7.1) (1.19.5)\n",
            "Requirement already satisfied: astropy>=4.0 in /usr/local/lib/python3.7/dist-packages (from pandas_Profiling==2.7.1) (4.3.1)\n",
            "Requirement already satisfied: ipywidgets>=7.5.1 in /usr/local/lib/python3.7/dist-packages (from pandas_Profiling==2.7.1) (7.6.5)\n",
            "Requirement already satisfied: requests>=2.23.0 in /usr/local/lib/python3.7/dist-packages (from pandas_Profiling==2.7.1) (2.23.0)\n",
            "Requirement already satisfied: missingno>=0.4.2 in /usr/local/lib/python3.7/dist-packages (from pandas_Profiling==2.7.1) (0.5.0)\n",
            "Requirement already satisfied: matplotlib>=3.2.0 in /usr/local/lib/python3.7/dist-packages (from pandas_Profiling==2.7.1) (3.2.2)\n",
            "Requirement already satisfied: tqdm>=4.43.0 in /usr/local/lib/python3.7/dist-packages (from pandas_Profiling==2.7.1) (4.62.2)\n",
            "Requirement already satisfied: confuse>=1.0.0 in /usr/local/lib/python3.7/dist-packages (from pandas_Profiling==2.7.1) (1.5.0)\n",
            "Requirement already satisfied: jinja2>=2.11.1 in /usr/local/lib/python3.7/dist-packages (from pandas_Profiling==2.7.1) (2.11.3)\n",
            "Requirement already satisfied: joblib in /usr/local/lib/python3.7/dist-packages (from pandas_Profiling==2.7.1) (1.0.1)\n",
            "Requirement already satisfied: attrs>=19.3.0 in /usr/local/lib/python3.7/dist-packages (from visions[type_image_path]==0.4.1->pandas_Profiling==2.7.1) (21.2.0)\n",
            "Requirement already satisfied: networkx>=2.4 in /usr/local/lib/python3.7/dist-packages (from visions[type_image_path]==0.4.1->pandas_Profiling==2.7.1) (2.6.3)\n",
            "Requirement already satisfied: Pillow in /usr/local/lib/python3.7/dist-packages (from visions[type_image_path]==0.4.1->pandas_Profiling==2.7.1) (7.1.2)\n",
            "Requirement already satisfied: imagehash in /usr/local/lib/python3.7/dist-packages (from visions[type_image_path]==0.4.1->pandas_Profiling==2.7.1) (4.2.1)\n",
            "Requirement already satisfied: pyerfa>=1.7.3 in /usr/local/lib/python3.7/dist-packages (from astropy>=4.0->pandas_Profiling==2.7.1) (2.0.0)\n",
            "Requirement already satisfied: importlib-metadata in /usr/local/lib/python3.7/dist-packages (from astropy>=4.0->pandas_Profiling==2.7.1) (4.8.1)\n",
            "Requirement already satisfied: pyyaml in /usr/local/lib/python3.7/dist-packages (from confuse>=1.0.0->pandas_Profiling==2.7.1) (3.13)\n",
            "Requirement already satisfied: traitlets>=4.3.1 in /usr/local/lib/python3.7/dist-packages (from ipywidgets>=7.5.1->pandas_Profiling==2.7.1) (5.1.0)\n",
            "Requirement already satisfied: ipython-genutils~=0.2.0 in /usr/local/lib/python3.7/dist-packages (from ipywidgets>=7.5.1->pandas_Profiling==2.7.1) (0.2.0)\n",
            "Requirement already satisfied: jupyterlab-widgets>=1.0.0 in /usr/local/lib/python3.7/dist-packages (from ipywidgets>=7.5.1->pandas_Profiling==2.7.1) (1.0.2)\n",
            "Requirement already satisfied: nbformat>=4.2.0 in /usr/local/lib/python3.7/dist-packages (from ipywidgets>=7.5.1->pandas_Profiling==2.7.1) (5.1.3)\n",
            "Requirement already satisfied: ipython>=4.0.0 in /usr/local/lib/python3.7/dist-packages (from ipywidgets>=7.5.1->pandas_Profiling==2.7.1) (5.5.0)\n",
            "Requirement already satisfied: ipykernel>=4.5.1 in /usr/local/lib/python3.7/dist-packages (from ipywidgets>=7.5.1->pandas_Profiling==2.7.1) (4.10.1)\n",
            "Requirement already satisfied: widgetsnbextension~=3.5.0 in /usr/local/lib/python3.7/dist-packages (from ipywidgets>=7.5.1->pandas_Profiling==2.7.1) (3.5.1)\n",
            "Requirement already satisfied: jupyter-client in /usr/local/lib/python3.7/dist-packages (from ipykernel>=4.5.1->ipywidgets>=7.5.1->pandas_Profiling==2.7.1) (5.3.5)\n",
            "Requirement already satisfied: tornado>=4.0 in /usr/local/lib/python3.7/dist-packages (from ipykernel>=4.5.1->ipywidgets>=7.5.1->pandas_Profiling==2.7.1) (5.1.1)\n",
            "Requirement already satisfied: decorator in /usr/local/lib/python3.7/dist-packages (from ipython>=4.0.0->ipywidgets>=7.5.1->pandas_Profiling==2.7.1) (4.4.2)\n",
            "Requirement already satisfied: pygments in /usr/local/lib/python3.7/dist-packages (from ipython>=4.0.0->ipywidgets>=7.5.1->pandas_Profiling==2.7.1) (2.6.1)\n",
            "Requirement already satisfied: pickleshare in /usr/local/lib/python3.7/dist-packages (from ipython>=4.0.0->ipywidgets>=7.5.1->pandas_Profiling==2.7.1) (0.7.5)\n",
            "Requirement already satisfied: simplegeneric>0.8 in /usr/local/lib/python3.7/dist-packages (from ipython>=4.0.0->ipywidgets>=7.5.1->pandas_Profiling==2.7.1) (0.8.1)\n",
            "Requirement already satisfied: pexpect in /usr/local/lib/python3.7/dist-packages (from ipython>=4.0.0->ipywidgets>=7.5.1->pandas_Profiling==2.7.1) (4.8.0)\n",
            "Requirement already satisfied: prompt-toolkit<2.0.0,>=1.0.4 in /usr/local/lib/python3.7/dist-packages (from ipython>=4.0.0->ipywidgets>=7.5.1->pandas_Profiling==2.7.1) (1.0.18)\n",
            "Requirement already satisfied: setuptools>=18.5 in /usr/local/lib/python3.7/dist-packages (from ipython>=4.0.0->ipywidgets>=7.5.1->pandas_Profiling==2.7.1) (57.4.0)\n",
            "Requirement already satisfied: MarkupSafe>=0.23 in /usr/local/lib/python3.7/dist-packages (from jinja2>=2.11.1->pandas_Profiling==2.7.1) (2.0.1)\n",
            "Requirement already satisfied: python-dateutil>=2.1 in /usr/local/lib/python3.7/dist-packages (from matplotlib>=3.2.0->pandas_Profiling==2.7.1) (2.8.2)\n",
            "Requirement already satisfied: pyparsing!=2.0.4,!=2.1.2,!=2.1.6,>=2.0.1 in /usr/local/lib/python3.7/dist-packages (from matplotlib>=3.2.0->pandas_Profiling==2.7.1) (2.4.7)\n",
            "Requirement already satisfied: cycler>=0.10 in /usr/local/lib/python3.7/dist-packages (from matplotlib>=3.2.0->pandas_Profiling==2.7.1) (0.10.0)\n",
            "Requirement already satisfied: kiwisolver>=1.0.1 in /usr/local/lib/python3.7/dist-packages (from matplotlib>=3.2.0->pandas_Profiling==2.7.1) (1.3.2)\n",
            "Requirement already satisfied: six in /usr/local/lib/python3.7/dist-packages (from cycler>=0.10->matplotlib>=3.2.0->pandas_Profiling==2.7.1) (1.15.0)\n",
            "Requirement already satisfied: seaborn in /usr/local/lib/python3.7/dist-packages (from missingno>=0.4.2->pandas_Profiling==2.7.1) (0.11.2)\n",
            "Requirement already satisfied: jsonschema!=2.5.0,>=2.4 in /usr/local/lib/python3.7/dist-packages (from nbformat>=4.2.0->ipywidgets>=7.5.1->pandas_Profiling==2.7.1) (2.6.0)\n",
            "Requirement already satisfied: jupyter-core in /usr/local/lib/python3.7/dist-packages (from nbformat>=4.2.0->ipywidgets>=7.5.1->pandas_Profiling==2.7.1) (4.7.1)\n",
            "Requirement already satisfied: pytz>=2017.2 in /usr/local/lib/python3.7/dist-packages (from pandas!=1.0.0,!=1.0.1,!=1.0.2,>=0.25.3->pandas_Profiling==2.7.1) (2018.9)\n",
            "Requirement already satisfied: wcwidth in /usr/local/lib/python3.7/dist-packages (from prompt-toolkit<2.0.0,>=1.0.4->ipython>=4.0.0->ipywidgets>=7.5.1->pandas_Profiling==2.7.1) (0.2.5)\n",
            "Requirement already satisfied: urllib3!=1.25.0,!=1.25.1,<1.26,>=1.21.1 in /usr/local/lib/python3.7/dist-packages (from requests>=2.23.0->pandas_Profiling==2.7.1) (1.24.3)\n",
            "Requirement already satisfied: idna<3,>=2.5 in /usr/local/lib/python3.7/dist-packages (from requests>=2.23.0->pandas_Profiling==2.7.1) (2.10)\n",
            "Requirement already satisfied: chardet<4,>=3.0.2 in /usr/local/lib/python3.7/dist-packages (from requests>=2.23.0->pandas_Profiling==2.7.1) (3.0.4)\n",
            "Requirement already satisfied: certifi>=2017.4.17 in /usr/local/lib/python3.7/dist-packages (from requests>=2.23.0->pandas_Profiling==2.7.1) (2021.5.30)\n",
            "Requirement already satisfied: notebook>=4.4.1 in /usr/local/lib/python3.7/dist-packages (from widgetsnbextension~=3.5.0->ipywidgets>=7.5.1->pandas_Profiling==2.7.1) (5.3.1)\n",
            "Requirement already satisfied: Send2Trash in /usr/local/lib/python3.7/dist-packages (from notebook>=4.4.1->widgetsnbextension~=3.5.0->ipywidgets>=7.5.1->pandas_Profiling==2.7.1) (1.8.0)\n",
            "Requirement already satisfied: terminado>=0.8.1 in /usr/local/lib/python3.7/dist-packages (from notebook>=4.4.1->widgetsnbextension~=3.5.0->ipywidgets>=7.5.1->pandas_Profiling==2.7.1) (0.12.1)\n",
            "Requirement already satisfied: nbconvert in /usr/local/lib/python3.7/dist-packages (from notebook>=4.4.1->widgetsnbextension~=3.5.0->ipywidgets>=7.5.1->pandas_Profiling==2.7.1) (5.6.1)\n",
            "Requirement already satisfied: pyzmq>=13 in /usr/local/lib/python3.7/dist-packages (from jupyter-client->ipykernel>=4.5.1->ipywidgets>=7.5.1->pandas_Profiling==2.7.1) (22.2.1)\n",
            "Requirement already satisfied: ptyprocess in /usr/local/lib/python3.7/dist-packages (from terminado>=0.8.1->notebook>=4.4.1->widgetsnbextension~=3.5.0->ipywidgets>=7.5.1->pandas_Profiling==2.7.1) (0.7.0)\n",
            "Requirement already satisfied: PyWavelets in /usr/local/lib/python3.7/dist-packages (from imagehash->visions[type_image_path]==0.4.1->pandas_Profiling==2.7.1) (1.1.1)\n",
            "Requirement already satisfied: zipp>=0.5 in /usr/local/lib/python3.7/dist-packages (from importlib-metadata->astropy>=4.0->pandas_Profiling==2.7.1) (3.5.0)\n",
            "Requirement already satisfied: typing-extensions>=3.6.4 in /usr/local/lib/python3.7/dist-packages (from importlib-metadata->astropy>=4.0->pandas_Profiling==2.7.1) (3.7.4.3)\n",
            "Requirement already satisfied: mistune<2,>=0.8.1 in /usr/local/lib/python3.7/dist-packages (from nbconvert->notebook>=4.4.1->widgetsnbextension~=3.5.0->ipywidgets>=7.5.1->pandas_Profiling==2.7.1) (0.8.4)\n",
            "Requirement already satisfied: bleach in /usr/local/lib/python3.7/dist-packages (from nbconvert->notebook>=4.4.1->widgetsnbextension~=3.5.0->ipywidgets>=7.5.1->pandas_Profiling==2.7.1) (4.1.0)\n",
            "Requirement already satisfied: pandocfilters>=1.4.1 in /usr/local/lib/python3.7/dist-packages (from nbconvert->notebook>=4.4.1->widgetsnbextension~=3.5.0->ipywidgets>=7.5.1->pandas_Profiling==2.7.1) (1.5.0)\n",
            "Requirement already satisfied: entrypoints>=0.2.2 in /usr/local/lib/python3.7/dist-packages (from nbconvert->notebook>=4.4.1->widgetsnbextension~=3.5.0->ipywidgets>=7.5.1->pandas_Profiling==2.7.1) (0.3)\n",
            "Requirement already satisfied: defusedxml in /usr/local/lib/python3.7/dist-packages (from nbconvert->notebook>=4.4.1->widgetsnbextension~=3.5.0->ipywidgets>=7.5.1->pandas_Profiling==2.7.1) (0.7.1)\n",
            "Requirement already satisfied: testpath in /usr/local/lib/python3.7/dist-packages (from nbconvert->notebook>=4.4.1->widgetsnbextension~=3.5.0->ipywidgets>=7.5.1->pandas_Profiling==2.7.1) (0.5.0)\n",
            "Requirement already satisfied: packaging in /usr/local/lib/python3.7/dist-packages (from bleach->nbconvert->notebook>=4.4.1->widgetsnbextension~=3.5.0->ipywidgets>=7.5.1->pandas_Profiling==2.7.1) (21.0)\n",
            "Requirement already satisfied: webencodings in /usr/local/lib/python3.7/dist-packages (from bleach->nbconvert->notebook>=4.4.1->widgetsnbextension~=3.5.0->ipywidgets>=7.5.1->pandas_Profiling==2.7.1) (0.5.1)\n",
            "Requirement already satisfied: sweetviz in /usr/local/lib/python3.7/dist-packages (2.1.3)\n",
            "Requirement already satisfied: scipy>=1.3.2 in /usr/local/lib/python3.7/dist-packages (from sweetviz) (1.7.1)\n",
            "Requirement already satisfied: tqdm>=4.43.0 in /usr/local/lib/python3.7/dist-packages (from sweetviz) (4.62.2)\n",
            "Requirement already satisfied: pandas!=1.0.0,!=1.0.1,!=1.0.2,>=0.25.3 in /usr/local/lib/python3.7/dist-packages (from sweetviz) (1.1.5)\n",
            "Requirement already satisfied: matplotlib>=3.1.3 in /usr/local/lib/python3.7/dist-packages (from sweetviz) (3.2.2)\n",
            "Requirement already satisfied: numpy>=1.16.0 in /usr/local/lib/python3.7/dist-packages (from sweetviz) (1.19.5)\n",
            "Requirement already satisfied: jinja2>=2.11.1 in /usr/local/lib/python3.7/dist-packages (from sweetviz) (2.11.3)\n",
            "Requirement already satisfied: importlib-resources>=1.2.0 in /usr/local/lib/python3.7/dist-packages (from sweetviz) (5.2.2)\n",
            "Requirement already satisfied: zipp>=3.1.0 in /usr/local/lib/python3.7/dist-packages (from importlib-resources>=1.2.0->sweetviz) (3.5.0)\n",
            "Requirement already satisfied: MarkupSafe>=0.23 in /usr/local/lib/python3.7/dist-packages (from jinja2>=2.11.1->sweetviz) (2.0.1)\n",
            "Requirement already satisfied: python-dateutil>=2.1 in /usr/local/lib/python3.7/dist-packages (from matplotlib>=3.1.3->sweetviz) (2.8.2)\n",
            "Requirement already satisfied: pyparsing!=2.0.4,!=2.1.2,!=2.1.6,>=2.0.1 in /usr/local/lib/python3.7/dist-packages (from matplotlib>=3.1.3->sweetviz) (2.4.7)\n",
            "Requirement already satisfied: kiwisolver>=1.0.1 in /usr/local/lib/python3.7/dist-packages (from matplotlib>=3.1.3->sweetviz) (1.3.2)\n",
            "Requirement already satisfied: cycler>=0.10 in /usr/local/lib/python3.7/dist-packages (from matplotlib>=3.1.3->sweetviz) (0.10.0)\n",
            "Requirement already satisfied: six in /usr/local/lib/python3.7/dist-packages (from cycler>=0.10->matplotlib>=3.1.3->sweetviz) (1.15.0)\n",
            "Requirement already satisfied: pytz>=2017.2 in /usr/local/lib/python3.7/dist-packages (from pandas!=1.0.0,!=1.0.1,!=1.0.2,>=0.25.3->sweetviz) (2018.9)\n"
          ]
        }
      ]
    },
    {
      "cell_type": "code",
      "metadata": {
        "id": "_P7d71Uv1h-8"
      },
      "source": [
        "import pandas_profiling as pp\n",
        "import sweetviz as sv"
      ],
      "execution_count": 435,
      "outputs": []
    },
    {
      "cell_type": "code",
      "metadata": {
        "colab": {
          "base_uri": "https://localhost:8080/",
          "height": 145,
          "referenced_widgets": [
            "d6e865aa74564bebb5289fe8cdb62c40",
            "94536d3bf2fe41e9b3c3fcc1e83044a9",
            "82c82e1ea3d1470fae1d98f05cbe69ed",
            "b0adbc1e807041b2948631a61453097a",
            "ac442a6de3e44d838be8de2bd994bb85",
            "65099160ccad42d9917d0cba12e8b195",
            "3b4cfb374dc34727b329d2dcbae5f879",
            "b29a29b8cbc647f88ea45c503153ec75",
            "fc3820d3f9b74be7a96255f839b7d3b5",
            "86e22be4777e4299a0e160d1c4f74067",
            "3afbef656ca04d13bdf4cd22be976921",
            "babb06ce6cd2461e9de9fbb27d1808b2",
            "4fe602038d274835863075435928b403",
            "dbc8a4631aac4e148a9e4dfdb4d108cd",
            "d9dbccb6a8674634bb9c65a92082e1fb",
            "d01c04baec0f4c1298df5c07150ae697",
            "6e8b5cf9d3b54e6e9acd4107a90bfcc3",
            "5f739eaf1ae24582a1fc1ec67907b53b",
            "261bddb9c0e64559b6281f2427e4f72d",
            "076cfdd26c5142d688388ac8e2d1f7a7",
            "9c281c415db1413bb0abb95b7fd7149f",
            "c680c705577641d38cc5c1d3f7e4adab",
            "084a5f7b500041af82694ddbec1a2998",
            "a3490195e96a4a80bcc91cb8a0fd2062",
            "bdb243be55be443ba8bcb888366390eb",
            "d44322a9e5af4fc283aee54a92aa299f",
            "d5372aee9e964a61848e5ef7606638fd",
            "d5d6509275e34cb5b78cce1c562d5fb9",
            "8d937ab7027a451e8708497cfca48e71",
            "c3d61ff4641a4c21afad0151e4df0236",
            "5efb63873c164ce2b29e188e16f63204",
            "61a17be9ca364395b478de42c53a21e4",
            "d62db91a4e734f9d882aa28681f875a2",
            "9d650c429b7f40ddad6064ca9d005dcf",
            "066c7883eb784db1a94e16782adde679",
            "b59087bf493749cd9354bd5577d01527",
            "9191f226c3b64405af7daab3477ec70a",
            "c0e7663d646e40a793beef2b546dbfad",
            "24f1659aca8d4b1184e46a90a8f1499d",
            "0d06292f57c44b91940c878be51007d6",
            "befb7c0b1a8c40f6bf1b5a6d1ec45060",
            "50e6c4630c3e4804b788324525b8e5a4",
            "6c6adbc9e8414b7bb67035e7c95acbad",
            "eea149b8f25b418f875a3a017ea0d3aa"
          ]
        },
        "id": "_JL286RP1iD5",
        "outputId": "f1d6f139-ef7f-4ac6-dc3b-f851a7a1e737"
      },
      "source": [
        "EDA_startup_report= pp.ProfileReport(startup)\n",
        "EDA_startup_report.to_file(output_file='startup_report.html')"
      ],
      "execution_count": 436,
      "outputs": [
        {
          "output_type": "display_data",
          "data": {
            "application/vnd.jupyter.widget-view+json": {
              "model_id": "d6e865aa74564bebb5289fe8cdb62c40",
              "version_minor": 0,
              "version_major": 2
            },
            "text/plain": [
              "Summarize dataset:   0%|          | 0/19 [00:00<?, ?it/s]"
            ]
          },
          "metadata": {}
        },
        {
          "output_type": "display_data",
          "data": {
            "application/vnd.jupyter.widget-view+json": {
              "model_id": "babb06ce6cd2461e9de9fbb27d1808b2",
              "version_minor": 0,
              "version_major": 2
            },
            "text/plain": [
              "Generate report structure:   0%|          | 0/1 [00:00<?, ?it/s]"
            ]
          },
          "metadata": {}
        },
        {
          "output_type": "display_data",
          "data": {
            "application/vnd.jupyter.widget-view+json": {
              "model_id": "084a5f7b500041af82694ddbec1a2998",
              "version_minor": 0,
              "version_major": 2
            },
            "text/plain": [
              "Render HTML:   0%|          | 0/1 [00:00<?, ?it/s]"
            ]
          },
          "metadata": {}
        },
        {
          "output_type": "display_data",
          "data": {
            "application/vnd.jupyter.widget-view+json": {
              "model_id": "9d650c429b7f40ddad6064ca9d005dcf",
              "version_minor": 0,
              "version_major": 2
            },
            "text/plain": [
              "Export report to file:   0%|          | 0/1 [00:00<?, ?it/s]"
            ]
          },
          "metadata": {}
        }
      ]
    },
    {
      "cell_type": "markdown",
      "metadata": {
        "id": "S9qNNoGa15Rd"
      },
      "source": [
        "# **# Speed up the EDA process BY SWEETVIZ LIBRARY**"
      ]
    },
    {
      "cell_type": "code",
      "metadata": {
        "colab": {
          "base_uri": "https://localhost:8080/",
          "height": 67,
          "referenced_widgets": [
            "487df74d1fdf40fa8873ce90b74c14e6",
            "f500fc0cf86248d09141ab00a35f9e2c",
            "2455c083ac0244dca564471453f866e7",
            "fb11701e69904ddf8fc42c355f2e974a",
            "c3b0631b7da845d8bbcc46a4f1cc11cd",
            "3fae405901c94bd3bd410b984a38298c",
            "810db3ca93e44f2b915ecdd91ae3129f",
            "7a3c120721ed4be990056ea0ecaecd2d",
            "cf0498637e07476aa8bff9808d5563c8",
            "3e0f3357db1d4879b55c16d748152772",
            "54750df4397747c7a01f2d981987c14f"
          ]
        },
        "id": "gF7fwSxk16Xs",
        "outputId": "20f08e4c-9572-416e-ddc2-70779092b0bc"
      },
      "source": [
        "sweet_report = sv.analyze(startup)\n",
        "sweet_report.show_html('startup_report.html')"
      ],
      "execution_count": 437,
      "outputs": [
        {
          "output_type": "display_data",
          "data": {
            "application/vnd.jupyter.widget-view+json": {
              "model_id": "487df74d1fdf40fa8873ce90b74c14e6",
              "version_minor": 0,
              "version_major": 2
            },
            "text/plain": [
              "                                             |          | [  0%]   00:00 -> (? left)"
            ]
          },
          "metadata": {}
        },
        {
          "output_type": "stream",
          "name": "stdout",
          "text": [
            "Report startup_report.html was generated! NOTEBOOK/COLAB USERS: the web browser MAY not pop up, regardless, the report IS saved in your notebook/colab files.\n"
          ]
        }
      ]
    },
    {
      "cell_type": "code",
      "metadata": {
        "id": "My7C7pul16aY"
      },
      "source": [
        ""
      ],
      "execution_count": 437,
      "outputs": []
    },
    {
      "cell_type": "markdown",
      "metadata": {
        "id": "5ZQIDzivq79c"
      },
      "source": [
        "# **PAIR PLOT------HISTOGRAM AND SCATTERPLOT**"
      ]
    },
    {
      "cell_type": "code",
      "metadata": {
        "id": "dCHIXPC6qvIU"
      },
      "source": [
        "#fomat the the plot background and scatterplots for all the variables"
      ],
      "execution_count": 438,
      "outputs": []
    },
    {
      "cell_type": "code",
      "metadata": {
        "colab": {
          "base_uri": "https://localhost:8080/",
          "height": 1000
        },
        "id": "zr-fEKSQq9ms",
        "outputId": "986ad6de-ffcd-45b0-bd21-826acc2838c3"
      },
      "source": [
        "sns.set_style(style='darkgrid')\n",
        "sns.pairplot(startup)"
      ],
      "execution_count": 439,
      "outputs": [
        {
          "output_type": "execute_result",
          "data": {
            "text/plain": [
              "<seaborn.axisgrid.PairGrid at 0x7f83abafec10>"
            ]
          },
          "metadata": {},
          "execution_count": 439
        },
        {
          "output_type": "display_data",
          "data": {
            "image/png": "[encoded data removed]",
            "text/plain": [
              "<Figure size 1750x1750 with 56 Axes>"
            ]
          },
          "metadata": {}
        }
      ]
    },
    {
      "cell_type": "markdown",
      "metadata": {
        "id": "Dq5UVkocrFCm"
      },
      "source": [
        "# **BIULDING A MODEL**"
      ]
    },
    {
      "cell_type": "code",
      "metadata": {
        "id": "c9UtB57o4FaY"
      },
      "source": [
        "startup.rename(columns={'State_New York':'State_NY'},inplace=True)"
      ],
      "execution_count": 440,
      "outputs": []
    },
    {
      "cell_type": "code",
      "metadata": {
        "id": "u97vBXO9q9o-"
      },
      "source": [
        "model=smf.ols('Profit~rdspend+admin+Mspend+State_California+State_Florida+State_NY',data=startup).fit()"
      ],
      "execution_count": 441,
      "outputs": []
    },
    {
      "cell_type": "code",
      "metadata": {
        "colab": {
          "base_uri": "https://localhost:8080/"
        },
        "id": "1fNnmgfcq9rC",
        "outputId": "b64818e1-a108-4ff2-9ec5-50e37516e8c3"
      },
      "source": [
        "#coefficients\n",
        "model.params"
      ],
      "execution_count": 442,
      "outputs": [
        {
          "output_type": "execute_result",
          "data": {
            "text/plain": [
              "Intercept           37633.233317\n",
              "rdspend                 0.806023\n",
              "admin                  -0.027004\n",
              "Mspend                  0.026980\n",
              "State_California    12492.110514\n",
              "State_Florida       12690.899307\n",
              "State_NY            12450.223495\n",
              "dtype: float64"
            ]
          },
          "metadata": {},
          "execution_count": 442
        }
      ]
    },
    {
      "cell_type": "code",
      "metadata": {
        "colab": {
          "base_uri": "https://localhost:8080/"
        },
        "id": "sBrY2g-Nq9tk",
        "outputId": "f18a71bd-7e54-4aa9-a2d1-f88ac5e658e9"
      },
      "source": [
        "####t-value and p value\n",
        "print(model.tvalues, '\\n', model.pvalues)"
      ],
      "execution_count": 443,
      "outputs": [
        {
          "output_type": "stream",
          "name": "stdout",
          "text": [
            "Intercept            7.417409\n",
            "rdspend             17.368580\n",
            "admin               -0.517012\n",
            "Mspend               1.573889\n",
            "State_California     5.099242\n",
            "State_Florida        4.654306\n",
            "State_NY             5.007401\n",
            "dtype: float64 \n",
            " Intercept           2.807645e-09\n",
            "rdspend             2.578772e-21\n",
            "admin               6.077373e-01\n",
            "Mspend              1.226769e-01\n",
            "State_California    6.942555e-06\n",
            "State_Florida       2.992503e-05\n",
            "State_NY            9.409010e-06\n",
            "dtype: float64\n"
          ]
        }
      ]
    },
    {
      "cell_type": "code",
      "metadata": {
        "colab": {
          "base_uri": "https://localhost:8080/"
        },
        "id": "SIoqXix1uia-",
        "outputId": "4b7b0f89-01d3-425e-cee1-5e48698941f5"
      },
      "source": [
        "##R^2 value\n",
        "(model.rsquared, model.rsquared_adj)"
      ],
      "execution_count": 444,
      "outputs": [
        {
          "output_type": "execute_result",
          "data": {
            "text/plain": [
              "(0.9507524843355148, 0.945156175737278)"
            ]
          },
          "metadata": {},
          "execution_count": 444
        }
      ]
    },
    {
      "cell_type": "code",
      "metadata": {
        "id": "iHvlH8O9uid0"
      },
      "source": [
        "##admin  and Mspend are insignificant.(admin----6.077373e-01 and Mspend--.226769e-01) because their pvalues are greater than 0.05"
      ],
      "execution_count": 445,
      "outputs": []
    },
    {
      "cell_type": "markdown",
      "metadata": {
        "id": "iPMtEXwG4-ml"
      },
      "source": [
        "## **SIMPLE LINEAR REGRESSION MODELS**"
      ]
    },
    {
      "cell_type": "code",
      "metadata": {
        "colab": {
          "base_uri": "https://localhost:8080/",
          "height": 268
        },
        "id": "L2r-hCCy3v2Z",
        "outputId": "20e34d7d-f6ea-4976-9463-ae31663fc6c2"
      },
      "source": [
        "startup.corr()"
      ],
      "execution_count": 446,
      "outputs": [
        {
          "output_type": "execute_result",
          "data": {
            "text/html": [
              "<div>\n",
              "<style scoped>\n",
              "    .dataframe tbody tr th:only-of-type {\n",
              "        vertical-align: middle;\n",
              "    }\n",
              "\n",
              "    .dataframe tbody tr th {\n",
              "        vertical-align: top;\n",
              "    }\n",
              "\n",
              "    .dataframe thead th {\n",
              "        text-align: right;\n",
              "    }\n",
              "</style>\n",
              "<table border=\"1\" class=\"dataframe\">\n",
              "  <thead>\n",
              "    <tr style=\"text-align: right;\">\n",
              "      <th></th>\n",
              "      <th>rdspend</th>\n",
              "      <th>admin</th>\n",
              "      <th>Mspend</th>\n",
              "      <th>Profit</th>\n",
              "      <th>State_California</th>\n",
              "      <th>State_Florida</th>\n",
              "      <th>State_NY</th>\n",
              "    </tr>\n",
              "  </thead>\n",
              "  <tbody>\n",
              "    <tr>\n",
              "      <th>rdspend</th>\n",
              "      <td>1.000000</td>\n",
              "      <td>0.241955</td>\n",
              "      <td>0.724248</td>\n",
              "      <td>0.972900</td>\n",
              "      <td>-0.143165</td>\n",
              "      <td>0.105711</td>\n",
              "      <td>0.039068</td>\n",
              "    </tr>\n",
              "    <tr>\n",
              "      <th>admin</th>\n",
              "      <td>0.241955</td>\n",
              "      <td>1.000000</td>\n",
              "      <td>-0.032154</td>\n",
              "      <td>0.200717</td>\n",
              "      <td>-0.015478</td>\n",
              "      <td>0.010493</td>\n",
              "      <td>0.005145</td>\n",
              "    </tr>\n",
              "    <tr>\n",
              "      <th>Mspend</th>\n",
              "      <td>0.724248</td>\n",
              "      <td>-0.032154</td>\n",
              "      <td>1.000000</td>\n",
              "      <td>0.747766</td>\n",
              "      <td>-0.168875</td>\n",
              "      <td>0.205685</td>\n",
              "      <td>-0.033670</td>\n",
              "    </tr>\n",
              "    <tr>\n",
              "      <th>Profit</th>\n",
              "      <td>0.972900</td>\n",
              "      <td>0.200717</td>\n",
              "      <td>0.747766</td>\n",
              "      <td>1.000000</td>\n",
              "      <td>-0.145837</td>\n",
              "      <td>0.116244</td>\n",
              "      <td>0.031368</td>\n",
              "    </tr>\n",
              "    <tr>\n",
              "      <th>State_California</th>\n",
              "      <td>-0.143165</td>\n",
              "      <td>-0.015478</td>\n",
              "      <td>-0.168875</td>\n",
              "      <td>-0.145837</td>\n",
              "      <td>1.000000</td>\n",
              "      <td>-0.492366</td>\n",
              "      <td>-0.515152</td>\n",
              "    </tr>\n",
              "    <tr>\n",
              "      <th>State_Florida</th>\n",
              "      <td>0.105711</td>\n",
              "      <td>0.010493</td>\n",
              "      <td>0.205685</td>\n",
              "      <td>0.116244</td>\n",
              "      <td>-0.492366</td>\n",
              "      <td>1.000000</td>\n",
              "      <td>-0.492366</td>\n",
              "    </tr>\n",
              "    <tr>\n",
              "      <th>State_NY</th>\n",
              "      <td>0.039068</td>\n",
              "      <td>0.005145</td>\n",
              "      <td>-0.033670</td>\n",
              "      <td>0.031368</td>\n",
              "      <td>-0.515152</td>\n",
              "      <td>-0.492366</td>\n",
              "      <td>1.000000</td>\n",
              "    </tr>\n",
              "  </tbody>\n",
              "</table>\n",
              "</div>"
            ],
            "text/plain": [
              "                   rdspend     admin  ...  State_Florida  State_NY\n",
              "rdspend           1.000000  0.241955  ...       0.105711  0.039068\n",
              "admin             0.241955  1.000000  ...       0.010493  0.005145\n",
              "Mspend            0.724248 -0.032154  ...       0.205685 -0.033670\n",
              "Profit            0.972900  0.200717  ...       0.116244  0.031368\n",
              "State_California -0.143165 -0.015478  ...      -0.492366 -0.515152\n",
              "State_Florida     0.105711  0.010493  ...       1.000000 -0.492366\n",
              "State_NY          0.039068  0.005145  ...      -0.492366  1.000000\n",
              "\n",
              "[7 rows x 7 columns]"
            ]
          },
          "metadata": {},
          "execution_count": 446
        }
      ]
    },
    {
      "cell_type": "code",
      "metadata": {
        "colab": {
          "base_uri": "https://localhost:8080/"
        },
        "id": "IR0U8oAvuigD",
        "outputId": "0ce263b9-fbce-447d-9f14-52f2a379f7d9"
      },
      "source": [
        "### Profit Vs admin\n",
        "\n",
        "ml_a=smf.ols('Profit~admin',data = startup).fit()  \n",
        "\n",
        "#t and p-Values\n",
        "print(ml_a.tvalues, '\\n', ml_a.pvalues)  "
      ],
      "execution_count": 447,
      "outputs": [
        {
          "output_type": "stream",
          "name": "stdout",
          "text": [
            "Intercept    3.040044\n",
            "admin        1.419493\n",
            "dtype: float64 \n",
            " Intercept    0.003824\n",
            "admin        0.162217\n",
            "dtype: float64\n"
          ]
        }
      ]
    },
    {
      "cell_type": "code",
      "metadata": {
        "colab": {
          "base_uri": "https://localhost:8080/"
        },
        "id": "lAY6P8Ey5w2j",
        "outputId": "4e18ab60-729c-4116-f533-21ac3b6e12d5"
      },
      "source": [
        "##R^2 value\n",
        "(ml_a.rsquared, ml_a.rsquared_adj)"
      ],
      "execution_count": 448,
      "outputs": [
        {
          "output_type": "execute_result",
          "data": {
            "text/plain": [
              "(0.04028714077757245, 0.020293122877105274)"
            ]
          },
          "metadata": {},
          "execution_count": 448
        }
      ]
    },
    {
      "cell_type": "code",
      "metadata": {
        "colab": {
          "base_uri": "https://localhost:8080/"
        },
        "id": "3PZgqp0N5H6c",
        "outputId": "a674ebc6-42f6-40e5-fa53-b9be0b0d870e"
      },
      "source": [
        "### Profit Vs Mspend\n",
        "\n",
        "ml_m=smf.ols('Profit~Mspend',data = startup).fit()  \n",
        "\n",
        "#t and p-Values\n",
        "print(ml_m.tvalues, '\\n', ml_m.pvalues)  "
      ],
      "execution_count": 449,
      "outputs": [
        {
          "output_type": "stream",
          "name": "stdout",
          "text": [
            "Intercept    7.808356\n",
            "Mspend       7.802657\n",
            "dtype: float64 \n",
            " Intercept    4.294735e-10\n",
            "Mspend       4.381073e-10\n",
            "dtype: float64\n"
          ]
        }
      ]
    },
    {
      "cell_type": "code",
      "metadata": {
        "colab": {
          "base_uri": "https://localhost:8080/"
        },
        "id": "Z0_q5YxO5H9m",
        "outputId": "1ab9965b-a3fb-4238-bb7c-f8c139341f3b"
      },
      "source": [
        "##R^2 value\n",
        "(ml_m.rsquared, ml_m.rsquared_adj)"
      ],
      "execution_count": 450,
      "outputs": [
        {
          "output_type": "execute_result",
          "data": {
            "text/plain": [
              "(0.5591535746115515, 0.5499692740826254)"
            ]
          },
          "metadata": {},
          "execution_count": 450
        }
      ]
    },
    {
      "cell_type": "code",
      "metadata": {
        "colab": {
          "base_uri": "https://localhost:8080/"
        },
        "id": "W-PZ7CIl5IB3",
        "outputId": "f2e5eb81-523d-419b-9e88-a5b8f63a88dc"
      },
      "source": [
        "### Profit Vs admin and Mspend\n",
        "ml_am=smf.ols('Profit~admin+Mspend',data = startup).fit()  \n",
        "\n",
        "#t and p-Values\n",
        "print(ml_am.tvalues, '\\n', ml_am.pvalues)  "
      ],
      "execution_count": 451,
      "outputs": [
        {
          "output_type": "stream",
          "name": "stdout",
          "text": [
            "Intercept    1.142741\n",
            "admin        2.467779\n",
            "Mspend       8.281039\n",
            "dtype: float64 \n",
            " Intercept    2.589341e-01\n",
            "admin        1.729198e-02\n",
            "Mspend       9.727245e-11\n",
            "dtype: float64\n"
          ]
        }
      ]
    },
    {
      "cell_type": "code",
      "metadata": {
        "colab": {
          "base_uri": "https://localhost:8080/"
        },
        "id": "QKD5Cwwm6HI9",
        "outputId": "191f82ef-18b5-4921-ff27-662380dca114"
      },
      "source": [
        "##R^2 value\n",
        "(ml_am.rsquared, ml_am.rsquared_adj)"
      ],
      "execution_count": 452,
      "outputs": [
        {
          "output_type": "execute_result",
          "data": {
            "text/plain": [
              "(0.6097229746770663, 0.593115441684601)"
            ]
          },
          "metadata": {},
          "execution_count": 452
        }
      ]
    },
    {
      "cell_type": "code",
      "metadata": {
        "id": "ebiblbaQ6l89"
      },
      "source": [
        "####Profit Vs admin and Mspend BECOMES SIGNIFICANT BECAUSE THE P VALUR IS < THAN 0.05"
      ],
      "execution_count": 453,
      "outputs": []
    },
    {
      "cell_type": "code",
      "metadata": {
        "colab": {
          "base_uri": "https://localhost:8080/",
          "height": 268
        },
        "id": "Oii8VEW56-uB",
        "outputId": "17c4c5db-2050-4525-d7ed-b8bb1cf674d4"
      },
      "source": [
        "startup.corr()"
      ],
      "execution_count": 454,
      "outputs": [
        {
          "output_type": "execute_result",
          "data": {
            "text/html": [
              "<div>\n",
              "<style scoped>\n",
              "    .dataframe tbody tr th:only-of-type {\n",
              "        vertical-align: middle;\n",
              "    }\n",
              "\n",
              "    .dataframe tbody tr th {\n",
              "        vertical-align: top;\n",
              "    }\n",
              "\n",
              "    .dataframe thead th {\n",
              "        text-align: right;\n",
              "    }\n",
              "</style>\n",
              "<table border=\"1\" class=\"dataframe\">\n",
              "  <thead>\n",
              "    <tr style=\"text-align: right;\">\n",
              "      <th></th>\n",
              "      <th>rdspend</th>\n",
              "      <th>admin</th>\n",
              "      <th>Mspend</th>\n",
              "      <th>Profit</th>\n",
              "      <th>State_California</th>\n",
              "      <th>State_Florida</th>\n",
              "      <th>State_NY</th>\n",
              "    </tr>\n",
              "  </thead>\n",
              "  <tbody>\n",
              "    <tr>\n",
              "      <th>rdspend</th>\n",
              "      <td>1.000000</td>\n",
              "      <td>0.241955</td>\n",
              "      <td>0.724248</td>\n",
              "      <td>0.972900</td>\n",
              "      <td>-0.143165</td>\n",
              "      <td>0.105711</td>\n",
              "      <td>0.039068</td>\n",
              "    </tr>\n",
              "    <tr>\n",
              "      <th>admin</th>\n",
              "      <td>0.241955</td>\n",
              "      <td>1.000000</td>\n",
              "      <td>-0.032154</td>\n",
              "      <td>0.200717</td>\n",
              "      <td>-0.015478</td>\n",
              "      <td>0.010493</td>\n",
              "      <td>0.005145</td>\n",
              "    </tr>\n",
              "    <tr>\n",
              "      <th>Mspend</th>\n",
              "      <td>0.724248</td>\n",
              "      <td>-0.032154</td>\n",
              "      <td>1.000000</td>\n",
              "      <td>0.747766</td>\n",
              "      <td>-0.168875</td>\n",
              "      <td>0.205685</td>\n",
              "      <td>-0.033670</td>\n",
              "    </tr>\n",
              "    <tr>\n",
              "      <th>Profit</th>\n",
              "      <td>0.972900</td>\n",
              "      <td>0.200717</td>\n",
              "      <td>0.747766</td>\n",
              "      <td>1.000000</td>\n",
              "      <td>-0.145837</td>\n",
              "      <td>0.116244</td>\n",
              "      <td>0.031368</td>\n",
              "    </tr>\n",
              "    <tr>\n",
              "      <th>State_California</th>\n",
              "      <td>-0.143165</td>\n",
              "      <td>-0.015478</td>\n",
              "      <td>-0.168875</td>\n",
              "      <td>-0.145837</td>\n",
              "      <td>1.000000</td>\n",
              "      <td>-0.492366</td>\n",
              "      <td>-0.515152</td>\n",
              "    </tr>\n",
              "    <tr>\n",
              "      <th>State_Florida</th>\n",
              "      <td>0.105711</td>\n",
              "      <td>0.010493</td>\n",
              "      <td>0.205685</td>\n",
              "      <td>0.116244</td>\n",
              "      <td>-0.492366</td>\n",
              "      <td>1.000000</td>\n",
              "      <td>-0.492366</td>\n",
              "    </tr>\n",
              "    <tr>\n",
              "      <th>State_NY</th>\n",
              "      <td>0.039068</td>\n",
              "      <td>0.005145</td>\n",
              "      <td>-0.033670</td>\n",
              "      <td>0.031368</td>\n",
              "      <td>-0.515152</td>\n",
              "      <td>-0.492366</td>\n",
              "      <td>1.000000</td>\n",
              "    </tr>\n",
              "  </tbody>\n",
              "</table>\n",
              "</div>"
            ],
            "text/plain": [
              "                   rdspend     admin  ...  State_Florida  State_NY\n",
              "rdspend           1.000000  0.241955  ...       0.105711  0.039068\n",
              "admin             0.241955  1.000000  ...       0.010493  0.005145\n",
              "Mspend            0.724248 -0.032154  ...       0.205685 -0.033670\n",
              "Profit            0.972900  0.200717  ...       0.116244  0.031368\n",
              "State_California -0.143165 -0.015478  ...      -0.492366 -0.515152\n",
              "State_Florida     0.105711  0.010493  ...       1.000000 -0.492366\n",
              "State_NY          0.039068  0.005145  ...      -0.492366  1.000000\n",
              "\n",
              "[7 rows x 7 columns]"
            ]
          },
          "metadata": {},
          "execution_count": 454
        }
      ]
    },
    {
      "cell_type": "markdown",
      "metadata": {
        "id": "6yNb0FqK62J9"
      },
      "source": [
        "## **CALCULATING VIF VALUE**"
      ]
    },
    {
      "cell_type": "code",
      "metadata": {
        "colab": {
          "base_uri": "https://localhost:8080/"
        },
        "id": "T1a1oG376ovg",
        "outputId": "9df055ca-599a-427d-f45c-0889f83f266f"
      },
      "source": [
        "rsq_rdspend = smf.ols('rdspend~admin+Mspend+State_California+State_Florida+State_NY',data=startup).fit().rsquared  \n",
        "vif_rdspend = 1/(1-rsq_rdspend) # 2.4955109\n",
        "vif_rdspend"
      ],
      "execution_count": 455,
      "outputs": [
        {
          "output_type": "execute_result",
          "data": {
            "text/plain": [
              "2.4955109215494433"
            ]
          },
          "metadata": {},
          "execution_count": 455
        }
      ]
    },
    {
      "cell_type": "code",
      "metadata": {
        "colab": {
          "base_uri": "https://localhost:8080/"
        },
        "id": "fVK3Hftb6oyQ",
        "outputId": "9186233d-43ec-41d1-daa7-939302c89ae0"
      },
      "source": [
        "rsq_admin= smf.ols('admin~rdspend+Mspend+State_California+State_Florida+State_NY',data=startup).fit().rsquared  \n",
        "vif_admin = 1/(1-rsq_admin) # 1.177766\n",
        "vif_admin"
      ],
      "execution_count": 456,
      "outputs": [
        {
          "output_type": "execute_result",
          "data": {
            "text/plain": [
              "1.1777660508993844"
            ]
          },
          "metadata": {},
          "execution_count": 456
        }
      ]
    },
    {
      "cell_type": "code",
      "metadata": {
        "colab": {
          "base_uri": "https://localhost:8080/"
        },
        "id": "fB_Um4et6o1K",
        "outputId": "435218c4-60ff-46ae-b21f-eb84ca138ba1"
      },
      "source": [
        "rsq_Mspend= smf.ols('Mspend~rdspend+admin+State_California+State_Florida+State_NY',data=startup).fit().rsquared  \n",
        "vif_Mspend = 1/(1-rsq_Mspend) # 2.416796\n",
        "vif_Mspend"
      ],
      "execution_count": 457,
      "outputs": [
        {
          "output_type": "execute_result",
          "data": {
            "text/plain": [
              "2.4167967566863946"
            ]
          },
          "metadata": {},
          "execution_count": 457
        }
      ]
    },
    {
      "cell_type": "code",
      "metadata": {
        "id": "Rqg976NC7xWk"
      },
      "source": [
        ""
      ],
      "execution_count": 457,
      "outputs": []
    },
    {
      "cell_type": "markdown",
      "metadata": {
        "id": "aM-FG_dN9a54"
      },
      "source": [
        "# **# Residual Analysis**"
      ]
    },
    {
      "cell_type": "code",
      "metadata": {
        "id": "8hyvlZj09aSb"
      },
      "source": [
        "## Test for Normality of Residuals (Q-Q Plot)"
      ],
      "execution_count": 458,
      "outputs": []
    },
    {
      "cell_type": "code",
      "metadata": {
        "colab": {
          "base_uri": "https://localhost:8080/"
        },
        "id": "BDdc9aZH-74h",
        "outputId": "512c0f55-12f3-4f68-bf72-e364f1417555"
      },
      "source": [
        "startup.info()"
      ],
      "execution_count": 459,
      "outputs": [
        {
          "output_type": "stream",
          "name": "stdout",
          "text": [
            "<class 'pandas.core.frame.DataFrame'>\n",
            "RangeIndex: 50 entries, 0 to 49\n",
            "Data columns (total 7 columns):\n",
            " #   Column            Non-Null Count  Dtype  \n",
            "---  ------            --------------  -----  \n",
            " 0   rdspend           50 non-null     float64\n",
            " 1   admin             50 non-null     float64\n",
            " 2   Mspend            50 non-null     float64\n",
            " 3   Profit            50 non-null     float64\n",
            " 4   State_California  50 non-null     uint8  \n",
            " 5   State_Florida     50 non-null     uint8  \n",
            " 6   State_NY          50 non-null     uint8  \n",
            "dtypes: float64(4), uint8(3)\n",
            "memory usage: 1.8 KB\n"
          ]
        }
      ]
    },
    {
      "cell_type": "code",
      "metadata": {
        "id": "gACGkZ-V7xZW"
      },
      "source": [
        "## Residual Plot for Homoscedasticity"
      ],
      "execution_count": 460,
      "outputs": []
    },
    {
      "cell_type": "code",
      "metadata": {
        "colab": {
          "base_uri": "https://localhost:8080/",
          "height": 513
        },
        "id": "19MVDSq1-v39",
        "outputId": "9c988047-2add-4ad3-975c-0b36a9d49b32"
      },
      "source": [
        "def get_standardized_values(vals):return(vals-vals.mean())/vals.std()\n",
        "\n",
        "plt.scatter(get_standardized_values(model.fittedvalues),get_standardized_values(model.resid))\n",
        "\n",
        "plt.title('Residual Plot')\n",
        "plt.xlabel('Standardized Fitted values')\n",
        "plt.ylabel('Standardized residual values')\n",
        "plt.show()"
      ],
      "execution_count": 461,
      "outputs": [
        {
          "output_type": "display_data",
          "data": {
            "image/png": "[encoded data removed]",
            "text/plain": [
              "<Figure size 800x550 with 1 Axes>"
            ]
          },
          "metadata": {}
        }
      ]
    },
    {
      "cell_type": "code",
      "metadata": {
        "colab": {
          "base_uri": "https://localhost:8080/",
          "height": 268
        },
        "id": "ia_8cP2vAH4l",
        "outputId": "d8f3e91f-c7ee-4591-f601-80bb02e8fb1a"
      },
      "source": [
        "startup.corr()"
      ],
      "execution_count": 462,
      "outputs": [
        {
          "output_type": "execute_result",
          "data": {
            "text/html": [
              "<div>\n",
              "<style scoped>\n",
              "    .dataframe tbody tr th:only-of-type {\n",
              "        vertical-align: middle;\n",
              "    }\n",
              "\n",
              "    .dataframe tbody tr th {\n",
              "        vertical-align: top;\n",
              "    }\n",
              "\n",
              "    .dataframe thead th {\n",
              "        text-align: right;\n",
              "    }\n",
              "</style>\n",
              "<table border=\"1\" class=\"dataframe\">\n",
              "  <thead>\n",
              "    <tr style=\"text-align: right;\">\n",
              "      <th></th>\n",
              "      <th>rdspend</th>\n",
              "      <th>admin</th>\n",
              "      <th>Mspend</th>\n",
              "      <th>Profit</th>\n",
              "      <th>State_California</th>\n",
              "      <th>State_Florida</th>\n",
              "      <th>State_NY</th>\n",
              "    </tr>\n",
              "  </thead>\n",
              "  <tbody>\n",
              "    <tr>\n",
              "      <th>rdspend</th>\n",
              "      <td>1.000000</td>\n",
              "      <td>0.241955</td>\n",
              "      <td>0.724248</td>\n",
              "      <td>0.972900</td>\n",
              "      <td>-0.143165</td>\n",
              "      <td>0.105711</td>\n",
              "      <td>0.039068</td>\n",
              "    </tr>\n",
              "    <tr>\n",
              "      <th>admin</th>\n",
              "      <td>0.241955</td>\n",
              "      <td>1.000000</td>\n",
              "      <td>-0.032154</td>\n",
              "      <td>0.200717</td>\n",
              "      <td>-0.015478</td>\n",
              "      <td>0.010493</td>\n",
              "      <td>0.005145</td>\n",
              "    </tr>\n",
              "    <tr>\n",
              "      <th>Mspend</th>\n",
              "      <td>0.724248</td>\n",
              "      <td>-0.032154</td>\n",
              "      <td>1.000000</td>\n",
              "      <td>0.747766</td>\n",
              "      <td>-0.168875</td>\n",
              "      <td>0.205685</td>\n",
              "      <td>-0.033670</td>\n",
              "    </tr>\n",
              "    <tr>\n",
              "      <th>Profit</th>\n",
              "      <td>0.972900</td>\n",
              "      <td>0.200717</td>\n",
              "      <td>0.747766</td>\n",
              "      <td>1.000000</td>\n",
              "      <td>-0.145837</td>\n",
              "      <td>0.116244</td>\n",
              "      <td>0.031368</td>\n",
              "    </tr>\n",
              "    <tr>\n",
              "      <th>State_California</th>\n",
              "      <td>-0.143165</td>\n",
              "      <td>-0.015478</td>\n",
              "      <td>-0.168875</td>\n",
              "      <td>-0.145837</td>\n",
              "      <td>1.000000</td>\n",
              "      <td>-0.492366</td>\n",
              "      <td>-0.515152</td>\n",
              "    </tr>\n",
              "    <tr>\n",
              "      <th>State_Florida</th>\n",
              "      <td>0.105711</td>\n",
              "      <td>0.010493</td>\n",
              "      <td>0.205685</td>\n",
              "      <td>0.116244</td>\n",
              "      <td>-0.492366</td>\n",
              "      <td>1.000000</td>\n",
              "      <td>-0.492366</td>\n",
              "    </tr>\n",
              "    <tr>\n",
              "      <th>State_NY</th>\n",
              "      <td>0.039068</td>\n",
              "      <td>0.005145</td>\n",
              "      <td>-0.033670</td>\n",
              "      <td>0.031368</td>\n",
              "      <td>-0.515152</td>\n",
              "      <td>-0.492366</td>\n",
              "      <td>1.000000</td>\n",
              "    </tr>\n",
              "  </tbody>\n",
              "</table>\n",
              "</div>"
            ],
            "text/plain": [
              "                   rdspend     admin  ...  State_Florida  State_NY\n",
              "rdspend           1.000000  0.241955  ...       0.105711  0.039068\n",
              "admin             0.241955  1.000000  ...       0.010493  0.005145\n",
              "Mspend            0.724248 -0.032154  ...       0.205685 -0.033670\n",
              "Profit            0.972900  0.200717  ...       0.116244  0.031368\n",
              "State_California -0.143165 -0.015478  ...      -0.492366 -0.515152\n",
              "State_Florida     0.105711  0.010493  ...       1.000000 -0.492366\n",
              "State_NY          0.039068  0.005145  ...      -0.492366  1.000000\n",
              "\n",
              "[7 rows x 7 columns]"
            ]
          },
          "metadata": {},
          "execution_count": 462
        }
      ]
    },
    {
      "cell_type": "code",
      "metadata": {
        "id": "zHW2GOclAH7_"
      },
      "source": [
        ""
      ],
      "execution_count": 462,
      "outputs": []
    },
    {
      "cell_type": "markdown",
      "metadata": {
        "id": "RvOsSmTjAecM"
      },
      "source": [
        "## **# Model Deletion Diagnostics**"
      ]
    },
    {
      "cell_type": "markdown",
      "metadata": {
        "id": "KVN5As8wAhoM"
      },
      "source": [
        "## **## Detecting Influencers/Outliers**"
      ]
    },
    {
      "cell_type": "markdown",
      "metadata": {
        "id": "R2hQPc88AkKv"
      },
      "source": [
        "## **## Cook’s Distance**"
      ]
    },
    {
      "cell_type": "code",
      "metadata": {
        "id": "3r8FYWEFAIFy"
      },
      "source": [
        "model_influence = model.get_influence()\n",
        "(c, _) = model_influence.cooks_distance"
      ],
      "execution_count": 463,
      "outputs": []
    },
    {
      "cell_type": "code",
      "metadata": {
        "colab": {
          "base_uri": "https://localhost:8080/",
          "height": 426
        },
        "id": "hPryy95N-v6_",
        "outputId": "b1b398b5-6b43-4eb9-dd25-6bf064dfe45e"
      },
      "source": [
        "#Plot the influencers values using stem plot\n",
        "fig = plt.subplots(figsize=(30, 7))\n",
        "plt.stem(np.arange(len(startup)), np.round(c, 3))\n",
        "plt.xlabel('Row index')\n",
        "plt.ylabel('Cooks Distance')\n",
        "plt.show()"
      ],
      "execution_count": 464,
      "outputs": [
        {
          "output_type": "stream",
          "name": "stderr",
          "text": [
            "/usr/local/lib/python3.7/dist-packages/ipykernel_launcher.py:3: UserWarning: In Matplotlib 3.3 individual lines on a stem plot will be added as a LineCollection instead of individual lines. This significantly improves the performance of a stem plot. To remove this warning and switch to the new behaviour, set the \"use_line_collection\" keyword argument to True.\n",
            "  This is separate from the ipykernel package so we can avoid doing imports until\n"
          ]
        },
        {
          "output_type": "display_data",
          "data": {
            "image/png": "[encoded data removed]",
            "text/plain": [
              "<Figure size 3000x700 with 1 Axes>"
            ]
          },
          "metadata": {}
        }
      ]
    },
    {
      "cell_type": "code",
      "metadata": {
        "colab": {
          "base_uri": "https://localhost:8080/"
        },
        "id": "vmNu7e_9Ark2",
        "outputId": "9731fda6-5c1e-4c60-b0cd-8d015a4bd8d5"
      },
      "source": [
        "#index and value of influencer where c is more than .5\n",
        "(np.argmax(c),np.max(c))"
      ],
      "execution_count": 465,
      "outputs": [
        {
          "output_type": "execute_result",
          "data": {
            "text/plain": [
              "(49, 0.22625094501509233)"
            ]
          },
          "metadata": {},
          "execution_count": 465
        }
      ]
    },
    {
      "cell_type": "markdown",
      "metadata": {
        "id": "xkxeI-EqAzHF"
      },
      "source": [
        "## **High Influence points**"
      ]
    },
    {
      "cell_type": "code",
      "metadata": {
        "colab": {
          "base_uri": "https://localhost:8080/",
          "height": 522
        },
        "id": "NLxK0leQArn1",
        "outputId": "669e5e48-752a-4edd-b2f6-a495bee38f5a"
      },
      "source": [
        "from statsmodels.graphics.regressionplots import influence_plot\n",
        "influence_plot(model)\n",
        "plt.show()"
      ],
      "execution_count": 466,
      "outputs": [
        {
          "output_type": "display_data",
          "data": {
            "image/png": "[encoded data removed]",
            "text/plain": [
              "<Figure size 800x550 with 1 Axes>"
            ]
          },
          "metadata": {}
        }
      ]
    },
    {
      "cell_type": "code",
      "metadata": {
        "id": "xJhGy1icA2UH"
      },
      "source": [
        "#### From the above plot, it is evident that data point 49 is the influencers"
      ],
      "execution_count": 467,
      "outputs": []
    },
    {
      "cell_type": "markdown",
      "metadata": {
        "id": "vEnVY2bXA_es"
      },
      "source": [
        "## **# Improving the model**"
      ]
    },
    {
      "cell_type": "code",
      "metadata": {
        "id": "dFnrpqk_A2XV"
      },
      "source": [
        "#Discard the data points which are influencers and reasign the row number (reset_index())\n",
        "startup1=startup.drop(startup.index[[47,49]],axis=0).reset_index()"
      ],
      "execution_count": 468,
      "outputs": []
    },
    {
      "cell_type": "code",
      "metadata": {
        "id": "LBKDHzzNA2bn"
      },
      "source": [
        "#Drop the original index\n",
        "startup1=startup1.drop(['index'],axis=1)\n",
        "startup1"
      ],
      "execution_count": null,
      "outputs": []
    },
    {
      "cell_type": "code",
      "metadata": {
        "colab": {
          "base_uri": "https://localhost:8080/"
        },
        "id": "_MhHsyG0DT7U",
        "outputId": "69415feb-47e8-4bee-d954-3379d94f7915"
      },
      "source": [
        "startup1.info()"
      ],
      "execution_count": 480,
      "outputs": [
        {
          "output_type": "stream",
          "name": "stdout",
          "text": [
            "<class 'pandas.core.frame.DataFrame'>\n",
            "RangeIndex: 48 entries, 0 to 47\n",
            "Data columns (total 7 columns):\n",
            " #   Column            Non-Null Count  Dtype  \n",
            "---  ------            --------------  -----  \n",
            " 0   rdspend           48 non-null     float64\n",
            " 1   admin             48 non-null     float64\n",
            " 2   Mspend            48 non-null     float64\n",
            " 3   Profit            48 non-null     float64\n",
            " 4   State_California  48 non-null     uint8  \n",
            " 5   State_Florida     48 non-null     uint8  \n",
            " 6   State_NY          48 non-null     uint8  \n",
            "dtypes: float64(4), uint8(3)\n",
            "memory usage: 1.8 KB\n"
          ]
        }
      ]
    },
    {
      "cell_type": "code",
      "metadata": {
        "colab": {
          "base_uri": "https://localhost:8080/"
        },
        "id": "-Ii8PX52DT3e",
        "outputId": "de9e25e4-1c94-455f-8d12-e692e8c769db"
      },
      "source": [
        "startup1.shape"
      ],
      "execution_count": 481,
      "outputs": [
        {
          "output_type": "execute_result",
          "data": {
            "text/plain": [
              "(48, 7)"
            ]
          },
          "metadata": {},
          "execution_count": 481
        }
      ]
    },
    {
      "cell_type": "markdown",
      "metadata": {
        "id": "oXzExYfCBnP0"
      },
      "source": [
        "## **# Build Model**"
      ]
    },
    {
      "cell_type": "code",
      "metadata": {
        "id": "IVVq36p7Arrl"
      },
      "source": [
        "#Exclude variable \"admin\" and generate R-Squared and AIC values\n",
        "final_ml_m=smf.ols('Profit~rdspend+Mspend+State_California+State_Florida+State_NY',data=startup1).fit()"
      ],
      "execution_count": 482,
      "outputs": []
    },
    {
      "cell_type": "code",
      "metadata": {
        "colab": {
          "base_uri": "https://localhost:8080/"
        },
        "id": "nEChwxgcBnD3",
        "outputId": "a40156a6-beb4-40a6-cc95-78103d7d3a81"
      },
      "source": [
        "(final_ml_m.rsquared,final_ml_m.aic)"
      ],
      "execution_count": 485,
      "outputs": [
        {
          "output_type": "execute_result",
          "data": {
            "text/plain": [
              "(0.9596879553267752, 1001.1536438674137)"
            ]
          },
          "metadata": {},
          "execution_count": 485
        }
      ]
    },
    {
      "cell_type": "code",
      "metadata": {
        "id": "yHHGDAfQCFbz"
      },
      "source": [
        "#Exclude variable \"Mspend\" and generate R-Squared and AIC values\n",
        "final_ml_a=smf.ols('Profit~rdspend+admin+State_California+State_Florida+State_NY',data=startup1).fit()"
      ],
      "execution_count": 483,
      "outputs": []
    },
    {
      "cell_type": "code",
      "metadata": {
        "colab": {
          "base_uri": "https://localhost:8080/"
        },
        "id": "uuAQzvLNCFev",
        "outputId": "1bf2c4da-6d22-4a4d-fdee-c1c1e236a9ef"
      },
      "source": [
        "(final_ml_a.rsquared,final_ml_a.aic)"
      ],
      "execution_count": 484,
      "outputs": [
        {
          "output_type": "execute_result",
          "data": {
            "text/plain": [
              "(0.9569918852060395, 1004.2610925616418)"
            ]
          },
          "metadata": {},
          "execution_count": 484
        }
      ]
    },
    {
      "cell_type": "code",
      "metadata": {
        "id": "nichIXvjCFmI"
      },
      "source": [
        "#### Comparing above R-Square and AIC values, model 'final_ml_m' has high R- square and low AIC value hence include variable 'mspend' so that multi collinearity problem would be resolved."
      ],
      "execution_count": 476,
      "outputs": []
    },
    {
      "cell_type": "markdown",
      "metadata": {
        "id": "geInIYQ-Cggm"
      },
      "source": [
        "## **# Cook’s Distance**"
      ]
    },
    {
      "cell_type": "code",
      "metadata": {
        "id": "MsRBoHjZCFpN"
      },
      "source": [
        "model_influence_m = final_ml_m.get_influence()\n",
        "(c_m, _) = model_influence_m.cooks_distance"
      ],
      "execution_count": 486,
      "outputs": []
    },
    {
      "cell_type": "code",
      "metadata": {
        "colab": {
          "base_uri": "https://localhost:8080/",
          "height": 660
        },
        "id": "fodMLadICplF",
        "outputId": "a6d6bec0-3dca-4cd2-fe17-f2ed71db8876"
      },
      "source": [
        "fig= plt.subplots(figsize=(15,7))\n",
        "plt.stem(np.arange(len(startup1)),np.round(c_m,3));\n",
        "plt.xlabel('Row index')\n",
        "plt.ylabel('Cooks Distance');"
      ],
      "execution_count": 487,
      "outputs": [
        {
          "output_type": "stream",
          "name": "stderr",
          "text": [
            "/usr/local/lib/python3.7/dist-packages/ipykernel_launcher.py:2: UserWarning: In Matplotlib 3.3 individual lines on a stem plot will be added as a LineCollection instead of individual lines. This significantly improves the performance of a stem plot. To remove this warning and switch to the new behaviour, set the \"use_line_collection\" keyword argument to True.\n",
            "  \n"
          ]
        },
        {
          "output_type": "display_data",
          "data": {
            "image/png": "[encoded data removed]",
            "text/plain": [
              "<Figure size 1500x700 with 1 Axes>"
            ]
          },
          "metadata": {}
        }
      ]
    },
    {
      "cell_type": "code",
      "metadata": {
        "colab": {
          "base_uri": "https://localhost:8080/"
        },
        "id": "TWXhZGi3CpoF",
        "outputId": "7f5eea3e-fed8-40fc-a416-23a7cd941f21"
      },
      "source": [
        "#index of the data points where c is more than .5\n",
        "(np.argmax(c_m),np.max(c_m))"
      ],
      "execution_count": 488,
      "outputs": [
        {
          "output_type": "execute_result",
          "data": {
            "text/plain": [
              "(45, 0.10453385753616816)"
            ]
          },
          "metadata": {},
          "execution_count": 488
        }
      ]
    },
    {
      "cell_type": "code",
      "metadata": {
        "id": "qPyYHRkeCpua"
      },
      "source": [
        "#Drop 45 observations\n",
        "startup2=startup1.drop(startup1.index[[45]],axis=0).reset_index()"
      ],
      "execution_count": 492,
      "outputs": []
    },
    {
      "cell_type": "code",
      "metadata": {
        "id": "RL5S6-kCCpzN"
      },
      "source": [
        "startup2=startup2.drop(['index'],axis=1)\n",
        "startup2"
      ],
      "execution_count": null,
      "outputs": []
    },
    {
      "cell_type": "markdown",
      "metadata": {
        "id": "G4SBs9doHNTZ"
      },
      "source": [
        "## **# Build Model on new data**"
      ]
    },
    {
      "cell_type": "code",
      "metadata": {
        "id": "AC6k7bfcCp4i"
      },
      "source": [
        "final_ml_m=smf.ols('Profit~rdspend+Mspend+State_California+State_Florida+State_NY',data=startup2).fit()"
      ],
      "execution_count": 494,
      "outputs": []
    },
    {
      "cell_type": "code",
      "metadata": {
        "colab": {
          "base_uri": "https://localhost:8080/"
        },
        "id": "GCfGFr1eHfsL",
        "outputId": "431acace-0fa5-40ef-a911-c2cfea6d35e2"
      },
      "source": [
        "(final_ml_m.rsquared,final_ml_m.aic)"
      ],
      "execution_count": 495,
      "outputs": [
        {
          "output_type": "execute_result",
          "data": {
            "text/plain": [
              "(0.961964957796737, 976.8263762776478)"
            ]
          },
          "metadata": {},
          "execution_count": 495
        }
      ]
    },
    {
      "cell_type": "code",
      "metadata": {
        "id": "u5wDmRtSHfvT"
      },
      "source": [
        "#Again check for influencers\n",
        "model_influence_m = final_ml_m.get_influence()\n",
        "(c_m, _) = model_influence_m.cooks_distance"
      ],
      "execution_count": 496,
      "outputs": []
    },
    {
      "cell_type": "code",
      "metadata": {
        "colab": {
          "base_uri": "https://localhost:8080/",
          "height": 595
        },
        "id": "PUvrhRr4HfzN",
        "outputId": "125e230e-e018-438e-81b7-5cd69ebdfcc3"
      },
      "source": [
        "fig= plt.subplots(figsize=(20,7))\n",
        "plt.stem(np.arange(len(startup2)),np.round(c_m,3));\n",
        "plt.xlabel('Row index')\n",
        "plt.ylabel('Cooks Distance');"
      ],
      "execution_count": 497,
      "outputs": [
        {
          "output_type": "stream",
          "name": "stderr",
          "text": [
            "/usr/local/lib/python3.7/dist-packages/ipykernel_launcher.py:2: UserWarning: In Matplotlib 3.3 individual lines on a stem plot will be added as a LineCollection instead of individual lines. This significantly improves the performance of a stem plot. To remove this warning and switch to the new behaviour, set the \"use_line_collection\" keyword argument to True.\n",
            "  \n"
          ]
        },
        {
          "output_type": "display_data",
          "data": {
            "image/png": "[encoded data removed]",
            "text/plain": [
              "<Figure size 2000x700 with 1 Axes>"
            ]
          },
          "metadata": {}
        }
      ]
    },
    {
      "cell_type": "code",
      "metadata": {
        "colab": {
          "base_uri": "https://localhost:8080/"
        },
        "id": "W3tT9iDlHx_0",
        "outputId": "1e322d45-3a2f-41ec-c0d6-587e740db200"
      },
      "source": [
        "#index of the data points where c is more than .5\n",
        "(np.argmax(c_m),np.max(c_m))"
      ],
      "execution_count": 498,
      "outputs": [
        {
          "output_type": "execute_result",
          "data": {
            "text/plain": [
              "(45, 0.10012291367608914)"
            ]
          },
          "metadata": {},
          "execution_count": 498
        }
      ]
    },
    {
      "cell_type": "markdown",
      "metadata": {
        "id": "0wc-oXhxH8TL"
      },
      "source": [
        "## **#### Since the cook's value is <1 , we can stop the diagnostic process and finalize the model**"
      ]
    },
    {
      "cell_type": "code",
      "metadata": {
        "id": "-X1T2k4qHyD6"
      },
      "source": [
        "final_ml_m=smf.ols('Profit~rdspend+Mspend+State_California+State_Florida+State_NY',data=startup2).fit()"
      ],
      "execution_count": 499,
      "outputs": []
    },
    {
      "cell_type": "code",
      "metadata": {
        "colab": {
          "base_uri": "https://localhost:8080/"
        },
        "id": "b54I-ABhIF6O",
        "outputId": "ea046c33-afe7-4aa0-af72-190a44a3eb53"
      },
      "source": [
        "(final_ml_m.rsquared,final_ml_m.aic)"
      ],
      "execution_count": 500,
      "outputs": [
        {
          "output_type": "execute_result",
          "data": {
            "text/plain": [
              "(0.961964957796737, 976.8263762776478)"
            ]
          },
          "metadata": {},
          "execution_count": 500
        }
      ]
    },
    {
      "cell_type": "markdown",
      "metadata": {
        "id": "UhShOcKqINTa"
      },
      "source": [
        "## ** Predicting for new data 'admin':568943,'rdspend':500100,'Mspend':825800,**"
      ]
    },
    {
      "cell_type": "code",
      "metadata": {
        "colab": {
          "base_uri": "https://localhost:8080/",
          "height": 205
        },
        "id": "hSczkVLcINh_",
        "outputId": "3c904a80-af0d-47a9-9513-fc87f2596588"
      },
      "source": [
        "startup1.head()"
      ],
      "execution_count": 501,
      "outputs": [
        {
          "output_type": "execute_result",
          "data": {
            "text/html": [
              "<div>\n",
              "<style scoped>\n",
              "    .dataframe tbody tr th:only-of-type {\n",
              "        vertical-align: middle;\n",
              "    }\n",
              "\n",
              "    .dataframe tbody tr th {\n",
              "        vertical-align: top;\n",
              "    }\n",
              "\n",
              "    .dataframe thead th {\n",
              "        text-align: right;\n",
              "    }\n",
              "</style>\n",
              "<table border=\"1\" class=\"dataframe\">\n",
              "  <thead>\n",
              "    <tr style=\"text-align: right;\">\n",
              "      <th></th>\n",
              "      <th>rdspend</th>\n",
              "      <th>admin</th>\n",
              "      <th>Mspend</th>\n",
              "      <th>Profit</th>\n",
              "      <th>State_California</th>\n",
              "      <th>State_Florida</th>\n",
              "      <th>State_NY</th>\n",
              "    </tr>\n",
              "  </thead>\n",
              "  <tbody>\n",
              "    <tr>\n",
              "      <th>0</th>\n",
              "      <td>165349.20</td>\n",
              "      <td>136897.80</td>\n",
              "      <td>471784.10</td>\n",
              "      <td>192261.83</td>\n",
              "      <td>0</td>\n",
              "      <td>0</td>\n",
              "      <td>1</td>\n",
              "    </tr>\n",
              "    <tr>\n",
              "      <th>1</th>\n",
              "      <td>162597.70</td>\n",
              "      <td>151377.59</td>\n",
              "      <td>443898.53</td>\n",
              "      <td>191792.06</td>\n",
              "      <td>1</td>\n",
              "      <td>0</td>\n",
              "      <td>0</td>\n",
              "    </tr>\n",
              "    <tr>\n",
              "      <th>2</th>\n",
              "      <td>153441.51</td>\n",
              "      <td>101145.55</td>\n",
              "      <td>407934.54</td>\n",
              "      <td>191050.39</td>\n",
              "      <td>0</td>\n",
              "      <td>1</td>\n",
              "      <td>0</td>\n",
              "    </tr>\n",
              "    <tr>\n",
              "      <th>3</th>\n",
              "      <td>144372.41</td>\n",
              "      <td>118671.85</td>\n",
              "      <td>383199.62</td>\n",
              "      <td>182901.99</td>\n",
              "      <td>0</td>\n",
              "      <td>0</td>\n",
              "      <td>1</td>\n",
              "    </tr>\n",
              "    <tr>\n",
              "      <th>4</th>\n",
              "      <td>142107.34</td>\n",
              "      <td>91391.77</td>\n",
              "      <td>366168.42</td>\n",
              "      <td>166187.94</td>\n",
              "      <td>0</td>\n",
              "      <td>1</td>\n",
              "      <td>0</td>\n",
              "    </tr>\n",
              "  </tbody>\n",
              "</table>\n",
              "</div>"
            ],
            "text/plain": [
              "     rdspend      admin     Mspend  ...  State_California  State_Florida  State_NY\n",
              "0  165349.20  136897.80  471784.10  ...                 0              0         1\n",
              "1  162597.70  151377.59  443898.53  ...                 1              0         0\n",
              "2  153441.51  101145.55  407934.54  ...                 0              1         0\n",
              "3  144372.41  118671.85  383199.62  ...                 0              0         1\n",
              "4  142107.34   91391.77  366168.42  ...                 0              1         0\n",
              "\n",
              "[5 rows x 7 columns]"
            ]
          },
          "metadata": {},
          "execution_count": 501
        }
      ]
    },
    {
      "cell_type": "code",
      "metadata": {
        "id": "H9Hj-SDsINlJ"
      },
      "source": [
        "#New data for prediction\n",
        "new_data=pd.DataFrame({'rdspend':825895,'admin':510000,'Mspend':857980,'State_California':0,'State_Florida':0,'State_NY':1},index=[1])"
      ],
      "execution_count": 505,
      "outputs": []
    },
    {
      "cell_type": "code",
      "metadata": {
        "colab": {
          "base_uri": "https://localhost:8080/"
        },
        "id": "N0w0caoDINpM",
        "outputId": "b53c5018-b73b-4309-e1df-9062a71a76dd"
      },
      "source": [
        "final_ml_m.predict(new_data)"
      ],
      "execution_count": 506,
      "outputs": [
        {
          "output_type": "execute_result",
          "data": {
            "text/plain": [
              "1    717109.183461\n",
              "dtype: float64"
            ]
          },
          "metadata": {},
          "execution_count": 506
        }
      ]
    },
    {
      "cell_type": "code",
      "metadata": {
        "id": "ojf_iqq-KXtW"
      },
      "source": [
        ""
      ],
      "execution_count": null,
      "outputs": []
    },
    {
      "cell_type": "markdown",
      "metadata": {
        "id": "KXqGgdpiKj42"
      },
      "source": [
        "## **PREDICTED PROFIT VALUES FOR STARTUP IN THE DATA SET**"
      ]
    },
    {
      "cell_type": "code",
      "metadata": {
        "id": "NPz_0tMnKXwa"
      },
      "source": [
        "final_ml_m.predict(startup)"
      ],
      "execution_count": null,
      "outputs": []
    },
    {
      "cell_type": "code",
      "metadata": {
        "id": "OwSgFFzyMNmz"
      },
      "source": [
        "predicted_profit=final_ml_m.predict(startup)"
      ],
      "execution_count": 508,
      "outputs": []
    },
    {
      "cell_type": "code",
      "metadata": {
        "id": "lyoHM4wLMbv9"
      },
      "source": [
        "predicted_profit"
      ],
      "execution_count": null,
      "outputs": []
    }
  ]
}