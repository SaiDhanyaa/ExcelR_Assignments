{
  "nbformat": 4,
  "nbformat_minor": 0,
  "metadata": {
    "colab": {
      "name": "Assignment-1(Basic Statistic Level-1).ipynb",
      "provenance": [],
      "collapsed_sections": [],
      "authorship_tag": "ABX9TyOdZzHuDe5Mb6da/lNhcoEe",
      "include_colab_link": true
    },
    "kernelspec": {
      "name": "python3",
      "display_name": "Python 3"
    },
    "language_info": {
      "name": "python"
    }
  },
  "cells": [
    {
      "cell_type": "markdown",
      "metadata": {
        "id": "view-in-github",
        "colab_type": "text"
      },
      "source": [
        "<a href=\"https://colab.research.google.com/github/SaiDhanyaa/ExcelR/blob/main/Assignment_1(Basic_Statistic_Level_1).ipynb\" target=\"_parent\"><img src=\"https://colab.research.google.com/assets/colab-badge.svg\" alt=\"Open In Colab\"/></a>"
      ]
    },
    {
      "cell_type": "markdown",
      "metadata": {
        "id": "EK8vS8mGNGML"
      },
      "source": [
        "# **# # Assignment-1-Q7 (Basic Statistics Level-1)**"
      ]
    },
    {
      "cell_type": "code",
      "metadata": {
        "id": "gejW3abTHjvK"
      },
      "source": [
        "import numpy as np\n",
        "import pandas as pd\n",
        "import matplotlib.pyplot as plt\n",
        "import seaborn as sns\n"
      ],
      "execution_count": 1,
      "outputs": []
    },
    {
      "cell_type": "code",
      "metadata": {
        "id": "NSyt7V9vHjyF"
      },
      "source": [
        "data1=pd.read_csv(\"/content/Q7.csv\")\n",
        "data1"
      ],
      "execution_count": null,
      "outputs": []
    },
    {
      "cell_type": "code",
      "metadata": {
        "id": "joj5hNMOHj0t"
      },
      "source": [
        "# mean\n",
        "data1.mean()"
      ],
      "execution_count": null,
      "outputs": []
    },
    {
      "cell_type": "code",
      "metadata": {
        "id": "RkMxyWeMHj3D"
      },
      "source": [
        "data1.median()"
      ],
      "execution_count": null,
      "outputs": []
    },
    {
      "cell_type": "code",
      "metadata": {
        "id": "7SGI9NCxHj5Z"
      },
      "source": [
        "# Mode\n",
        "data1.Points.mode()"
      ],
      "execution_count": null,
      "outputs": []
    },
    {
      "cell_type": "code",
      "metadata": {
        "id": "AM0ucLwNHj76"
      },
      "source": [
        "data1.Weigh.mode()"
      ],
      "execution_count": null,
      "outputs": []
    },
    {
      "cell_type": "code",
      "metadata": {
        "id": "vkvVc8IlMZec"
      },
      "source": [
        "# Variance\n",
        "data1.var()"
      ],
      "execution_count": null,
      "outputs": []
    },
    {
      "cell_type": "code",
      "metadata": {
        "id": "EDK_ut4kMZhF"
      },
      "source": [
        "# Satndard Deviation\n",
        "data1.std()"
      ],
      "execution_count": null,
      "outputs": []
    },
    {
      "cell_type": "code",
      "metadata": {
        "id": "l9GPYftOMZlj"
      },
      "source": [
        "data1.describe()"
      ],
      "execution_count": null,
      "outputs": []
    },
    {
      "cell_type": "code",
      "metadata": {
        "id": "DW1AReSTMZoG"
      },
      "source": [
        "#Range\n",
        "Points_Range=data1.Points.max()-data1.Points.min()\n",
        "Points_Range"
      ],
      "execution_count": null,
      "outputs": []
    },
    {
      "cell_type": "code",
      "metadata": {
        "id": "8h1h-9ZAMZqx"
      },
      "source": [
        "Score_Range=data1.Score.max()-data1.Score.min()\n",
        "Score_Range"
      ],
      "execution_count": null,
      "outputs": []
    },
    {
      "cell_type": "code",
      "metadata": {
        "id": "-9f78DgQMZtK"
      },
      "source": [
        "Weigh_Range=data1.Weigh.max()-data1.Weigh.min()\n",
        "Weigh_Range\n"
      ],
      "execution_count": null,
      "outputs": []
    },
    {
      "cell_type": "code",
      "metadata": {
        "id": "cGM19nhjMrg8"
      },
      "source": [
        "# # Visualization"
      ],
      "execution_count": null,
      "outputs": []
    },
    {
      "cell_type": "code",
      "metadata": {
        "id": "LZp4vQMdMrky"
      },
      "source": [
        "f,ax=plt.subplots(figsize=(15,5))\n",
        "plt.subplot(1,3,1)\n",
        "plt.boxplot(data1.Points)\n",
        "plt.title('Points')\n",
        "plt.show()"
      ],
      "execution_count": null,
      "outputs": []
    },
    {
      "cell_type": "code",
      "metadata": {
        "id": "fPBuZS_lMrn2"
      },
      "source": [
        ""
      ],
      "execution_count": null,
      "outputs": []
    },
    {
      "cell_type": "code",
      "metadata": {
        "id": "P5-2TizbMrqb"
      },
      "source": [
        "plt.subplot(1,3,2)\n",
        "plt.boxplot(data1.Score)\n",
        "plt.title('Score')\n",
        "plt.show()"
      ],
      "execution_count": null,
      "outputs": []
    },
    {
      "cell_type": "code",
      "metadata": {
        "id": "hERls7MHMrtD"
      },
      "source": [
        ""
      ],
      "execution_count": null,
      "outputs": []
    },
    {
      "cell_type": "code",
      "metadata": {
        "id": "n7oP5Ra0Mrvk"
      },
      "source": [
        "plt.subplot(1,3,3)\n",
        "plt.boxplot(data1.Weigh)\n",
        "plt.title('Weigh')\n",
        "plt.show()"
      ],
      "execution_count": null,
      "outputs": []
    },
    {
      "cell_type": "code",
      "metadata": {
        "id": "MXgxTQfOMrxj"
      },
      "source": [
        "# Inferences: a) For Points dataset: 1) The data is concentrated aroound Median \n",
        "#2) There are no outliars\n",
        "#3) The distribution is Right skewed \n",
        "#b) For Score dataset: 1) The data is concentrated around Median \n",
        "#2) There are 3 Outliars: 5.250, 5.424, 5.345 \n",
        "#3) The distribution is Left skewed\n",
        "#c) For Weigh dataset: 1) The data is concentrated around Median \n",
        "#2) There is 1 Outliar: 22.90 \n",
        "#3) The distribution is Left skewed"
      ],
      "execution_count": null,
      "outputs": []
    },
    {
      "cell_type": "markdown",
      "metadata": {
        "id": "VFgmvSIJM9HT"
      },
      "source": [
        "## **# # Assignment-1-Q9_a (Basic Statistics Level-1)**"
      ]
    },
    {
      "cell_type": "code",
      "metadata": {
        "id": "WeIEbi3pMZ2L"
      },
      "source": [
        "import numpy as np\n",
        "import pandas as pd\n",
        "import matplotlib.pyplot as plt\n",
        "import seaborn as sns\n",
        "get_ipython().run_line_magic('matplotlib', 'inline')"
      ],
      "execution_count": null,
      "outputs": []
    },
    {
      "cell_type": "code",
      "metadata": {
        "id": "AO0R59iDMZ4i"
      },
      "source": [
        "data2=pd.read_csv(\"Q9_a.csv\")\n",
        "data2"
      ],
      "execution_count": null,
      "outputs": []
    },
    {
      "cell_type": "code",
      "metadata": {
        "id": "eJPGRQOBHj-O"
      },
      "source": [
        "# Skewness\n",
        "data2.skew()"
      ],
      "execution_count": null,
      "outputs": []
    },
    {
      "cell_type": "code",
      "metadata": {
        "id": "WXkFBf8tNSHd"
      },
      "source": [
        "# Skewness Inference: 1. Speed distribution is left skewed (negative skewness) \n",
        "#2. Distance distributin is right skewed (positive skewness)"
      ],
      "execution_count": null,
      "outputs": []
    },
    {
      "cell_type": "code",
      "metadata": {
        "id": "KpqasT8VNSKK"
      },
      "source": [
        "# Kurtosis\n",
        "data2.kurt()"
      ],
      "execution_count": null,
      "outputs": []
    },
    {
      "cell_type": "code",
      "metadata": {
        "id": "aUBWwIzANSNI"
      },
      "source": [
        "#Kurtosis Inference: 1. Speed distribution is platykurtic (negative kurtosis i.e. flatter than normal distribution)\n",
        "#2. Distance distributin is leptokurtic (positive kurtosis i.e. peaked than noramal distribution)"
      ],
      "execution_count": null,
      "outputs": []
    },
    {
      "cell_type": "markdown",
      "metadata": {
        "id": "xwtf52FENaqc"
      },
      "source": [
        "# **# # Assignment-1-Q9_b (Basic Statistics Level-1)**"
      ]
    },
    {
      "cell_type": "code",
      "metadata": {
        "id": "lZ1AnRp6NSRp"
      },
      "source": [
        "import numpy as np\n",
        "import pandas as pd\n",
        "import matplotlib.pyplot as plt\n",
        "import seaborn as sns\n",
        "get_ipython().run_line_magic('matplotlib', 'inline')"
      ],
      "execution_count": null,
      "outputs": []
    },
    {
      "cell_type": "code",
      "metadata": {
        "id": "plD0vjPHNST5"
      },
      "source": [
        "data3=pd.read_csv(\"Q9_b.csv\")\n",
        "data3\n"
      ],
      "execution_count": null,
      "outputs": []
    },
    {
      "cell_type": "code",
      "metadata": {
        "id": "HkHgnuP9NSWd"
      },
      "source": [
        "data4=data3.iloc[:,1:]\n",
        "data4"
      ],
      "execution_count": null,
      "outputs": []
    },
    {
      "cell_type": "code",
      "metadata": {
        "id": "l7CbTXyjNSYZ"
      },
      "source": [
        "# Skewness\n",
        "data4.skew()"
      ],
      "execution_count": null,
      "outputs": []
    },
    {
      "cell_type": "code",
      "metadata": {
        "id": "2rK1UVO0NSa8"
      },
      "source": [
        "## Skewness Inference: 1. WT distribution is left skewed (negative skewness) \n",
        "#2. SP distributin is right skewed (positive skewness)"
      ],
      "execution_count": null,
      "outputs": []
    },
    {
      "cell_type": "code",
      "metadata": {
        "id": "KuRG2z00NSc7"
      },
      "source": [
        "# Kurtosis\n",
        "data4.kurt()\n"
      ],
      "execution_count": null,
      "outputs": []
    },
    {
      "cell_type": "code",
      "metadata": {
        "id": "7X24Myx5NTJW"
      },
      "source": [
        "#Kurtosis Inference:SP & WT distribution both are leptokurtic (positive kurtosis i.e. peaked than noramal distribution)"
      ],
      "execution_count": null,
      "outputs": []
    },
    {
      "cell_type": "markdown",
      "metadata": {
        "id": "-oNA18mmNwDt"
      },
      "source": [
        "# **# # Assignment-1-Q11 (Basic Statistics Level-1)**"
      ]
    },
    {
      "cell_type": "code",
      "metadata": {
        "id": "5UAHpKskNTOY"
      },
      "source": [
        "import numpy as np\n",
        "import pandas as pd\n",
        "from scipy import stats\n",
        "from scipy.stats import norm"
      ],
      "execution_count": null,
      "outputs": []
    },
    {
      "cell_type": "code",
      "metadata": {
        "id": "0Jk3LlfKNTQr"
      },
      "source": [
        "# Given,Sample mean = 200 Sample SD = 30 n = 2000 "
      ],
      "execution_count": null,
      "outputs": []
    },
    {
      "cell_type": "code",
      "metadata": {
        "id": "38yP1AzoN2L0"
      },
      "source": [
        "# Avg. weight of Adult in Mexico with 94% CI\n",
        "stats.norm.interval(0.94,200,30/(2000**0.5))"
      ],
      "execution_count": null,
      "outputs": []
    },
    {
      "cell_type": "code",
      "metadata": {
        "id": "DSytUf3qN2Oe"
      },
      "source": [
        "# Avg. weight of Adult in Mexico with 96% CI\n",
        "stats.norm.interval(0.96,200,30/(2000**0.5))"
      ],
      "execution_count": null,
      "outputs": []
    },
    {
      "cell_type": "code",
      "metadata": {
        "id": "ttiMZzweN2S2"
      },
      "source": [
        "# Avg. weight of Adult in Mexico with 98% CI\n",
        "stats.norm.interval(0.98,200,30/(2000**0.5))"
      ],
      "execution_count": null,
      "outputs": []
    },
    {
      "cell_type": "markdown",
      "metadata": {
        "id": "Kk9z2YOiN9oZ"
      },
      "source": [
        "# **# # Assignment-1-Q12 (Basic Statistics Level-1)**"
      ]
    },
    {
      "cell_type": "code",
      "metadata": {
        "id": "DRPkgfhiN2Xo"
      },
      "source": [
        "import numpy as np\n",
        "import pandas as pd\n",
        "import seaborn as sns\n",
        "get_ipython().run_line_magic('matplotlib', 'inline')"
      ],
      "execution_count": null,
      "outputs": []
    },
    {
      "cell_type": "code",
      "metadata": {
        "id": "DQG4QTEYN2aH"
      },
      "source": [
        "x=pd.Series([34,36,36,38,38,39,39,40,40,41,41,41,41,42,42,45,49,56])\n",
        "x"
      ],
      "execution_count": null,
      "outputs": []
    },
    {
      "cell_type": "code",
      "metadata": {
        "id": "wbxN0-v0N2cI"
      },
      "source": [
        "sns.boxplot(x)"
      ],
      "execution_count": null,
      "outputs": []
    },
    {
      "cell_type": "code",
      "metadata": {
        "id": "wOINvbQcN2eY"
      },
      "source": [
        "#Mean \n",
        "x.mean()"
      ],
      "execution_count": null,
      "outputs": []
    },
    {
      "cell_type": "code",
      "metadata": {
        "id": "KIz5MvZaN2hA"
      },
      "source": [
        "#Median\n",
        "x.median()"
      ],
      "execution_count": null,
      "outputs": []
    },
    {
      "cell_type": "code",
      "metadata": {
        "id": "CvFBp4bXN2i_"
      },
      "source": [
        "#Variance\n",
        "x.var()"
      ],
      "execution_count": null,
      "outputs": []
    },
    {
      "cell_type": "code",
      "metadata": {
        "id": "nIz8o4aiN2lO"
      },
      "source": [
        "#Standard Deviation\n",
        "x.std()"
      ],
      "execution_count": null,
      "outputs": []
    },
    {
      "cell_type": "code",
      "metadata": {
        "id": "ozfJPXsRN2oC"
      },
      "source": [
        "plt.boxplot(x)"
      ],
      "execution_count": null,
      "outputs": []
    },
    {
      "cell_type": "code",
      "metadata": {
        "id": "0sDlX7aEN3H0"
      },
      "source": [
        "#2).Inference:\\n\",\n",
        "   # \"1. There are 2 Outliars in Student's marks: 49 and 56\""
      ],
      "execution_count": null,
      "outputs": []
    },
    {
      "cell_type": "markdown",
      "metadata": {
        "id": "npPLBAUHORj-"
      },
      "source": [
        "# **# # Assignment-1-Q12 (Basic Statistics Level-1)**"
      ]
    },
    {
      "cell_type": "code",
      "metadata": {
        "id": "V7Yf9OdBN3Kp"
      },
      "source": [
        "import numpy as np\n",
        "import pandas as pd\n",
        "import matplotlib.pyplot as plt\n",
        "import seaborn as sns\n",
        "get_ipython().run_line_magic('matplotlib', 'inline')"
      ],
      "execution_count": null,
      "outputs": []
    },
    {
      "cell_type": "code",
      "metadata": {
        "id": "ntWI9xutN3OT"
      },
      "source": [
        "cars=pd.read_csv('Cars.csv')\n",
        "cars"
      ],
      "execution_count": null,
      "outputs": []
    },
    {
      "cell_type": "code",
      "metadata": {
        "id": "f34Jpy1ZN3QE"
      },
      "source": [
        "cars.describe()"
      ],
      "execution_count": null,
      "outputs": []
    },
    {
      "cell_type": "code",
      "metadata": {
        "id": "1vDj7wyDN3SG"
      },
      "source": [
        "name=['HP', 'MPG', 'VOL', 'SP', 'WT'] \n",
        "name"
      ],
      "execution_count": null,
      "outputs": []
    },
    {
      "cell_type": "code",
      "metadata": {
        "id": "5Z5lJkTEN3Wp"
      },
      "source": [
        "# # Visualization"
      ],
      "execution_count": null,
      "outputs": []
    },
    {
      "cell_type": "code",
      "metadata": {
        "id": "6MzmpDpmOazY"
      },
      "source": [
        "sns.boxplot(cars.MPG)"
      ],
      "execution_count": null,
      "outputs": []
    },
    {
      "cell_type": "code",
      "metadata": {
        "id": "06VcU9rtOa2S"
      },
      "source": [
        "sns.boxplot(cars.HP)"
      ],
      "execution_count": null,
      "outputs": []
    },
    {
      "cell_type": "code",
      "metadata": {
        "id": "vfh9hHxFOa5C"
      },
      "source": [
        "sns.boxplot(cars.VOL)"
      ],
      "execution_count": null,
      "outputs": []
    },
    {
      "cell_type": "code",
      "metadata": {
        "id": "35rCPJLuOa7Y"
      },
      "source": [
        "sns.boxplot(cars.SP)"
      ],
      "execution_count": null,
      "outputs": []
    },
    {
      "cell_type": "code",
      "metadata": {
        "id": "1nZfBd_TOa9-"
      },
      "source": [
        "sns.boxplot(cars.WT)"
      ],
      "execution_count": null,
      "outputs": []
    },
    {
      "cell_type": "code",
      "metadata": {
        "id": "mgpwW69iObAz"
      },
      "source": [
        "cars.MPG.mean()"
      ],
      "execution_count": null,
      "outputs": []
    },
    {
      "cell_type": "code",
      "metadata": {
        "id": "89iHNVsnObFX"
      },
      "source": [
        "cars.MPG.std()"
      ],
      "execution_count": null,
      "outputs": []
    },
    {
      "cell_type": "code",
      "metadata": {
        "id": "AOZVqCiTObH8"
      },
      "source": [
        "# P(MPG>38)\n",
        "stats.norm.cdf(38,cars.MPG.mean(),cars.MPG.std())"
      ],
      "execution_count": null,
      "outputs": []
    },
    {
      "cell_type": "code",
      "metadata": {
        "id": "KAhhUla7N3ZR"
      },
      "source": [
        "# P(MPG<40)\n",
        "stats.norm.cdf(40,cars.MPG.mean(),cars.MPG.std())"
      ],
      "execution_count": null,
      "outputs": []
    },
    {
      "cell_type": "code",
      "metadata": {
        "id": "s8tU8etNNTSc"
      },
      "source": [
        "# P (20<MPG<50)\n",
        "stats.norm.cdf(50,cars.MPG.mean(),cars.MPG.std())-stats.norm.cdf(20,cars.MPG.mean(),cars.MPG.std())"
      ],
      "execution_count": null,
      "outputs": []
    },
    {
      "cell_type": "markdown",
      "metadata": {
        "id": "7ZJoVPjSOvg7"
      },
      "source": [
        "# **# # Assignment-1-Q21_a (Basic Statistics Level-1)**"
      ]
    },
    {
      "cell_type": "code",
      "metadata": {
        "id": "z9eCzfBkOrmx"
      },
      "source": [
        "import numpy as np\n",
        "import pandas as pd\n",
        "import matplotlib.pyplot as plt\n",
        "import seaborn as sns\n",
        "get_ipython().run_line_magic('matplotlib', 'inline')"
      ],
      "execution_count": null,
      "outputs": []
    },
    {
      "cell_type": "code",
      "metadata": {
        "id": "i4V_eAEkOrpf"
      },
      "source": [
        "cars=pd.read_csv('Cars.csv')\n",
        "cars\n"
      ],
      "execution_count": null,
      "outputs": []
    },
    {
      "cell_type": "code",
      "metadata": {
        "id": "Yev3kUdWOrsi"
      },
      "source": [
        "sns.distplot(cars.MPG, label='Cars-MPG')\n",
        "plt.xlabel('MPG')\n",
        "plt.ylabel('Density')\n",
        "plt.legend();"
      ],
      "execution_count": null,
      "outputs": []
    },
    {
      "cell_type": "code",
      "metadata": {
        "id": "3WuFnQIbOrxm"
      },
      "source": [
        "cars.MPG.mean()"
      ],
      "execution_count": null,
      "outputs": []
    },
    {
      "cell_type": "code",
      "metadata": {
        "id": "_E8kO080OrzV"
      },
      "source": [
        "cars.MPG.median()"
      ],
      "execution_count": null,
      "outputs": []
    },
    {
      "cell_type": "code",
      "metadata": {
        "id": "Wqq4Vq1nOr1g"
      },
      "source": [
        "#Inference: MPG of Cars does follow normal distribution approximately (as mean and median are approx. same)"
      ],
      "execution_count": null,
      "outputs": []
    },
    {
      "cell_type": "markdown",
      "metadata": {
        "id": "UYr-0TeRO-SH"
      },
      "source": [
        "# **# # Assignment-1-Q21_b (Basic Statistics Level-1)**"
      ]
    },
    {
      "cell_type": "code",
      "metadata": {
        "id": "nJ3Gui7GOr3f"
      },
      "source": [
        "import pandas as pd\n",
        "import matplotlib.pyplot as plt\n",
        "import seaborn as sns\n",
        "get_ipython().run_line_magic('matplotlib', 'inline')"
      ],
      "execution_count": null,
      "outputs": []
    },
    {
      "cell_type": "code",
      "metadata": {
        "id": "aKGUPPTgOr5_"
      },
      "source": [
        "wcat=pd.read_csv('wc-at.csv')\n",
        "wcat"
      ],
      "execution_count": null,
      "outputs": []
    },
    {
      "cell_type": "code",
      "metadata": {
        "id": "hIztjWW0Or8W"
      },
      "source": [
        "# plotting distribution for Waist Tissue (WT)\n",
        "sns.distplot(wcat.Waist)\n",
        "plt.ylabel('density')\n",
        "plt.show()"
      ],
      "execution_count": null,
      "outputs": []
    },
    {
      "cell_type": "code",
      "metadata": {
        "id": "LP6bsY81Or-y"
      },
      "source": [
        "# plotting distribution for Adipose Tissue (AT)\n",
        "sns.distplot(wcat.AT)\n",
        "plt.ylabel('density')\n",
        "plt.show()"
      ],
      "execution_count": null,
      "outputs": []
    },
    {
      "cell_type": "code",
      "metadata": {
        "id": "aIf90zP2OsAz"
      },
      "source": [
        "# WC\n",
        "wcat.Waist.mean() "
      ],
      "execution_count": null,
      "outputs": []
    },
    {
      "cell_type": "code",
      "metadata": {
        "id": "Edp6K0boPKqT"
      },
      "source": [
        "wcat.Waist.median()"
      ],
      "execution_count": null,
      "outputs": []
    },
    {
      "cell_type": "code",
      "metadata": {
        "id": "D1WAR0IsPKvW"
      },
      "source": [
        "# AT\n",
        "wcat.AT.mean() "
      ],
      "execution_count": null,
      "outputs": []
    },
    {
      "cell_type": "code",
      "metadata": {
        "id": "fbUhon6wPKzy"
      },
      "source": [
        "wcat.AT.median()"
      ],
      "execution_count": null,
      "outputs": []
    },
    {
      "cell_type": "code",
      "metadata": {
        "id": "jEW0oURnPK11"
      },
      "source": [
        "#Inference: Both the Adipose Tissue (AT) and Waist Circumference(Waist) data set do not follow the normal distribution approximately (as mean and median of both the data are approximately different)"
      ],
      "execution_count": null,
      "outputs": []
    },
    {
      "cell_type": "markdown",
      "metadata": {
        "id": "TMDvdy5kPUF0"
      },
      "source": [
        "# **# # Assignment-1-Q22 (Basic Statistics Level-1)**"
      ]
    },
    {
      "cell_type": "code",
      "metadata": {
        "id": "7DXntBUdPK4L"
      },
      "source": [
        "from scipy import stats\n",
        "from scipy.stats import norm"
      ],
      "execution_count": null,
      "outputs": []
    },
    {
      "cell_type": "code",
      "metadata": {
        "id": "udcgyE5LPK7L"
      },
      "source": [
        "# Z-score of 90% confidence interval \n",
        "stats.norm.ppf(0.95)"
      ],
      "execution_count": null,
      "outputs": []
    },
    {
      "cell_type": "code",
      "metadata": {
        "id": "5dEWmuhmPK9z"
      },
      "source": [
        "# Z-score of 94% confidence interval\n",
        "stats.norm.ppf(0.94)"
      ],
      "execution_count": null,
      "outputs": []
    },
    {
      "cell_type": "code",
      "metadata": {
        "id": "FdMaXun1PaZ3"
      },
      "source": [
        "# Z-score of 60% confidence interval\n",
        "stats.norm.ppf(0.60)"
      ],
      "execution_count": null,
      "outputs": []
    },
    {
      "cell_type": "markdown",
      "metadata": {
        "id": "MYugytSjPd6x"
      },
      "source": [
        "# **# # Assignment-1-Q23 (Basic Statistics Level-1)**"
      ]
    },
    {
      "cell_type": "code",
      "metadata": {
        "id": "mGe7CmvGPace"
      },
      "source": [
        "from scipy import stats\n",
        "from scipy.stats import norm"
      ],
      "execution_count": null,
      "outputs": []
    },
    {
      "cell_type": "code",
      "metadata": {
        "id": "4iaGHGWkPafB"
      },
      "source": [
        "n=25\n",
        "df=n-1\n",
        "df"
      ],
      "execution_count": null,
      "outputs": []
    },
    {
      "cell_type": "code",
      "metadata": {
        "id": "EV7GY1DIPahE"
      },
      "source": [
        "#t scores of 95% confidence interval for sample size of 25\n",
        "stats.t.ppf(0.95,24)"
      ],
      "execution_count": null,
      "outputs": []
    },
    {
      "cell_type": "code",
      "metadata": {
        "id": "a6HuEgEqPajc"
      },
      "source": [
        "#t scores of 96% confidence interval for sample size of 25\n",
        "stats.t.ppf(0.96,24)"
      ],
      "execution_count": null,
      "outputs": []
    },
    {
      "cell_type": "code",
      "metadata": {
        "id": "i7hZLfhtPamQ"
      },
      "source": [
        "#t scores of 99% confidence interval for sample size of 25\n",
        "stats.t.ppf(0.99,24)"
      ],
      "execution_count": null,
      "outputs": []
    },
    {
      "cell_type": "markdown",
      "metadata": {
        "id": "ibbxw52tPohi"
      },
      "source": [
        "# **# # Assignment-1-Q24 (Basic Statistics Level-1)**"
      ]
    },
    {
      "cell_type": "code",
      "metadata": {
        "id": "Jv6jSP1CPaob"
      },
      "source": [
        "#P_mean(Pop mean) =270 days S_mean(sample mean) = 260 days Sample SD = 90, days Sample n = 18 bulbs\n"
      ],
      "execution_count": null,
      "outputs": []
    },
    {
      "cell_type": "code",
      "metadata": {
        "id": "sUsgOu54Prxh"
      },
      "source": [
        "n = 18\n",
        "df = n-1 \n",
        "df"
      ],
      "execution_count": null,
      "outputs": []
    },
    {
      "cell_type": "code",
      "metadata": {
        "id": "Zu56ORN9Pr0x"
      },
      "source": [
        "# Assume Null Hypothesis is: Ho = Avg life of Bulb >= 260 days\n",
        "# Alternate Hypothesis is: Ha = Avg life of Bulb < 260 days"
      ],
      "execution_count": null,
      "outputs": []
    },
    {
      "cell_type": "code",
      "metadata": {
        "id": "Resec-DQPr4U"
      },
      "source": [
        "# find t-scores at x=260; t=(s_mean-P_mean)/(s_SD/sqrt(n))\n",
        "t=(260-270)/(90/18**0.5)\n",
        "t"
      ],
      "execution_count": null,
      "outputs": []
    },
    {
      "cell_type": "code",
      "metadata": {
        "id": "vCzWGAynPr6i"
      },
      "source": [
        "# p_value=1-stats.t.cdf(abs(t_scores),df=n-1)... Using cdf function\n",
        "p_value=1-stats.t.cdf(abs(-0.4714),df=17)\n",
        "p_value"
      ],
      "execution_count": null,
      "outputs": []
    },
    {
      "cell_type": "code",
      "metadata": {
        "id": "iitSpORYP0Wb"
      },
      "source": [
        "#  OR p_value=stats.t.sf(abs(t_score),df=n-1)... Using sf function\n",
        "p_value=stats.t.sf(abs(-0.4714),df=17)\n",
        "p_value"
      ],
      "execution_count": null,
      "outputs": []
    },
    {
      "cell_type": "code",
      "metadata": {
        "id": "Iqdd4wxAP0ZR"
      },
      "source": [
        "#Probability that 18 randomly selected bulbs would have an average life of no more than 260 days is 32.17%Assuming significance value α = 0.05 (Standard Value)\n",
        "##(If p_value < α ; Reject Ho and accept Ha or vice-versa)Thus, as p-value > α ; Accept Ho i.e. The CEO claims are false and the avg life of bulb > 260 days\n"
      ],
      "execution_count": null,
      "outputs": []
    },
    {
      "cell_type": "code",
      "metadata": {
        "id": "WqNHZt3SQI29"
      },
      "source": [
        ""
      ],
      "execution_count": null,
      "outputs": []
    }
  ]
}