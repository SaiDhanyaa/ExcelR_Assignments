{
  "nbformat": 4,
  "nbformat_minor": 0,
  "metadata": {
    "colab": {
      "name": "ASSIGNMENT_5_TOYOTA.ipynb",
      "provenance": [],
      "collapsed_sections": [],
      "authorship_tag": "ABX9TyOUrQFl/LqX9GeHw5JZMd4C",
      "include_colab_link": true
    },
    "kernelspec": {
      "name": "python3",
      "display_name": "Python 3"
    },
    "language_info": {
      "name": "python"
    }
  },
  "cells": [
    {
      "cell_type": "markdown",
      "metadata": {
        "id": "view-in-github",
        "colab_type": "text"
      },
      "source": [
        "<a href=\"https://colab.research.google.com/github/SaiDhanyaa/ExcelR/blob/main/ASSIGNMENT_5_TOYOTA.ipynb\" target=\"_parent\"><img src=\"https://colab.research.google.com/assets/colab-badge.svg\" alt=\"Open In Colab\"/></a>"
      ]
    },
    {
      "cell_type": "code",
      "metadata": {
        "id": "GGA2odSL2qzS"
      },
      "source": [
        "import pandas as pd\n",
        "import matplotlib.pyplot as plt\n",
        "import seaborn as sns\n",
        "from statsmodels.graphics.regressionplots import influence_plot\n",
        "import statsmodels.formula.api as smf\n",
        "import numpy as np"
      ],
      "execution_count": 22,
      "outputs": []
    },
    {
      "cell_type": "code",
      "metadata": {
        "id": "wcD7w3hb8_lc"
      },
      "source": [
        "toyota=pd.read_csv('/content/ToyotaCorolla.csv',encoding='ISO-8859-1')"
      ],
      "execution_count": 23,
      "outputs": []
    },
    {
      "cell_type": "code",
      "metadata": {
        "colab": {
          "base_uri": "https://localhost:8080/",
          "height": 726
        },
        "id": "jGTck6zs9Tkg",
        "outputId": "6d66d215-1a1d-4579-9301-184fbdbace22"
      },
      "source": [
        "toyota.head()"
      ],
      "execution_count": 24,
      "outputs": [
        {
          "output_type": "execute_result",
          "data": {
            "text/html": [
              "<div>\n",
              "<style scoped>\n",
              "    .dataframe tbody tr th:only-of-type {\n",
              "        vertical-align: middle;\n",
              "    }\n",
              "\n",
              "    .dataframe tbody tr th {\n",
              "        vertical-align: top;\n",
              "    }\n",
              "\n",
              "    .dataframe thead th {\n",
              "        text-align: right;\n",
              "    }\n",
              "</style>\n",
              "<table border=\"1\" class=\"dataframe\">\n",
              "  <thead>\n",
              "    <tr style=\"text-align: right;\">\n",
              "      <th></th>\n",
              "      <th>Id</th>\n",
              "      <th>Model</th>\n",
              "      <th>Price</th>\n",
              "      <th>Age_08_04</th>\n",
              "      <th>Mfg_Month</th>\n",
              "      <th>Mfg_Year</th>\n",
              "      <th>KM</th>\n",
              "      <th>Fuel_Type</th>\n",
              "      <th>HP</th>\n",
              "      <th>Met_Color</th>\n",
              "      <th>Color</th>\n",
              "      <th>Automatic</th>\n",
              "      <th>cc</th>\n",
              "      <th>Doors</th>\n",
              "      <th>Cylinders</th>\n",
              "      <th>Gears</th>\n",
              "      <th>Quarterly_Tax</th>\n",
              "      <th>Weight</th>\n",
              "      <th>Mfr_Guarantee</th>\n",
              "      <th>BOVAG_Guarantee</th>\n",
              "      <th>Guarantee_Period</th>\n",
              "      <th>ABS</th>\n",
              "      <th>Airbag_1</th>\n",
              "      <th>Airbag_2</th>\n",
              "      <th>Airco</th>\n",
              "      <th>Automatic_airco</th>\n",
              "      <th>Boardcomputer</th>\n",
              "      <th>CD_Player</th>\n",
              "      <th>Central_Lock</th>\n",
              "      <th>Powered_Windows</th>\n",
              "      <th>Power_Steering</th>\n",
              "      <th>Radio</th>\n",
              "      <th>Mistlamps</th>\n",
              "      <th>Sport_Model</th>\n",
              "      <th>Backseat_Divider</th>\n",
              "      <th>Metallic_Rim</th>\n",
              "      <th>Radio_cassette</th>\n",
              "      <th>Tow_Bar</th>\n",
              "    </tr>\n",
              "  </thead>\n",
              "  <tbody>\n",
              "    <tr>\n",
              "      <th>0</th>\n",
              "      <td>1</td>\n",
              "      <td>TOYOTA Corolla 2.0 D4D HATCHB TERRA 2/3-Doors</td>\n",
              "      <td>13500</td>\n",
              "      <td>23</td>\n",
              "      <td>10</td>\n",
              "      <td>2002</td>\n",
              "      <td>46986</td>\n",
              "      <td>Diesel</td>\n",
              "      <td>90</td>\n",
              "      <td>1</td>\n",
              "      <td>Blue</td>\n",
              "      <td>0</td>\n",
              "      <td>2000</td>\n",
              "      <td>3</td>\n",
              "      <td>4</td>\n",
              "      <td>5</td>\n",
              "      <td>210</td>\n",
              "      <td>1165</td>\n",
              "      <td>0</td>\n",
              "      <td>1</td>\n",
              "      <td>3</td>\n",
              "      <td>1</td>\n",
              "      <td>1</td>\n",
              "      <td>1</td>\n",
              "      <td>0</td>\n",
              "      <td>0</td>\n",
              "      <td>1</td>\n",
              "      <td>0</td>\n",
              "      <td>1</td>\n",
              "      <td>1</td>\n",
              "      <td>1</td>\n",
              "      <td>0</td>\n",
              "      <td>0</td>\n",
              "      <td>0</td>\n",
              "      <td>1</td>\n",
              "      <td>0</td>\n",
              "      <td>0</td>\n",
              "      <td>0</td>\n",
              "    </tr>\n",
              "    <tr>\n",
              "      <th>1</th>\n",
              "      <td>2</td>\n",
              "      <td>TOYOTA Corolla 2.0 D4D HATCHB TERRA 2/3-Doors</td>\n",
              "      <td>13750</td>\n",
              "      <td>23</td>\n",
              "      <td>10</td>\n",
              "      <td>2002</td>\n",
              "      <td>72937</td>\n",
              "      <td>Diesel</td>\n",
              "      <td>90</td>\n",
              "      <td>1</td>\n",
              "      <td>Silver</td>\n",
              "      <td>0</td>\n",
              "      <td>2000</td>\n",
              "      <td>3</td>\n",
              "      <td>4</td>\n",
              "      <td>5</td>\n",
              "      <td>210</td>\n",
              "      <td>1165</td>\n",
              "      <td>0</td>\n",
              "      <td>1</td>\n",
              "      <td>3</td>\n",
              "      <td>1</td>\n",
              "      <td>1</td>\n",
              "      <td>1</td>\n",
              "      <td>1</td>\n",
              "      <td>0</td>\n",
              "      <td>1</td>\n",
              "      <td>1</td>\n",
              "      <td>1</td>\n",
              "      <td>0</td>\n",
              "      <td>1</td>\n",
              "      <td>0</td>\n",
              "      <td>0</td>\n",
              "      <td>0</td>\n",
              "      <td>1</td>\n",
              "      <td>0</td>\n",
              "      <td>0</td>\n",
              "      <td>0</td>\n",
              "    </tr>\n",
              "    <tr>\n",
              "      <th>2</th>\n",
              "      <td>3</td>\n",
              "      <td>TOYOTA Corolla 2.0 D4D HATCHB TERRA 2/3-Doors</td>\n",
              "      <td>13950</td>\n",
              "      <td>24</td>\n",
              "      <td>9</td>\n",
              "      <td>2002</td>\n",
              "      <td>41711</td>\n",
              "      <td>Diesel</td>\n",
              "      <td>90</td>\n",
              "      <td>1</td>\n",
              "      <td>Blue</td>\n",
              "      <td>0</td>\n",
              "      <td>2000</td>\n",
              "      <td>3</td>\n",
              "      <td>4</td>\n",
              "      <td>5</td>\n",
              "      <td>210</td>\n",
              "      <td>1165</td>\n",
              "      <td>1</td>\n",
              "      <td>1</td>\n",
              "      <td>3</td>\n",
              "      <td>1</td>\n",
              "      <td>1</td>\n",
              "      <td>1</td>\n",
              "      <td>0</td>\n",
              "      <td>0</td>\n",
              "      <td>1</td>\n",
              "      <td>0</td>\n",
              "      <td>0</td>\n",
              "      <td>0</td>\n",
              "      <td>1</td>\n",
              "      <td>0</td>\n",
              "      <td>0</td>\n",
              "      <td>0</td>\n",
              "      <td>1</td>\n",
              "      <td>0</td>\n",
              "      <td>0</td>\n",
              "      <td>0</td>\n",
              "    </tr>\n",
              "    <tr>\n",
              "      <th>3</th>\n",
              "      <td>4</td>\n",
              "      <td>TOYOTA Corolla 2.0 D4D HATCHB TERRA 2/3-Doors</td>\n",
              "      <td>14950</td>\n",
              "      <td>26</td>\n",
              "      <td>7</td>\n",
              "      <td>2002</td>\n",
              "      <td>48000</td>\n",
              "      <td>Diesel</td>\n",
              "      <td>90</td>\n",
              "      <td>0</td>\n",
              "      <td>Black</td>\n",
              "      <td>0</td>\n",
              "      <td>2000</td>\n",
              "      <td>3</td>\n",
              "      <td>4</td>\n",
              "      <td>5</td>\n",
              "      <td>210</td>\n",
              "      <td>1165</td>\n",
              "      <td>1</td>\n",
              "      <td>1</td>\n",
              "      <td>3</td>\n",
              "      <td>1</td>\n",
              "      <td>1</td>\n",
              "      <td>1</td>\n",
              "      <td>0</td>\n",
              "      <td>0</td>\n",
              "      <td>1</td>\n",
              "      <td>0</td>\n",
              "      <td>0</td>\n",
              "      <td>0</td>\n",
              "      <td>1</td>\n",
              "      <td>0</td>\n",
              "      <td>0</td>\n",
              "      <td>0</td>\n",
              "      <td>1</td>\n",
              "      <td>0</td>\n",
              "      <td>0</td>\n",
              "      <td>0</td>\n",
              "    </tr>\n",
              "    <tr>\n",
              "      <th>4</th>\n",
              "      <td>5</td>\n",
              "      <td>TOYOTA Corolla 2.0 D4D HATCHB SOL 2/3-Doors</td>\n",
              "      <td>13750</td>\n",
              "      <td>30</td>\n",
              "      <td>3</td>\n",
              "      <td>2002</td>\n",
              "      <td>38500</td>\n",
              "      <td>Diesel</td>\n",
              "      <td>90</td>\n",
              "      <td>0</td>\n",
              "      <td>Black</td>\n",
              "      <td>0</td>\n",
              "      <td>2000</td>\n",
              "      <td>3</td>\n",
              "      <td>4</td>\n",
              "      <td>5</td>\n",
              "      <td>210</td>\n",
              "      <td>1170</td>\n",
              "      <td>1</td>\n",
              "      <td>1</td>\n",
              "      <td>3</td>\n",
              "      <td>1</td>\n",
              "      <td>1</td>\n",
              "      <td>1</td>\n",
              "      <td>1</td>\n",
              "      <td>0</td>\n",
              "      <td>1</td>\n",
              "      <td>0</td>\n",
              "      <td>1</td>\n",
              "      <td>1</td>\n",
              "      <td>1</td>\n",
              "      <td>0</td>\n",
              "      <td>1</td>\n",
              "      <td>0</td>\n",
              "      <td>1</td>\n",
              "      <td>0</td>\n",
              "      <td>0</td>\n",
              "      <td>0</td>\n",
              "    </tr>\n",
              "  </tbody>\n",
              "</table>\n",
              "</div>"
            ],
            "text/plain": [
              "   Id                                           Model  ...  Radio_cassette  Tow_Bar\n",
              "0   1   TOYOTA Corolla 2.0 D4D HATCHB TERRA 2/3-Doors  ...               0        0\n",
              "1   2   TOYOTA Corolla 2.0 D4D HATCHB TERRA 2/3-Doors  ...               0        0\n",
              "2   3   TOYOTA Corolla 2.0 D4D HATCHB TERRA 2/3-Doors  ...               0        0\n",
              "3   4   TOYOTA Corolla 2.0 D4D HATCHB TERRA 2/3-Doors  ...               0        0\n",
              "4   5     TOYOTA Corolla 2.0 D4D HATCHB SOL 2/3-Doors  ...               0        0\n",
              "\n",
              "[5 rows x 38 columns]"
            ]
          },
          "metadata": {},
          "execution_count": 24
        }
      ]
    },
    {
      "cell_type": "code",
      "metadata": {
        "colab": {
          "base_uri": "https://localhost:8080/"
        },
        "id": "a6tcxD649ZVG",
        "outputId": "1a891652-0256-406d-de1d-8650f7947564"
      },
      "source": [
        "toyota.shape"
      ],
      "execution_count": 25,
      "outputs": [
        {
          "output_type": "execute_result",
          "data": {
            "text/plain": [
              "(1436, 38)"
            ]
          },
          "metadata": {},
          "execution_count": 25
        }
      ]
    },
    {
      "cell_type": "code",
      "metadata": {
        "id": "NUAqAxlO9Zg-"
      },
      "source": [
        "toyota.info()"
      ],
      "execution_count": null,
      "outputs": []
    },
    {
      "cell_type": "code",
      "metadata": {
        "id": "nMzoYS1R9hmg"
      },
      "source": [
        "toyota.isna().sum()"
      ],
      "execution_count": null,
      "outputs": []
    },
    {
      "cell_type": "code",
      "metadata": {
        "id": "1ZxWoRxL9hpI"
      },
      "source": [
        "toyota.drop_duplicates"
      ],
      "execution_count": null,
      "outputs": []
    },
    {
      "cell_type": "code",
      "metadata": {
        "id": "JBU8dWl89hrj"
      },
      "source": [
        "toyota=toyota.iloc[:,[2,3,6,8,12,13,15,16,17]]\n",
        "toyota"
      ],
      "execution_count": null,
      "outputs": []
    },
    {
      "cell_type": "code",
      "metadata": {
        "colab": {
          "base_uri": "https://localhost:8080/"
        },
        "id": "j0_uSVam_MuC",
        "outputId": "83773007-79f8-4251-903f-20fc0d61e0b9"
      },
      "source": [
        "toyota.shape"
      ],
      "execution_count": 31,
      "outputs": [
        {
          "output_type": "execute_result",
          "data": {
            "text/plain": [
              "(1436, 9)"
            ]
          },
          "metadata": {},
          "execution_count": 31
        }
      ]
    },
    {
      "cell_type": "code",
      "metadata": {
        "colab": {
          "base_uri": "https://localhost:8080/"
        },
        "id": "4UcOHFXYAND2",
        "outputId": "62e0d6a3-a826-493d-ad37-1d6233463126"
      },
      "source": [
        "toyota.info()"
      ],
      "execution_count": 32,
      "outputs": [
        {
          "output_type": "stream",
          "name": "stdout",
          "text": [
            "<class 'pandas.core.frame.DataFrame'>\n",
            "RangeIndex: 1436 entries, 0 to 1435\n",
            "Data columns (total 9 columns):\n",
            " #   Column         Non-Null Count  Dtype\n",
            "---  ------         --------------  -----\n",
            " 0   Price          1436 non-null   int64\n",
            " 1   Age_08_04      1436 non-null   int64\n",
            " 2   KM             1436 non-null   int64\n",
            " 3   HP             1436 non-null   int64\n",
            " 4   cc             1436 non-null   int64\n",
            " 5   Doors          1436 non-null   int64\n",
            " 6   Gears          1436 non-null   int64\n",
            " 7   Quarterly_Tax  1436 non-null   int64\n",
            " 8   Weight         1436 non-null   int64\n",
            "dtypes: int64(9)\n",
            "memory usage: 101.1 KB\n"
          ]
        }
      ]
    },
    {
      "cell_type": "code",
      "metadata": {
        "colab": {
          "base_uri": "https://localhost:8080/"
        },
        "id": "TYMTLgduAQFF",
        "outputId": "f66f5900-f568-4ff4-98e5-5c26a55368af"
      },
      "source": [
        "toyota.rename(columns={'Age_08_04':'age','Quarterly_Tax':'QT'},inplace=True)"
      ],
      "execution_count": 34,
      "outputs": [
        {
          "output_type": "stream",
          "name": "stderr",
          "text": [
            "/usr/local/lib/python3.7/dist-packages/pandas/core/frame.py:4308: SettingWithCopyWarning: \n",
            "A value is trying to be set on a copy of a slice from a DataFrame\n",
            "\n",
            "See the caveats in the documentation: https://pandas.pydata.org/pandas-docs/stable/user_guide/indexing.html#returning-a-view-versus-a-copy\n",
            "  errors=errors,\n"
          ]
        }
      ]
    },
    {
      "cell_type": "code",
      "metadata": {
        "colab": {
          "base_uri": "https://localhost:8080/"
        },
        "id": "C0qyrEb3AQHn",
        "outputId": "ffb47017-4a61-407c-e6d2-923cc2563909"
      },
      "source": [
        "toyota.info()"
      ],
      "execution_count": 35,
      "outputs": [
        {
          "output_type": "stream",
          "name": "stdout",
          "text": [
            "<class 'pandas.core.frame.DataFrame'>\n",
            "RangeIndex: 1436 entries, 0 to 1435\n",
            "Data columns (total 9 columns):\n",
            " #   Column  Non-Null Count  Dtype\n",
            "---  ------  --------------  -----\n",
            " 0   Price   1436 non-null   int64\n",
            " 1   age     1436 non-null   int64\n",
            " 2   KM      1436 non-null   int64\n",
            " 3   HP      1436 non-null   int64\n",
            " 4   cc      1436 non-null   int64\n",
            " 5   Doors   1436 non-null   int64\n",
            " 6   Gears   1436 non-null   int64\n",
            " 7   QT      1436 non-null   int64\n",
            " 8   Weight  1436 non-null   int64\n",
            "dtypes: int64(9)\n",
            "memory usage: 101.1 KB\n"
          ]
        }
      ]
    },
    {
      "cell_type": "code",
      "metadata": {
        "colab": {
          "base_uri": "https://localhost:8080/"
        },
        "id": "xGFYOK_XBKNu",
        "outputId": "0ade8934-7917-40c0-a300-9116aa5ee6a2"
      },
      "source": [
        "toyota.isna().sum()"
      ],
      "execution_count": 36,
      "outputs": [
        {
          "output_type": "execute_result",
          "data": {
            "text/plain": [
              "Price     0\n",
              "age       0\n",
              "KM        0\n",
              "HP        0\n",
              "cc        0\n",
              "Doors     0\n",
              "Gears     0\n",
              "QT        0\n",
              "Weight    0\n",
              "dtype: int64"
            ]
          },
          "metadata": {},
          "execution_count": 36
        }
      ]
    },
    {
      "cell_type": "code",
      "metadata": {
        "colab": {
          "base_uri": "https://localhost:8080/",
          "height": 299
        },
        "id": "FEFFknPPBKQO",
        "outputId": "04f3d49e-0678-4bbb-a4af-7c1e0d21a432"
      },
      "source": [
        "EDA=toyota.describe()\n",
        "EDA"
      ],
      "execution_count": 37,
      "outputs": [
        {
          "output_type": "execute_result",
          "data": {
            "text/html": [
              "<div>\n",
              "<style scoped>\n",
              "    .dataframe tbody tr th:only-of-type {\n",
              "        vertical-align: middle;\n",
              "    }\n",
              "\n",
              "    .dataframe tbody tr th {\n",
              "        vertical-align: top;\n",
              "    }\n",
              "\n",
              "    .dataframe thead th {\n",
              "        text-align: right;\n",
              "    }\n",
              "</style>\n",
              "<table border=\"1\" class=\"dataframe\">\n",
              "  <thead>\n",
              "    <tr style=\"text-align: right;\">\n",
              "      <th></th>\n",
              "      <th>Price</th>\n",
              "      <th>age</th>\n",
              "      <th>KM</th>\n",
              "      <th>HP</th>\n",
              "      <th>cc</th>\n",
              "      <th>Doors</th>\n",
              "      <th>Gears</th>\n",
              "      <th>QT</th>\n",
              "      <th>Weight</th>\n",
              "    </tr>\n",
              "  </thead>\n",
              "  <tbody>\n",
              "    <tr>\n",
              "      <th>count</th>\n",
              "      <td>1436.000000</td>\n",
              "      <td>1436.000000</td>\n",
              "      <td>1436.000000</td>\n",
              "      <td>1436.000000</td>\n",
              "      <td>1436.00000</td>\n",
              "      <td>1436.000000</td>\n",
              "      <td>1436.000000</td>\n",
              "      <td>1436.000000</td>\n",
              "      <td>1436.00000</td>\n",
              "    </tr>\n",
              "    <tr>\n",
              "      <th>mean</th>\n",
              "      <td>10730.824513</td>\n",
              "      <td>55.947075</td>\n",
              "      <td>68533.259749</td>\n",
              "      <td>101.502089</td>\n",
              "      <td>1576.85585</td>\n",
              "      <td>4.033426</td>\n",
              "      <td>5.026462</td>\n",
              "      <td>87.122563</td>\n",
              "      <td>1072.45961</td>\n",
              "    </tr>\n",
              "    <tr>\n",
              "      <th>std</th>\n",
              "      <td>3626.964585</td>\n",
              "      <td>18.599988</td>\n",
              "      <td>37506.448872</td>\n",
              "      <td>14.981080</td>\n",
              "      <td>424.38677</td>\n",
              "      <td>0.952677</td>\n",
              "      <td>0.188510</td>\n",
              "      <td>41.128611</td>\n",
              "      <td>52.64112</td>\n",
              "    </tr>\n",
              "    <tr>\n",
              "      <th>min</th>\n",
              "      <td>4350.000000</td>\n",
              "      <td>1.000000</td>\n",
              "      <td>1.000000</td>\n",
              "      <td>69.000000</td>\n",
              "      <td>1300.00000</td>\n",
              "      <td>2.000000</td>\n",
              "      <td>3.000000</td>\n",
              "      <td>19.000000</td>\n",
              "      <td>1000.00000</td>\n",
              "    </tr>\n",
              "    <tr>\n",
              "      <th>25%</th>\n",
              "      <td>8450.000000</td>\n",
              "      <td>44.000000</td>\n",
              "      <td>43000.000000</td>\n",
              "      <td>90.000000</td>\n",
              "      <td>1400.00000</td>\n",
              "      <td>3.000000</td>\n",
              "      <td>5.000000</td>\n",
              "      <td>69.000000</td>\n",
              "      <td>1040.00000</td>\n",
              "    </tr>\n",
              "    <tr>\n",
              "      <th>50%</th>\n",
              "      <td>9900.000000</td>\n",
              "      <td>61.000000</td>\n",
              "      <td>63389.500000</td>\n",
              "      <td>110.000000</td>\n",
              "      <td>1600.00000</td>\n",
              "      <td>4.000000</td>\n",
              "      <td>5.000000</td>\n",
              "      <td>85.000000</td>\n",
              "      <td>1070.00000</td>\n",
              "    </tr>\n",
              "    <tr>\n",
              "      <th>75%</th>\n",
              "      <td>11950.000000</td>\n",
              "      <td>70.000000</td>\n",
              "      <td>87020.750000</td>\n",
              "      <td>110.000000</td>\n",
              "      <td>1600.00000</td>\n",
              "      <td>5.000000</td>\n",
              "      <td>5.000000</td>\n",
              "      <td>85.000000</td>\n",
              "      <td>1085.00000</td>\n",
              "    </tr>\n",
              "    <tr>\n",
              "      <th>max</th>\n",
              "      <td>32500.000000</td>\n",
              "      <td>80.000000</td>\n",
              "      <td>243000.000000</td>\n",
              "      <td>192.000000</td>\n",
              "      <td>16000.00000</td>\n",
              "      <td>5.000000</td>\n",
              "      <td>6.000000</td>\n",
              "      <td>283.000000</td>\n",
              "      <td>1615.00000</td>\n",
              "    </tr>\n",
              "  </tbody>\n",
              "</table>\n",
              "</div>"
            ],
            "text/plain": [
              "              Price          age  ...           QT      Weight\n",
              "count   1436.000000  1436.000000  ...  1436.000000  1436.00000\n",
              "mean   10730.824513    55.947075  ...    87.122563  1072.45961\n",
              "std     3626.964585    18.599988  ...    41.128611    52.64112\n",
              "min     4350.000000     1.000000  ...    19.000000  1000.00000\n",
              "25%     8450.000000    44.000000  ...    69.000000  1040.00000\n",
              "50%     9900.000000    61.000000  ...    85.000000  1070.00000\n",
              "75%    11950.000000    70.000000  ...    85.000000  1085.00000\n",
              "max    32500.000000    80.000000  ...   283.000000  1615.00000\n",
              "\n",
              "[8 rows x 9 columns]"
            ]
          },
          "metadata": {},
          "execution_count": 37
        }
      ]
    },
    {
      "cell_type": "markdown",
      "metadata": {
        "id": "HiK3MEcfB4W9"
      },
      "source": [
        "## **CORRELATION MATRIX**"
      ]
    },
    {
      "cell_type": "code",
      "metadata": {
        "colab": {
          "base_uri": "https://localhost:8080/",
          "height": 331
        },
        "id": "_mylH7dlBKSk",
        "outputId": "760a6855-f684-4442-f77f-5e33cea18087"
      },
      "source": [
        "toyota.corr()"
      ],
      "execution_count": 38,
      "outputs": [
        {
          "output_type": "execute_result",
          "data": {
            "text/html": [
              "<div>\n",
              "<style scoped>\n",
              "    .dataframe tbody tr th:only-of-type {\n",
              "        vertical-align: middle;\n",
              "    }\n",
              "\n",
              "    .dataframe tbody tr th {\n",
              "        vertical-align: top;\n",
              "    }\n",
              "\n",
              "    .dataframe thead th {\n",
              "        text-align: right;\n",
              "    }\n",
              "</style>\n",
              "<table border=\"1\" class=\"dataframe\">\n",
              "  <thead>\n",
              "    <tr style=\"text-align: right;\">\n",
              "      <th></th>\n",
              "      <th>Price</th>\n",
              "      <th>age</th>\n",
              "      <th>KM</th>\n",
              "      <th>HP</th>\n",
              "      <th>cc</th>\n",
              "      <th>Doors</th>\n",
              "      <th>Gears</th>\n",
              "      <th>QT</th>\n",
              "      <th>Weight</th>\n",
              "    </tr>\n",
              "  </thead>\n",
              "  <tbody>\n",
              "    <tr>\n",
              "      <th>Price</th>\n",
              "      <td>1.000000</td>\n",
              "      <td>-0.876590</td>\n",
              "      <td>-0.569960</td>\n",
              "      <td>0.314990</td>\n",
              "      <td>0.126389</td>\n",
              "      <td>0.185326</td>\n",
              "      <td>0.063104</td>\n",
              "      <td>0.219197</td>\n",
              "      <td>0.581198</td>\n",
              "    </tr>\n",
              "    <tr>\n",
              "      <th>age</th>\n",
              "      <td>-0.876590</td>\n",
              "      <td>1.000000</td>\n",
              "      <td>0.505672</td>\n",
              "      <td>-0.156622</td>\n",
              "      <td>-0.098084</td>\n",
              "      <td>-0.148359</td>\n",
              "      <td>-0.005364</td>\n",
              "      <td>-0.198431</td>\n",
              "      <td>-0.470253</td>\n",
              "    </tr>\n",
              "    <tr>\n",
              "      <th>KM</th>\n",
              "      <td>-0.569960</td>\n",
              "      <td>0.505672</td>\n",
              "      <td>1.000000</td>\n",
              "      <td>-0.333538</td>\n",
              "      <td>0.102683</td>\n",
              "      <td>-0.036197</td>\n",
              "      <td>0.015023</td>\n",
              "      <td>0.278165</td>\n",
              "      <td>-0.028598</td>\n",
              "    </tr>\n",
              "    <tr>\n",
              "      <th>HP</th>\n",
              "      <td>0.314990</td>\n",
              "      <td>-0.156622</td>\n",
              "      <td>-0.333538</td>\n",
              "      <td>1.000000</td>\n",
              "      <td>0.035856</td>\n",
              "      <td>0.092424</td>\n",
              "      <td>0.209477</td>\n",
              "      <td>-0.298432</td>\n",
              "      <td>0.089614</td>\n",
              "    </tr>\n",
              "    <tr>\n",
              "      <th>cc</th>\n",
              "      <td>0.126389</td>\n",
              "      <td>-0.098084</td>\n",
              "      <td>0.102683</td>\n",
              "      <td>0.035856</td>\n",
              "      <td>1.000000</td>\n",
              "      <td>0.079903</td>\n",
              "      <td>0.014629</td>\n",
              "      <td>0.306996</td>\n",
              "      <td>0.335637</td>\n",
              "    </tr>\n",
              "    <tr>\n",
              "      <th>Doors</th>\n",
              "      <td>0.185326</td>\n",
              "      <td>-0.148359</td>\n",
              "      <td>-0.036197</td>\n",
              "      <td>0.092424</td>\n",
              "      <td>0.079903</td>\n",
              "      <td>1.000000</td>\n",
              "      <td>-0.160141</td>\n",
              "      <td>0.109363</td>\n",
              "      <td>0.302618</td>\n",
              "    </tr>\n",
              "    <tr>\n",
              "      <th>Gears</th>\n",
              "      <td>0.063104</td>\n",
              "      <td>-0.005364</td>\n",
              "      <td>0.015023</td>\n",
              "      <td>0.209477</td>\n",
              "      <td>0.014629</td>\n",
              "      <td>-0.160141</td>\n",
              "      <td>1.000000</td>\n",
              "      <td>-0.005452</td>\n",
              "      <td>0.020613</td>\n",
              "    </tr>\n",
              "    <tr>\n",
              "      <th>QT</th>\n",
              "      <td>0.219197</td>\n",
              "      <td>-0.198431</td>\n",
              "      <td>0.278165</td>\n",
              "      <td>-0.298432</td>\n",
              "      <td>0.306996</td>\n",
              "      <td>0.109363</td>\n",
              "      <td>-0.005452</td>\n",
              "      <td>1.000000</td>\n",
              "      <td>0.626134</td>\n",
              "    </tr>\n",
              "    <tr>\n",
              "      <th>Weight</th>\n",
              "      <td>0.581198</td>\n",
              "      <td>-0.470253</td>\n",
              "      <td>-0.028598</td>\n",
              "      <td>0.089614</td>\n",
              "      <td>0.335637</td>\n",
              "      <td>0.302618</td>\n",
              "      <td>0.020613</td>\n",
              "      <td>0.626134</td>\n",
              "      <td>1.000000</td>\n",
              "    </tr>\n",
              "  </tbody>\n",
              "</table>\n",
              "</div>"
            ],
            "text/plain": [
              "           Price       age        KM  ...     Gears        QT    Weight\n",
              "Price   1.000000 -0.876590 -0.569960  ...  0.063104  0.219197  0.581198\n",
              "age    -0.876590  1.000000  0.505672  ... -0.005364 -0.198431 -0.470253\n",
              "KM     -0.569960  0.505672  1.000000  ...  0.015023  0.278165 -0.028598\n",
              "HP      0.314990 -0.156622 -0.333538  ...  0.209477 -0.298432  0.089614\n",
              "cc      0.126389 -0.098084  0.102683  ...  0.014629  0.306996  0.335637\n",
              "Doors   0.185326 -0.148359 -0.036197  ... -0.160141  0.109363  0.302618\n",
              "Gears   0.063104 -0.005364  0.015023  ...  1.000000 -0.005452  0.020613\n",
              "QT      0.219197 -0.198431  0.278165  ... -0.005452  1.000000  0.626134\n",
              "Weight  0.581198 -0.470253 -0.028598  ...  0.020613  0.626134  1.000000\n",
              "\n",
              "[9 rows x 9 columns]"
            ]
          },
          "metadata": {},
          "execution_count": 38
        }
      ]
    },
    {
      "cell_type": "markdown",
      "metadata": {
        "id": "nI7nMKh7B-tr"
      },
      "source": [
        "## **PAIR PLOT------HISTOGRAM AND SCATTERPLOT**"
      ]
    },
    {
      "cell_type": "code",
      "metadata": {
        "id": "kLyA4Q4FBKUz"
      },
      "source": [
        "#fomat the the plot background and scatterplots for all the variables"
      ],
      "execution_count": null,
      "outputs": []
    },
    {
      "cell_type": "code",
      "metadata": {
        "id": "Mkchsj8uCCZD"
      },
      "source": [
        "sns.set_style(style='darkgrid')\n",
        "sns.pairplot(toyota)"
      ],
      "execution_count": null,
      "outputs": []
    },
    {
      "cell_type": "markdown",
      "metadata": {
        "id": "Os4tz1xVCNo5"
      },
      "source": [
        "## **BUILDING A MODEL**"
      ]
    },
    {
      "cell_type": "code",
      "metadata": {
        "id": "yDc_s6FMCCbp"
      },
      "source": [
        "model=smf.ols('Price~age+KM+HP+cc+Doors+Gears+QT+Weight',data=toyota).fit()"
      ],
      "execution_count": 41,
      "outputs": []
    },
    {
      "cell_type": "code",
      "metadata": {
        "colab": {
          "base_uri": "https://localhost:8080/"
        },
        "id": "ez5MndvxCCf7",
        "outputId": "4cf5d440-bb2e-47de-b77a-df9e96743c9c"
      },
      "source": [
        "#coefficients\n",
        "model.params"
      ],
      "execution_count": 42,
      "outputs": [
        {
          "output_type": "execute_result",
          "data": {
            "text/plain": [
              "Intercept   -5573.106358\n",
              "age          -121.658402\n",
              "KM             -0.020817\n",
              "HP             31.680906\n",
              "cc             -0.121100\n",
              "Doors          -1.616641\n",
              "Gears         594.319936\n",
              "QT              3.949081\n",
              "Weight         16.958632\n",
              "dtype: float64"
            ]
          },
          "metadata": {},
          "execution_count": 42
        }
      ]
    },
    {
      "cell_type": "code",
      "metadata": {
        "colab": {
          "base_uri": "https://localhost:8080/"
        },
        "id": "bfCLySuYC7pi",
        "outputId": "7892bc31-dea0-446a-870f-a55dd99abc51"
      },
      "source": [
        "####t-value and p value\n",
        "print(model.tvalues, '\\n', model.pvalues)"
      ],
      "execution_count": 43,
      "outputs": [
        {
          "output_type": "stream",
          "name": "stdout",
          "text": [
            "Intercept    -3.948666\n",
            "age         -46.511852\n",
            "KM          -16.621622\n",
            "HP           11.241018\n",
            "cc           -1.344222\n",
            "Doors        -0.040410\n",
            "Gears         3.016007\n",
            "QT            3.014535\n",
            "Weight       15.879803\n",
            "dtype: float64 \n",
            " Intercept     8.241949e-05\n",
            "age          3.354724e-288\n",
            "KM            7.538439e-57\n",
            "HP            3.757218e-28\n",
            "cc            1.790902e-01\n",
            "Doors         9.677716e-01\n",
            "Gears         2.606549e-03\n",
            "QT            2.619148e-03\n",
            "Weight        2.048576e-52\n",
            "dtype: float64\n"
          ]
        }
      ]
    },
    {
      "cell_type": "code",
      "metadata": {
        "colab": {
          "base_uri": "https://localhost:8080/"
        },
        "id": "A8KoI9kLC7sm",
        "outputId": "5837c52d-bd7f-42d9-e320-3dfac32c34b2"
      },
      "source": [
        "##R^2 value\n",
        "(model.rsquared, model.rsquared_adj)"
      ],
      "execution_count": 44,
      "outputs": [
        {
          "output_type": "execute_result",
          "data": {
            "text/plain": [
              "(0.8637627463428192, 0.8629989775766963)"
            ]
          },
          "metadata": {},
          "execution_count": 44
        }
      ]
    },
    {
      "cell_type": "code",
      "metadata": {
        "id": "yfwEqVPcDlAi"
      },
      "source": [
        "##cc and doors are insignificant.(cc---1.790902e-01 and  Doors---9.677716e-01) because their values are greater than 0.05"
      ],
      "execution_count": null,
      "outputs": []
    },
    {
      "cell_type": "markdown",
      "metadata": {
        "id": "-kVMKAzcDjK8"
      },
      "source": [
        "# **SIMPLE LINEAR REGRESSION MODELS**"
      ]
    },
    {
      "cell_type": "code",
      "metadata": {
        "colab": {
          "base_uri": "https://localhost:8080/"
        },
        "id": "n_O6SJtuDgjc",
        "outputId": "027a36ea-c885-4fc7-f6ec-3638cd356a70"
      },
      "source": [
        "### Price Vs cc\n",
        "\n",
        "ml_cc=smf.ols('Price~cc',data = toyota).fit()  \n",
        "\n",
        "#t and p-Values\n",
        "print(ml_cc.tvalues, '\\n', ml_cc.pvalues)  "
      ],
      "execution_count": 52,
      "outputs": [
        {
          "output_type": "stream",
          "name": "stdout",
          "text": [
            "Intercept    24.694090\n",
            "cc            4.824822\n",
            "dtype: float64 \n",
            " Intercept    1.766912e-112\n",
            "cc            1.550808e-06\n",
            "dtype: float64\n"
          ]
        }
      ]
    },
    {
      "cell_type": "code",
      "metadata": {
        "colab": {
          "base_uri": "https://localhost:8080/"
        },
        "id": "LndZMW9EGQ9z",
        "outputId": "df4c6907-6d0f-4d88-8e6c-3e91869f6274"
      },
      "source": [
        "##R^2 value\n",
        "(ml_cc.rsquared, ml_cc.rsquared_adj)"
      ],
      "execution_count": 53,
      "outputs": [
        {
          "output_type": "execute_result",
          "data": {
            "text/plain": [
              "(0.015974229213323143, 0.015288018773444101)"
            ]
          },
          "metadata": {},
          "execution_count": 53
        }
      ]
    },
    {
      "cell_type": "code",
      "metadata": {
        "colab": {
          "base_uri": "https://localhost:8080/"
        },
        "id": "hi9IupumDgmL",
        "outputId": "60d7ab66-2afa-4036-95c4-8418836e63cb"
      },
      "source": [
        "### Price Vs Doors\n",
        "ml_d=smf.ols('Price~Doors',data = toyota).fit()  \n",
        "#t and p-Values\n",
        "print(ml_d.tvalues, '\\n', ml_d.pvalues)  "
      ],
      "execution_count": 49,
      "outputs": [
        {
          "output_type": "stream",
          "name": "stdout",
          "text": [
            "Intercept    19.258097\n",
            "Doors         7.141657\n",
            "dtype: float64 \n",
            " Intercept    1.094732e-73\n",
            "Doors        1.461237e-12\n",
            "dtype: float64\n"
          ]
        }
      ]
    },
    {
      "cell_type": "code",
      "metadata": {
        "colab": {
          "base_uri": "https://localhost:8080/"
        },
        "id": "kQt4z5eLGV0s",
        "outputId": "1f29972f-9535-49a2-8c85-c44bda7891b7"
      },
      "source": [
        "##R^2 value\n",
        "(ml_d.rsquared, ml_d.rsquared_adj)"
      ],
      "execution_count": 54,
      "outputs": [
        {
          "output_type": "execute_result",
          "data": {
            "text/plain": [
              "(0.03434555943109807, 0.03367216023962749)"
            ]
          },
          "metadata": {},
          "execution_count": 54
        }
      ]
    },
    {
      "cell_type": "code",
      "metadata": {
        "colab": {
          "base_uri": "https://localhost:8080/"
        },
        "id": "0CAVYJ4KDgov",
        "outputId": "016270b0-bb16-4cbb-a909-10dc2dfdfd72"
      },
      "source": [
        "### Price Vs cc+Doors\n",
        "ml_ccd=smf.ols('Price~cc+Doors',data = toyota).fit()  \n",
        "#t and p-Values\n",
        "print(ml_ccd.tvalues, '\\n', ml_ccd.pvalues)  "
      ],
      "execution_count": 48,
      "outputs": [
        {
          "output_type": "stream",
          "name": "stdout",
          "text": [
            "Intercept    12.620704\n",
            "cc            4.340400\n",
            "Doors         6.816153\n",
            "dtype: float64 \n",
            " Intercept    1.056885e-34\n",
            "cc           1.521992e-05\n",
            "Doors        1.373469e-11\n",
            "dtype: float64\n"
          ]
        }
      ]
    },
    {
      "cell_type": "code",
      "metadata": {
        "colab": {
          "base_uri": "https://localhost:8080/"
        },
        "id": "o6MKS9KsGa7V",
        "outputId": "2697a80a-bfa5-42a5-9b80-79716ea8e42e"
      },
      "source": [
        "##R^2 value\n",
        "(ml_ccd.rsquared, ml_ccd.rsquared_adj)"
      ],
      "execution_count": 55,
      "outputs": [
        {
          "output_type": "execute_result",
          "data": {
            "text/plain": [
              "(0.04687589613046228, 0.0455456461599536)"
            ]
          },
          "metadata": {},
          "execution_count": 55
        }
      ]
    },
    {
      "cell_type": "code",
      "metadata": {
        "id": "LW1q6DyuDgrK"
      },
      "source": [
        "####'Price Vs cc+Doors BECOMES SIGNIFICANT BECAUSE THE P VALUR IS < THAN 0.05"
      ],
      "execution_count": null,
      "outputs": []
    },
    {
      "cell_type": "code",
      "metadata": {
        "colab": {
          "base_uri": "https://localhost:8080/",
          "height": 331
        },
        "id": "jMdxO8ZzFnCV",
        "outputId": "5e1cd672-c967-4b42-998c-80da9b1847e3"
      },
      "source": [
        "toyota.corr()"
      ],
      "execution_count": 51,
      "outputs": [
        {
          "output_type": "execute_result",
          "data": {
            "text/html": [
              "<div>\n",
              "<style scoped>\n",
              "    .dataframe tbody tr th:only-of-type {\n",
              "        vertical-align: middle;\n",
              "    }\n",
              "\n",
              "    .dataframe tbody tr th {\n",
              "        vertical-align: top;\n",
              "    }\n",
              "\n",
              "    .dataframe thead th {\n",
              "        text-align: right;\n",
              "    }\n",
              "</style>\n",
              "<table border=\"1\" class=\"dataframe\">\n",
              "  <thead>\n",
              "    <tr style=\"text-align: right;\">\n",
              "      <th></th>\n",
              "      <th>Price</th>\n",
              "      <th>age</th>\n",
              "      <th>KM</th>\n",
              "      <th>HP</th>\n",
              "      <th>cc</th>\n",
              "      <th>Doors</th>\n",
              "      <th>Gears</th>\n",
              "      <th>QT</th>\n",
              "      <th>Weight</th>\n",
              "    </tr>\n",
              "  </thead>\n",
              "  <tbody>\n",
              "    <tr>\n",
              "      <th>Price</th>\n",
              "      <td>1.000000</td>\n",
              "      <td>-0.876590</td>\n",
              "      <td>-0.569960</td>\n",
              "      <td>0.314990</td>\n",
              "      <td>0.126389</td>\n",
              "      <td>0.185326</td>\n",
              "      <td>0.063104</td>\n",
              "      <td>0.219197</td>\n",
              "      <td>0.581198</td>\n",
              "    </tr>\n",
              "    <tr>\n",
              "      <th>age</th>\n",
              "      <td>-0.876590</td>\n",
              "      <td>1.000000</td>\n",
              "      <td>0.505672</td>\n",
              "      <td>-0.156622</td>\n",
              "      <td>-0.098084</td>\n",
              "      <td>-0.148359</td>\n",
              "      <td>-0.005364</td>\n",
              "      <td>-0.198431</td>\n",
              "      <td>-0.470253</td>\n",
              "    </tr>\n",
              "    <tr>\n",
              "      <th>KM</th>\n",
              "      <td>-0.569960</td>\n",
              "      <td>0.505672</td>\n",
              "      <td>1.000000</td>\n",
              "      <td>-0.333538</td>\n",
              "      <td>0.102683</td>\n",
              "      <td>-0.036197</td>\n",
              "      <td>0.015023</td>\n",
              "      <td>0.278165</td>\n",
              "      <td>-0.028598</td>\n",
              "    </tr>\n",
              "    <tr>\n",
              "      <th>HP</th>\n",
              "      <td>0.314990</td>\n",
              "      <td>-0.156622</td>\n",
              "      <td>-0.333538</td>\n",
              "      <td>1.000000</td>\n",
              "      <td>0.035856</td>\n",
              "      <td>0.092424</td>\n",
              "      <td>0.209477</td>\n",
              "      <td>-0.298432</td>\n",
              "      <td>0.089614</td>\n",
              "    </tr>\n",
              "    <tr>\n",
              "      <th>cc</th>\n",
              "      <td>0.126389</td>\n",
              "      <td>-0.098084</td>\n",
              "      <td>0.102683</td>\n",
              "      <td>0.035856</td>\n",
              "      <td>1.000000</td>\n",
              "      <td>0.079903</td>\n",
              "      <td>0.014629</td>\n",
              "      <td>0.306996</td>\n",
              "      <td>0.335637</td>\n",
              "    </tr>\n",
              "    <tr>\n",
              "      <th>Doors</th>\n",
              "      <td>0.185326</td>\n",
              "      <td>-0.148359</td>\n",
              "      <td>-0.036197</td>\n",
              "      <td>0.092424</td>\n",
              "      <td>0.079903</td>\n",
              "      <td>1.000000</td>\n",
              "      <td>-0.160141</td>\n",
              "      <td>0.109363</td>\n",
              "      <td>0.302618</td>\n",
              "    </tr>\n",
              "    <tr>\n",
              "      <th>Gears</th>\n",
              "      <td>0.063104</td>\n",
              "      <td>-0.005364</td>\n",
              "      <td>0.015023</td>\n",
              "      <td>0.209477</td>\n",
              "      <td>0.014629</td>\n",
              "      <td>-0.160141</td>\n",
              "      <td>1.000000</td>\n",
              "      <td>-0.005452</td>\n",
              "      <td>0.020613</td>\n",
              "    </tr>\n",
              "    <tr>\n",
              "      <th>QT</th>\n",
              "      <td>0.219197</td>\n",
              "      <td>-0.198431</td>\n",
              "      <td>0.278165</td>\n",
              "      <td>-0.298432</td>\n",
              "      <td>0.306996</td>\n",
              "      <td>0.109363</td>\n",
              "      <td>-0.005452</td>\n",
              "      <td>1.000000</td>\n",
              "      <td>0.626134</td>\n",
              "    </tr>\n",
              "    <tr>\n",
              "      <th>Weight</th>\n",
              "      <td>0.581198</td>\n",
              "      <td>-0.470253</td>\n",
              "      <td>-0.028598</td>\n",
              "      <td>0.089614</td>\n",
              "      <td>0.335637</td>\n",
              "      <td>0.302618</td>\n",
              "      <td>0.020613</td>\n",
              "      <td>0.626134</td>\n",
              "      <td>1.000000</td>\n",
              "    </tr>\n",
              "  </tbody>\n",
              "</table>\n",
              "</div>"
            ],
            "text/plain": [
              "           Price       age        KM  ...     Gears        QT    Weight\n",
              "Price   1.000000 -0.876590 -0.569960  ...  0.063104  0.219197  0.581198\n",
              "age    -0.876590  1.000000  0.505672  ... -0.005364 -0.198431 -0.470253\n",
              "KM     -0.569960  0.505672  1.000000  ...  0.015023  0.278165 -0.028598\n",
              "HP      0.314990 -0.156622 -0.333538  ...  0.209477 -0.298432  0.089614\n",
              "cc      0.126389 -0.098084  0.102683  ...  0.014629  0.306996  0.335637\n",
              "Doors   0.185326 -0.148359 -0.036197  ... -0.160141  0.109363  0.302618\n",
              "Gears   0.063104 -0.005364  0.015023  ...  1.000000 -0.005452  0.020613\n",
              "QT      0.219197 -0.198431  0.278165  ... -0.005452  1.000000  0.626134\n",
              "Weight  0.581198 -0.470253 -0.028598  ...  0.020613  0.626134  1.000000\n",
              "\n",
              "[9 rows x 9 columns]"
            ]
          },
          "metadata": {},
          "execution_count": 51
        }
      ]
    },
    {
      "cell_type": "code",
      "metadata": {
        "id": "-Q92rE54FnFG"
      },
      "source": [
        ""
      ],
      "execution_count": null,
      "outputs": []
    },
    {
      "cell_type": "markdown",
      "metadata": {
        "id": "znv-4DxhHTNr"
      },
      "source": [
        "# **CALCULATING VIF VALUE**"
      ]
    },
    {
      "cell_type": "code",
      "metadata": {
        "colab": {
          "base_uri": "https://localhost:8080/"
        },
        "id": "qrNVmjAPHYDf",
        "outputId": "6a03c2ba-7839-42a9-e89f-76301de38648"
      },
      "source": [
        "rsq_age = smf.ols('age~KM+HP+cc+Doors+Gears+QT+Weight',data=toyota).fit().rsquared  \n",
        "vif_age = 1/(1-rsq_age) # 1.884\n",
        "vif_age"
      ],
      "execution_count": 56,
      "outputs": [
        {
          "output_type": "execute_result",
          "data": {
            "text/plain": [
              "1.8846198056602872"
            ]
          },
          "metadata": {},
          "execution_count": 56
        }
      ]
    },
    {
      "cell_type": "code",
      "metadata": {
        "colab": {
          "base_uri": "https://localhost:8080/"
        },
        "id": "LVpdTo7kHYGm",
        "outputId": "2b047fdc-2e78-4d2f-9b0f-e824dc110ede"
      },
      "source": [
        "rsq_KM = smf.ols('KM~age+HP+cc+Doors+Gears+QT+Weight',data=toyota).fit().rsquared  \n",
        "vif_KM = 1/(1-rsq_KM) # 1.756\n",
        "vif_KM"
      ],
      "execution_count": 57,
      "outputs": [
        {
          "output_type": "execute_result",
          "data": {
            "text/plain": [
              "1.7569047782042888"
            ]
          },
          "metadata": {},
          "execution_count": 57
        }
      ]
    },
    {
      "cell_type": "code",
      "metadata": {
        "colab": {
          "base_uri": "https://localhost:8080/"
        },
        "id": "wuWX7nRaHYJK",
        "outputId": "b8c3f0a1-f17c-4e61-b086-9c99dc6b5fae"
      },
      "source": [
        "rsq_HP = smf.ols('HP~KM+age+cc+Doors+Gears+QT+Weight',data=toyota).fit().rsquared  \n",
        "vif_HP = 1/(1-rsq_HP) # 1.4194\n",
        "vif_HP"
      ],
      "execution_count": 58,
      "outputs": [
        {
          "output_type": "execute_result",
          "data": {
            "text/plain": [
              "1.4194221086310976"
            ]
          },
          "metadata": {},
          "execution_count": 58
        }
      ]
    },
    {
      "cell_type": "code",
      "metadata": {
        "colab": {
          "base_uri": "https://localhost:8080/"
        },
        "id": "v4r3hovHHYM4",
        "outputId": "32a386f2-a150-49b8-c056-f7b8d670f4cf"
      },
      "source": [
        "rsq_cc= smf.ols('cc~age+HP+KM+Doors+Gears+QT+Weight',data=toyota).fit().rsquared  \n",
        "vif_cc = 1/(1-rsq_cc) # 1.16389\n",
        "vif_cc"
      ],
      "execution_count": 59,
      "outputs": [
        {
          "output_type": "execute_result",
          "data": {
            "text/plain": [
              "1.16389398494238"
            ]
          },
          "metadata": {},
          "execution_count": 59
        }
      ]
    },
    {
      "cell_type": "code",
      "metadata": {
        "colab": {
          "base_uri": "https://localhost:8080/"
        },
        "id": "88WB6EjTHYPV",
        "outputId": "c08ccb59-677e-4687-f435-6fd1f153b919"
      },
      "source": [
        "rsq_Doors = smf.ols('Doors~age+HP+cc+KM+Gears+QT+Weight',data=toyota).fit().rsquared  \n",
        "vif_Doors = 1/(1-rsq_Doors) #1.15657\n",
        "vif_Doors"
      ],
      "execution_count": 60,
      "outputs": [
        {
          "output_type": "execute_result",
          "data": {
            "text/plain": [
              "1.156575207076044"
            ]
          },
          "metadata": {},
          "execution_count": 60
        }
      ]
    },
    {
      "cell_type": "code",
      "metadata": {
        "colab": {
          "base_uri": "https://localhost:8080/"
        },
        "id": "geNBVJxCIGHE",
        "outputId": "81d6721f-737e-495b-b89b-4783a8bd7945"
      },
      "source": [
        "rsq_Gears = smf.ols('Gears~age+HP+cc+KM+Doors+QT+Weight',data=toyota).fit().rsquared  \n",
        "vif_Gears = 1/(1-rsq_Gears) # 1.09872\n",
        "vif_Gears"
      ],
      "execution_count": 61,
      "outputs": [
        {
          "output_type": "execute_result",
          "data": {
            "text/plain": [
              "1.098723019347037"
            ]
          },
          "metadata": {},
          "execution_count": 61
        }
      ]
    },
    {
      "cell_type": "code",
      "metadata": {
        "colab": {
          "base_uri": "https://localhost:8080/"
        },
        "id": "PgtGiOugIGJk",
        "outputId": "a3e595af-6fbe-45fe-ddaf-8d2eaea47d00"
      },
      "source": [
        "rsq_QT = smf.ols('QT~age+HP+cc+KM+Doors+Gears+Weight',data=toyota).fit().rsquared  \n",
        "vif_QT = 1/(1-rsq_QT) # 2.3114308\n",
        "vif_QT"
      ],
      "execution_count": 62,
      "outputs": [
        {
          "output_type": "execute_result",
          "data": {
            "text/plain": [
              "2.311430811531038"
            ]
          },
          "metadata": {},
          "execution_count": 62
        }
      ]
    },
    {
      "cell_type": "code",
      "metadata": {
        "colab": {
          "base_uri": "https://localhost:8080/"
        },
        "id": "u2MMK_rPI7Bo",
        "outputId": "619ed716-845f-4eb5-ca79-ddfaf4f527b9"
      },
      "source": [
        "rsq_Weight = smf.ols('Weight~age+HP+cc+KM+Doors+Gears+QT',data=toyota).fit().rsquared  \n",
        "vif_Weight= 1/(1-rsq_Weight) # 2.51641\n",
        "vif_Weight"
      ],
      "execution_count": 63,
      "outputs": [
        {
          "output_type": "execute_result",
          "data": {
            "text/plain": [
              "2.516419837445868"
            ]
          },
          "metadata": {},
          "execution_count": 63
        }
      ]
    },
    {
      "cell_type": "code",
      "metadata": {
        "colab": {
          "base_uri": "https://localhost:8080/",
          "height": 299
        },
        "id": "FqDDHFUvI7EO",
        "outputId": "403db239-f125-4f43-9eca-8f574b989827"
      },
      "source": [
        "# Storing vif values in a data frame\n",
        "d1 = {'Variables':['age','KM','HP',\t'cc','Doors','Gears','QT','Weight'],'VIF':[vif_age,vif_KM,vif_HP,vif_cc,vif_Doors,vif_Gears,vif_QT,vif_Weight]}\n",
        "Vif_frame = pd.DataFrame(d1)  \n",
        "Vif_frame"
      ],
      "execution_count": 65,
      "outputs": [
        {
          "output_type": "execute_result",
          "data": {
            "text/html": [
              "<div>\n",
              "<style scoped>\n",
              "    .dataframe tbody tr th:only-of-type {\n",
              "        vertical-align: middle;\n",
              "    }\n",
              "\n",
              "    .dataframe tbody tr th {\n",
              "        vertical-align: top;\n",
              "    }\n",
              "\n",
              "    .dataframe thead th {\n",
              "        text-align: right;\n",
              "    }\n",
              "</style>\n",
              "<table border=\"1\" class=\"dataframe\">\n",
              "  <thead>\n",
              "    <tr style=\"text-align: right;\">\n",
              "      <th></th>\n",
              "      <th>Variables</th>\n",
              "      <th>VIF</th>\n",
              "    </tr>\n",
              "  </thead>\n",
              "  <tbody>\n",
              "    <tr>\n",
              "      <th>0</th>\n",
              "      <td>age</td>\n",
              "      <td>1.884620</td>\n",
              "    </tr>\n",
              "    <tr>\n",
              "      <th>1</th>\n",
              "      <td>KM</td>\n",
              "      <td>1.756905</td>\n",
              "    </tr>\n",
              "    <tr>\n",
              "      <th>2</th>\n",
              "      <td>HP</td>\n",
              "      <td>1.419422</td>\n",
              "    </tr>\n",
              "    <tr>\n",
              "      <th>3</th>\n",
              "      <td>cc</td>\n",
              "      <td>1.163894</td>\n",
              "    </tr>\n",
              "    <tr>\n",
              "      <th>4</th>\n",
              "      <td>Doors</td>\n",
              "      <td>1.156575</td>\n",
              "    </tr>\n",
              "    <tr>\n",
              "      <th>5</th>\n",
              "      <td>Gears</td>\n",
              "      <td>1.098723</td>\n",
              "    </tr>\n",
              "    <tr>\n",
              "      <th>6</th>\n",
              "      <td>QT</td>\n",
              "      <td>2.311431</td>\n",
              "    </tr>\n",
              "    <tr>\n",
              "      <th>7</th>\n",
              "      <td>Weight</td>\n",
              "      <td>2.516420</td>\n",
              "    </tr>\n",
              "  </tbody>\n",
              "</table>\n",
              "</div>"
            ],
            "text/plain": [
              "  Variables       VIF\n",
              "0       age  1.884620\n",
              "1        KM  1.756905\n",
              "2        HP  1.419422\n",
              "3        cc  1.163894\n",
              "4     Doors  1.156575\n",
              "5     Gears  1.098723\n",
              "6        QT  2.311431\n",
              "7    Weight  2.516420"
            ]
          },
          "metadata": {},
          "execution_count": 65
        }
      ]
    },
    {
      "cell_type": "markdown",
      "metadata": {
        "id": "mf7Ud4hnKBT-"
      },
      "source": [
        "## **# Residual Analysis**"
      ]
    },
    {
      "cell_type": "code",
      "metadata": {
        "id": "Ob8vNQwAKCl2"
      },
      "source": [
        "## Test for Normality of Residuals (Q-Q Plot)"
      ],
      "execution_count": null,
      "outputs": []
    },
    {
      "cell_type": "code",
      "metadata": {
        "colab": {
          "base_uri": "https://localhost:8080/",
          "height": 295
        },
        "id": "8kSa5EIjKCoZ",
        "outputId": "bf433dd0-ddaa-45e9-972f-3f403ee9a049"
      },
      "source": [
        "import statsmodels.api as sm\n",
        "qqplot=sm.qqplot(model.resid,line='q') # line = 45 to draw the diagnoal line\n",
        "plt.title(\"Normal Q-Q plot of residuals\")\n",
        "plt.show()"
      ],
      "execution_count": 66,
      "outputs": [
        {
          "output_type": "display_data",
          "data": {
            "image/png": "[encoded data removed]",
            "text/plain": [
              "<Figure size 432x288 with 1 Axes>"
            ]
          },
          "metadata": {}
        }
      ]
    },
    {
      "cell_type": "code",
      "metadata": {
        "colab": {
          "base_uri": "https://localhost:8080/"
        },
        "id": "-Y95A7AFKGjP",
        "outputId": "3c152fd4-54c4-4493-93a3-b51d97a2489b"
      },
      "source": [
        "list(np.where(model.resid>6000))"
      ],
      "execution_count": 67,
      "outputs": [
        {
          "output_type": "execute_result",
          "data": {
            "text/plain": [
              "[array([147, 523])]"
            ]
          },
          "metadata": {},
          "execution_count": 67
        }
      ]
    },
    {
      "cell_type": "code",
      "metadata": {
        "id": "7CUir6TTKGl0"
      },
      "source": [
        "## Residual Plot for Homoscedasticity"
      ],
      "execution_count": null,
      "outputs": []
    },
    {
      "cell_type": "code",
      "metadata": {
        "colab": {
          "base_uri": "https://localhost:8080/",
          "height": 295
        },
        "id": "F2BYdqe3KGpR",
        "outputId": "3b426d15-93aa-4345-a799-838a8b433705"
      },
      "source": [
        "def get_standardized_values(vals):return(vals-vals.mean())/vals.std()\n",
        "\n",
        "plt.scatter(get_standardized_values(model.fittedvalues),get_standardized_values(model.resid))\n",
        "\n",
        "plt.title('Residual Plot')\n",
        "plt.xlabel('Standardized Fitted values')\n",
        "plt.ylabel('Standardized residual values')\n",
        "plt.show()"
      ],
      "execution_count": 68,
      "outputs": [
        {
          "output_type": "display_data",
          "data": {
            "image/png": "[encoded data removed]",
            "text/plain": [
              "<Figure size 432x288 with 1 Axes>"
            ]
          },
          "metadata": {}
        }
      ]
    },
    {
      "cell_type": "code",
      "metadata": {
        "id": "bLT5KX7SK9bz"
      },
      "source": [
        "toyota.corr()"
      ],
      "execution_count": null,
      "outputs": []
    },
    {
      "cell_type": "code",
      "metadata": {
        "id": "NOvHOa4lKGsJ"
      },
      "source": [
        "## Residual Vs Regressors"
      ],
      "execution_count": null,
      "outputs": []
    },
    {
      "cell_type": "code",
      "metadata": {
        "id": "2b0dBVUgKySw"
      },
      "source": [
        "fig = plt.figure(figsize=(15,8))\n",
        "fig = sm.graphics.plot_regress_exog(model, \"age\", fig=fig)\n",
        "plt.show()"
      ],
      "execution_count": null,
      "outputs": []
    },
    {
      "cell_type": "code",
      "metadata": {
        "id": "vtNv6t_VKyVb"
      },
      "source": [
        "fig = plt.figure(figsize=(15,8))\n",
        "fig = sm.graphics.plot_regress_exog(model, \"KM\", fig=fig)\n",
        "plt.show()"
      ],
      "execution_count": null,
      "outputs": []
    },
    {
      "cell_type": "code",
      "metadata": {
        "id": "PWp7aavRKyZr"
      },
      "source": [
        "fig = plt.figure(figsize=(15,8))\n",
        "fig = sm.graphics.plot_regress_exog(model, \"HP\", fig=fig)\n",
        "plt.show()"
      ],
      "execution_count": null,
      "outputs": []
    },
    {
      "cell_type": "code",
      "metadata": {
        "id": "XgVbAO_SKycl"
      },
      "source": [
        "fig = plt.figure(figsize=(15,8))\n",
        "fig = sm.graphics.plot_regress_exog(model, \"cc\", fig=fig)\n",
        "plt.show()"
      ],
      "execution_count": null,
      "outputs": []
    },
    {
      "cell_type": "code",
      "metadata": {
        "id": "_secR4RyKGvg"
      },
      "source": [
        "fig = plt.figure(figsize=(15,8))\n",
        "fig = sm.graphics.plot_regress_exog(model, \"Doors\", fig=fig)\n",
        "plt.show()"
      ],
      "execution_count": null,
      "outputs": []
    },
    {
      "cell_type": "code",
      "metadata": {
        "id": "1hvez-N_KCqk"
      },
      "source": [
        "fig = plt.figure(figsize=(15,8))\n",
        "fig = sm.graphics.plot_regress_exog(model, \"Gears\", fig=fig)\n",
        "plt.show()"
      ],
      "execution_count": null,
      "outputs": []
    },
    {
      "cell_type": "code",
      "metadata": {
        "id": "sCoS3Dx7KCsq"
      },
      "source": [
        "fig = plt.figure(figsize=(15,8))\n",
        "fig = sm.graphics.plot_regress_exog(model, \"QT\", fig=fig)\n",
        "plt.show()"
      ],
      "execution_count": null,
      "outputs": []
    },
    {
      "cell_type": "code",
      "metadata": {
        "id": "w4ENG_6ULWxY"
      },
      "source": [
        "fig = plt.figure(figsize=(15,8))\n",
        "fig = sm.graphics.plot_regress_exog(model, \"Weight\", fig=fig)\n",
        "plt.show()"
      ],
      "execution_count": null,
      "outputs": []
    },
    {
      "cell_type": "markdown",
      "metadata": {
        "id": "XhQtuB6HLv5P"
      },
      "source": [
        "# **# Model Deletion Diagnostics**"
      ]
    },
    {
      "cell_type": "markdown",
      "metadata": {
        "id": "MGXlv_wfL4Kd"
      },
      "source": [
        "## **## Detecting Influencers/Outliers**"
      ]
    },
    {
      "cell_type": "markdown",
      "metadata": {
        "id": "HzEuA0fKL50N"
      },
      "source": [
        "## **## Cook’s Distance**"
      ]
    },
    {
      "cell_type": "code",
      "metadata": {
        "id": "F2qfQCxXLxG_"
      },
      "source": [
        "model_influence = model.get_influence()\n",
        "(c, _) = model_influence.cooks_distance"
      ],
      "execution_count": 80,
      "outputs": []
    },
    {
      "cell_type": "code",
      "metadata": {
        "id": "oby8sNqBLxJ5"
      },
      "source": [
        "#Plot the influencers values using stem plot\n",
        "fig = plt.subplots(figsize=(30, 7))\n",
        "plt.stem(np.arange(len(toyota)), np.round(c, 3))\n",
        "plt.xlabel('Row index')\n",
        "plt.ylabel('Cooks Distance')\n",
        "plt.show()"
      ],
      "execution_count": null,
      "outputs": []
    },
    {
      "cell_type": "code",
      "metadata": {
        "colab": {
          "base_uri": "https://localhost:8080/"
        },
        "id": "GiASAZAjLxOu",
        "outputId": "70b445ab-06e0-47c7-c4d6-83e93213ea95"
      },
      "source": [
        "#index and value of influencer where c is more than .5\n",
        "(np.argmax(c),np.max(c))"
      ],
      "execution_count": 89,
      "outputs": [
        {
          "output_type": "execute_result",
          "data": {
            "text/plain": [
              "(80, 79.52010624142554)"
            ]
          },
          "metadata": {},
          "execution_count": 89
        }
      ]
    },
    {
      "cell_type": "code",
      "metadata": {
        "id": "A_P_4_IyLxRP"
      },
      "source": [
        ""
      ],
      "execution_count": null,
      "outputs": []
    },
    {
      "cell_type": "markdown",
      "metadata": {
        "id": "-qBiYNSWOg7R"
      },
      "source": [
        "## **High Influence points**"
      ]
    },
    {
      "cell_type": "code",
      "metadata": {
        "colab": {
          "base_uri": "https://localhost:8080/",
          "height": 319
        },
        "id": "UVomebQlLxT5",
        "outputId": "40edf185-54a1-4be4-dcbe-f235c3d0a5d6"
      },
      "source": [
        "from statsmodels.graphics.regressionplots import influence_plot\n",
        "influence_plot(model)\n",
        "plt.show()"
      ],
      "execution_count": 90,
      "outputs": [
        {
          "output_type": "display_data",
          "data": {
            "image/png": "[encoded data removed]",
            "text/plain": [
              "<Figure size 432x288 with 1 Axes>"
            ]
          },
          "metadata": {}
        }
      ]
    },
    {
      "cell_type": "code",
      "metadata": {
        "id": "Y8g0pYGQOnn0"
      },
      "source": [
        "#### From the above plot, it is evident that data point 80 is the influencers"
      ],
      "execution_count": null,
      "outputs": []
    },
    {
      "cell_type": "markdown",
      "metadata": {
        "id": "Wp77iWOuO4hc"
      },
      "source": [
        "# **# Improving the model**"
      ]
    },
    {
      "cell_type": "code",
      "metadata": {
        "id": "kfg6h9AhPIOJ"
      },
      "source": [
        "#Discard the data points which are influencers and reasign the row number (reset_index())\n",
        "toyota1=toyota.drop(toyota.index[[80]],axis=0).reset_index()\n"
      ],
      "execution_count": 107,
      "outputs": []
    },
    {
      "cell_type": "code",
      "metadata": {
        "colab": {
          "base_uri": "https://localhost:8080/",
          "height": 422
        },
        "id": "v_W09J8zPIRY",
        "outputId": "a0c090e2-8b64-4339-dc39-95fcd2840710"
      },
      "source": [
        "#Drop the original index\n",
        "toyota1=toyota1.drop(['index'],axis=1)\n",
        "toyota1"
      ],
      "execution_count": 108,
      "outputs": [
        {
          "output_type": "execute_result",
          "data": {
            "text/html": [
              "<div>\n",
              "<style scoped>\n",
              "    .dataframe tbody tr th:only-of-type {\n",
              "        vertical-align: middle;\n",
              "    }\n",
              "\n",
              "    .dataframe tbody tr th {\n",
              "        vertical-align: top;\n",
              "    }\n",
              "\n",
              "    .dataframe thead th {\n",
              "        text-align: right;\n",
              "    }\n",
              "</style>\n",
              "<table border=\"1\" class=\"dataframe\">\n",
              "  <thead>\n",
              "    <tr style=\"text-align: right;\">\n",
              "      <th></th>\n",
              "      <th>Price</th>\n",
              "      <th>age</th>\n",
              "      <th>KM</th>\n",
              "      <th>HP</th>\n",
              "      <th>cc</th>\n",
              "      <th>Doors</th>\n",
              "      <th>Gears</th>\n",
              "      <th>QT</th>\n",
              "      <th>Weight</th>\n",
              "    </tr>\n",
              "  </thead>\n",
              "  <tbody>\n",
              "    <tr>\n",
              "      <th>0</th>\n",
              "      <td>13500</td>\n",
              "      <td>23</td>\n",
              "      <td>46986</td>\n",
              "      <td>90</td>\n",
              "      <td>2000</td>\n",
              "      <td>3</td>\n",
              "      <td>5</td>\n",
              "      <td>210</td>\n",
              "      <td>1165</td>\n",
              "    </tr>\n",
              "    <tr>\n",
              "      <th>1</th>\n",
              "      <td>13750</td>\n",
              "      <td>23</td>\n",
              "      <td>72937</td>\n",
              "      <td>90</td>\n",
              "      <td>2000</td>\n",
              "      <td>3</td>\n",
              "      <td>5</td>\n",
              "      <td>210</td>\n",
              "      <td>1165</td>\n",
              "    </tr>\n",
              "    <tr>\n",
              "      <th>2</th>\n",
              "      <td>13950</td>\n",
              "      <td>24</td>\n",
              "      <td>41711</td>\n",
              "      <td>90</td>\n",
              "      <td>2000</td>\n",
              "      <td>3</td>\n",
              "      <td>5</td>\n",
              "      <td>210</td>\n",
              "      <td>1165</td>\n",
              "    </tr>\n",
              "    <tr>\n",
              "      <th>3</th>\n",
              "      <td>14950</td>\n",
              "      <td>26</td>\n",
              "      <td>48000</td>\n",
              "      <td>90</td>\n",
              "      <td>2000</td>\n",
              "      <td>3</td>\n",
              "      <td>5</td>\n",
              "      <td>210</td>\n",
              "      <td>1165</td>\n",
              "    </tr>\n",
              "    <tr>\n",
              "      <th>4</th>\n",
              "      <td>13750</td>\n",
              "      <td>30</td>\n",
              "      <td>38500</td>\n",
              "      <td>90</td>\n",
              "      <td>2000</td>\n",
              "      <td>3</td>\n",
              "      <td>5</td>\n",
              "      <td>210</td>\n",
              "      <td>1170</td>\n",
              "    </tr>\n",
              "    <tr>\n",
              "      <th>...</th>\n",
              "      <td>...</td>\n",
              "      <td>...</td>\n",
              "      <td>...</td>\n",
              "      <td>...</td>\n",
              "      <td>...</td>\n",
              "      <td>...</td>\n",
              "      <td>...</td>\n",
              "      <td>...</td>\n",
              "      <td>...</td>\n",
              "    </tr>\n",
              "    <tr>\n",
              "      <th>1430</th>\n",
              "      <td>7500</td>\n",
              "      <td>69</td>\n",
              "      <td>20544</td>\n",
              "      <td>86</td>\n",
              "      <td>1300</td>\n",
              "      <td>3</td>\n",
              "      <td>5</td>\n",
              "      <td>69</td>\n",
              "      <td>1025</td>\n",
              "    </tr>\n",
              "    <tr>\n",
              "      <th>1431</th>\n",
              "      <td>10845</td>\n",
              "      <td>72</td>\n",
              "      <td>19000</td>\n",
              "      <td>86</td>\n",
              "      <td>1300</td>\n",
              "      <td>3</td>\n",
              "      <td>5</td>\n",
              "      <td>69</td>\n",
              "      <td>1015</td>\n",
              "    </tr>\n",
              "    <tr>\n",
              "      <th>1432</th>\n",
              "      <td>8500</td>\n",
              "      <td>71</td>\n",
              "      <td>17016</td>\n",
              "      <td>86</td>\n",
              "      <td>1300</td>\n",
              "      <td>3</td>\n",
              "      <td>5</td>\n",
              "      <td>69</td>\n",
              "      <td>1015</td>\n",
              "    </tr>\n",
              "    <tr>\n",
              "      <th>1433</th>\n",
              "      <td>7250</td>\n",
              "      <td>70</td>\n",
              "      <td>16916</td>\n",
              "      <td>86</td>\n",
              "      <td>1300</td>\n",
              "      <td>3</td>\n",
              "      <td>5</td>\n",
              "      <td>69</td>\n",
              "      <td>1015</td>\n",
              "    </tr>\n",
              "    <tr>\n",
              "      <th>1434</th>\n",
              "      <td>6950</td>\n",
              "      <td>76</td>\n",
              "      <td>1</td>\n",
              "      <td>110</td>\n",
              "      <td>1600</td>\n",
              "      <td>5</td>\n",
              "      <td>5</td>\n",
              "      <td>19</td>\n",
              "      <td>1114</td>\n",
              "    </tr>\n",
              "  </tbody>\n",
              "</table>\n",
              "<p>1435 rows × 9 columns</p>\n",
              "</div>"
            ],
            "text/plain": [
              "      Price  age     KM   HP    cc  Doors  Gears   QT  Weight\n",
              "0     13500   23  46986   90  2000      3      5  210    1165\n",
              "1     13750   23  72937   90  2000      3      5  210    1165\n",
              "2     13950   24  41711   90  2000      3      5  210    1165\n",
              "3     14950   26  48000   90  2000      3      5  210    1165\n",
              "4     13750   30  38500   90  2000      3      5  210    1170\n",
              "...     ...  ...    ...  ...   ...    ...    ...  ...     ...\n",
              "1430   7500   69  20544   86  1300      3      5   69    1025\n",
              "1431  10845   72  19000   86  1300      3      5   69    1015\n",
              "1432   8500   71  17016   86  1300      3      5   69    1015\n",
              "1433   7250   70  16916   86  1300      3      5   69    1015\n",
              "1434   6950   76      1  110  1600      5      5   19    1114\n",
              "\n",
              "[1435 rows x 9 columns]"
            ]
          },
          "metadata": {},
          "execution_count": 108
        }
      ]
    },
    {
      "cell_type": "code",
      "metadata": {
        "colab": {
          "base_uri": "https://localhost:8080/",
          "height": 422
        },
        "id": "mBgUXdn1S2x8",
        "outputId": "f68072fd-bfaa-498d-cee8-56f535d7dde5"
      },
      "source": [
        "toyota"
      ],
      "execution_count": 119,
      "outputs": [
        {
          "output_type": "execute_result",
          "data": {
            "text/html": [
              "<div>\n",
              "<style scoped>\n",
              "    .dataframe tbody tr th:only-of-type {\n",
              "        vertical-align: middle;\n",
              "    }\n",
              "\n",
              "    .dataframe tbody tr th {\n",
              "        vertical-align: top;\n",
              "    }\n",
              "\n",
              "    .dataframe thead th {\n",
              "        text-align: right;\n",
              "    }\n",
              "</style>\n",
              "<table border=\"1\" class=\"dataframe\">\n",
              "  <thead>\n",
              "    <tr style=\"text-align: right;\">\n",
              "      <th></th>\n",
              "      <th>Price</th>\n",
              "      <th>age</th>\n",
              "      <th>KM</th>\n",
              "      <th>HP</th>\n",
              "      <th>cc</th>\n",
              "      <th>Doors</th>\n",
              "      <th>Gears</th>\n",
              "      <th>QT</th>\n",
              "      <th>Weight</th>\n",
              "    </tr>\n",
              "  </thead>\n",
              "  <tbody>\n",
              "    <tr>\n",
              "      <th>0</th>\n",
              "      <td>13500</td>\n",
              "      <td>23</td>\n",
              "      <td>46986</td>\n",
              "      <td>90</td>\n",
              "      <td>2000</td>\n",
              "      <td>3</td>\n",
              "      <td>5</td>\n",
              "      <td>210</td>\n",
              "      <td>1165</td>\n",
              "    </tr>\n",
              "    <tr>\n",
              "      <th>1</th>\n",
              "      <td>13750</td>\n",
              "      <td>23</td>\n",
              "      <td>72937</td>\n",
              "      <td>90</td>\n",
              "      <td>2000</td>\n",
              "      <td>3</td>\n",
              "      <td>5</td>\n",
              "      <td>210</td>\n",
              "      <td>1165</td>\n",
              "    </tr>\n",
              "    <tr>\n",
              "      <th>2</th>\n",
              "      <td>13950</td>\n",
              "      <td>24</td>\n",
              "      <td>41711</td>\n",
              "      <td>90</td>\n",
              "      <td>2000</td>\n",
              "      <td>3</td>\n",
              "      <td>5</td>\n",
              "      <td>210</td>\n",
              "      <td>1165</td>\n",
              "    </tr>\n",
              "    <tr>\n",
              "      <th>3</th>\n",
              "      <td>14950</td>\n",
              "      <td>26</td>\n",
              "      <td>48000</td>\n",
              "      <td>90</td>\n",
              "      <td>2000</td>\n",
              "      <td>3</td>\n",
              "      <td>5</td>\n",
              "      <td>210</td>\n",
              "      <td>1165</td>\n",
              "    </tr>\n",
              "    <tr>\n",
              "      <th>4</th>\n",
              "      <td>13750</td>\n",
              "      <td>30</td>\n",
              "      <td>38500</td>\n",
              "      <td>90</td>\n",
              "      <td>2000</td>\n",
              "      <td>3</td>\n",
              "      <td>5</td>\n",
              "      <td>210</td>\n",
              "      <td>1170</td>\n",
              "    </tr>\n",
              "    <tr>\n",
              "      <th>...</th>\n",
              "      <td>...</td>\n",
              "      <td>...</td>\n",
              "      <td>...</td>\n",
              "      <td>...</td>\n",
              "      <td>...</td>\n",
              "      <td>...</td>\n",
              "      <td>...</td>\n",
              "      <td>...</td>\n",
              "      <td>...</td>\n",
              "    </tr>\n",
              "    <tr>\n",
              "      <th>1431</th>\n",
              "      <td>7500</td>\n",
              "      <td>69</td>\n",
              "      <td>20544</td>\n",
              "      <td>86</td>\n",
              "      <td>1300</td>\n",
              "      <td>3</td>\n",
              "      <td>5</td>\n",
              "      <td>69</td>\n",
              "      <td>1025</td>\n",
              "    </tr>\n",
              "    <tr>\n",
              "      <th>1432</th>\n",
              "      <td>10845</td>\n",
              "      <td>72</td>\n",
              "      <td>19000</td>\n",
              "      <td>86</td>\n",
              "      <td>1300</td>\n",
              "      <td>3</td>\n",
              "      <td>5</td>\n",
              "      <td>69</td>\n",
              "      <td>1015</td>\n",
              "    </tr>\n",
              "    <tr>\n",
              "      <th>1433</th>\n",
              "      <td>8500</td>\n",
              "      <td>71</td>\n",
              "      <td>17016</td>\n",
              "      <td>86</td>\n",
              "      <td>1300</td>\n",
              "      <td>3</td>\n",
              "      <td>5</td>\n",
              "      <td>69</td>\n",
              "      <td>1015</td>\n",
              "    </tr>\n",
              "    <tr>\n",
              "      <th>1434</th>\n",
              "      <td>7250</td>\n",
              "      <td>70</td>\n",
              "      <td>16916</td>\n",
              "      <td>86</td>\n",
              "      <td>1300</td>\n",
              "      <td>3</td>\n",
              "      <td>5</td>\n",
              "      <td>69</td>\n",
              "      <td>1015</td>\n",
              "    </tr>\n",
              "    <tr>\n",
              "      <th>1435</th>\n",
              "      <td>6950</td>\n",
              "      <td>76</td>\n",
              "      <td>1</td>\n",
              "      <td>110</td>\n",
              "      <td>1600</td>\n",
              "      <td>5</td>\n",
              "      <td>5</td>\n",
              "      <td>19</td>\n",
              "      <td>1114</td>\n",
              "    </tr>\n",
              "  </tbody>\n",
              "</table>\n",
              "<p>1436 rows × 9 columns</p>\n",
              "</div>"
            ],
            "text/plain": [
              "      Price  age     KM   HP    cc  Doors  Gears   QT  Weight\n",
              "0     13500   23  46986   90  2000      3      5  210    1165\n",
              "1     13750   23  72937   90  2000      3      5  210    1165\n",
              "2     13950   24  41711   90  2000      3      5  210    1165\n",
              "3     14950   26  48000   90  2000      3      5  210    1165\n",
              "4     13750   30  38500   90  2000      3      5  210    1170\n",
              "...     ...  ...    ...  ...   ...    ...    ...  ...     ...\n",
              "1431   7500   69  20544   86  1300      3      5   69    1025\n",
              "1432  10845   72  19000   86  1300      3      5   69    1015\n",
              "1433   8500   71  17016   86  1300      3      5   69    1015\n",
              "1434   7250   70  16916   86  1300      3      5   69    1015\n",
              "1435   6950   76      1  110  1600      5      5   19    1114\n",
              "\n",
              "[1436 rows x 9 columns]"
            ]
          },
          "metadata": {},
          "execution_count": 119
        }
      ]
    },
    {
      "cell_type": "code",
      "metadata": {
        "id": "dg80L5gwPIUb"
      },
      "source": [
        "toyota1.head(100).tail(20)"
      ],
      "execution_count": null,
      "outputs": []
    },
    {
      "cell_type": "code",
      "metadata": {
        "colab": {
          "base_uri": "https://localhost:8080/"
        },
        "id": "3kXH-Qq1PIbO",
        "outputId": "af67e2a1-e0a3-4b70-f8ac-3b0013568064"
      },
      "source": [
        "toyota1.shape"
      ],
      "execution_count": 110,
      "outputs": [
        {
          "output_type": "execute_result",
          "data": {
            "text/plain": [
              "(1435, 9)"
            ]
          },
          "metadata": {},
          "execution_count": 110
        }
      ]
    },
    {
      "cell_type": "code",
      "metadata": {
        "colab": {
          "base_uri": "https://localhost:8080/"
        },
        "id": "1NfdnPAJOnuh",
        "outputId": "68ac0828-2504-4d4f-bb89-55a19ae5c26e"
      },
      "source": [
        "toyota1.info()"
      ],
      "execution_count": 111,
      "outputs": [
        {
          "output_type": "stream",
          "name": "stdout",
          "text": [
            "<class 'pandas.core.frame.DataFrame'>\n",
            "RangeIndex: 1435 entries, 0 to 1434\n",
            "Data columns (total 9 columns):\n",
            " #   Column  Non-Null Count  Dtype\n",
            "---  ------  --------------  -----\n",
            " 0   Price   1435 non-null   int64\n",
            " 1   age     1435 non-null   int64\n",
            " 2   KM      1435 non-null   int64\n",
            " 3   HP      1435 non-null   int64\n",
            " 4   cc      1435 non-null   int64\n",
            " 5   Doors   1435 non-null   int64\n",
            " 6   Gears   1435 non-null   int64\n",
            " 7   QT      1435 non-null   int64\n",
            " 8   Weight  1435 non-null   int64\n",
            "dtypes: int64(9)\n",
            "memory usage: 101.0 KB\n"
          ]
        }
      ]
    },
    {
      "cell_type": "code",
      "metadata": {
        "colab": {
          "base_uri": "https://localhost:8080/",
          "height": 112
        },
        "id": "qt9_s1aJRM8n",
        "outputId": "06d36d0c-d371-453e-e9fd-54b38834cbcb"
      },
      "source": [
        "toyota[toyota.index.isin([80,81])]"
      ],
      "execution_count": 123,
      "outputs": [
        {
          "output_type": "execute_result",
          "data": {
            "text/html": [
              "<div>\n",
              "<style scoped>\n",
              "    .dataframe tbody tr th:only-of-type {\n",
              "        vertical-align: middle;\n",
              "    }\n",
              "\n",
              "    .dataframe tbody tr th {\n",
              "        vertical-align: top;\n",
              "    }\n",
              "\n",
              "    .dataframe thead th {\n",
              "        text-align: right;\n",
              "    }\n",
              "</style>\n",
              "<table border=\"1\" class=\"dataframe\">\n",
              "  <thead>\n",
              "    <tr style=\"text-align: right;\">\n",
              "      <th></th>\n",
              "      <th>Price</th>\n",
              "      <th>age</th>\n",
              "      <th>KM</th>\n",
              "      <th>HP</th>\n",
              "      <th>cc</th>\n",
              "      <th>Doors</th>\n",
              "      <th>Gears</th>\n",
              "      <th>QT</th>\n",
              "      <th>Weight</th>\n",
              "    </tr>\n",
              "  </thead>\n",
              "  <tbody>\n",
              "    <tr>\n",
              "      <th>80</th>\n",
              "      <td>18950</td>\n",
              "      <td>25</td>\n",
              "      <td>20019</td>\n",
              "      <td>110</td>\n",
              "      <td>16000</td>\n",
              "      <td>5</td>\n",
              "      <td>5</td>\n",
              "      <td>100</td>\n",
              "      <td>1180</td>\n",
              "    </tr>\n",
              "    <tr>\n",
              "      <th>81</th>\n",
              "      <td>17250</td>\n",
              "      <td>29</td>\n",
              "      <td>20000</td>\n",
              "      <td>110</td>\n",
              "      <td>1600</td>\n",
              "      <td>5</td>\n",
              "      <td>5</td>\n",
              "      <td>85</td>\n",
              "      <td>1115</td>\n",
              "    </tr>\n",
              "  </tbody>\n",
              "</table>\n",
              "</div>"
            ],
            "text/plain": [
              "    Price  age     KM   HP     cc  Doors  Gears   QT  Weight\n",
              "80  18950   25  20019  110  16000      5      5  100    1180\n",
              "81  17250   29  20000  110   1600      5      5   85    1115"
            ]
          },
          "metadata": {},
          "execution_count": 123
        }
      ]
    },
    {
      "cell_type": "code",
      "metadata": {
        "colab": {
          "base_uri": "https://localhost:8080/",
          "height": 112
        },
        "id": "chQgyrIORBLo",
        "outputId": "a0b9d6b1-645f-4b88-ab46-f7763fd697f4"
      },
      "source": [
        "toyota1[toyota1.index.isin([80,81])]"
      ],
      "execution_count": 124,
      "outputs": [
        {
          "output_type": "execute_result",
          "data": {
            "text/html": [
              "<div>\n",
              "<style scoped>\n",
              "    .dataframe tbody tr th:only-of-type {\n",
              "        vertical-align: middle;\n",
              "    }\n",
              "\n",
              "    .dataframe tbody tr th {\n",
              "        vertical-align: top;\n",
              "    }\n",
              "\n",
              "    .dataframe thead th {\n",
              "        text-align: right;\n",
              "    }\n",
              "</style>\n",
              "<table border=\"1\" class=\"dataframe\">\n",
              "  <thead>\n",
              "    <tr style=\"text-align: right;\">\n",
              "      <th></th>\n",
              "      <th>Price</th>\n",
              "      <th>age</th>\n",
              "      <th>KM</th>\n",
              "      <th>HP</th>\n",
              "      <th>cc</th>\n",
              "      <th>Doors</th>\n",
              "      <th>Gears</th>\n",
              "      <th>QT</th>\n",
              "      <th>Weight</th>\n",
              "    </tr>\n",
              "  </thead>\n",
              "  <tbody>\n",
              "    <tr>\n",
              "      <th>80</th>\n",
              "      <td>17250</td>\n",
              "      <td>29</td>\n",
              "      <td>20000</td>\n",
              "      <td>110</td>\n",
              "      <td>1600</td>\n",
              "      <td>5</td>\n",
              "      <td>5</td>\n",
              "      <td>85</td>\n",
              "      <td>1115</td>\n",
              "    </tr>\n",
              "    <tr>\n",
              "      <th>81</th>\n",
              "      <td>15450</td>\n",
              "      <td>25</td>\n",
              "      <td>17003</td>\n",
              "      <td>97</td>\n",
              "      <td>1400</td>\n",
              "      <td>5</td>\n",
              "      <td>5</td>\n",
              "      <td>85</td>\n",
              "      <td>1110</td>\n",
              "    </tr>\n",
              "  </tbody>\n",
              "</table>\n",
              "</div>"
            ],
            "text/plain": [
              "    Price  age     KM   HP    cc  Doors  Gears  QT  Weight\n",
              "80  17250   29  20000  110  1600      5      5  85    1115\n",
              "81  15450   25  17003   97  1400      5      5  85    1110"
            ]
          },
          "metadata": {},
          "execution_count": 124
        }
      ]
    },
    {
      "cell_type": "code",
      "metadata": {
        "id": "dWYe0vStUL5j"
      },
      "source": [
        ""
      ],
      "execution_count": null,
      "outputs": []
    },
    {
      "cell_type": "markdown",
      "metadata": {
        "id": "VH_jKUb2UMzM"
      },
      "source": [
        "# **# Build Model**"
      ]
    },
    {
      "cell_type": "code",
      "metadata": {
        "id": "sp7fmevXUL99"
      },
      "source": [
        "#Exclude variable \"cc\" and generate R-Squared and AIC values\n",
        "final_ml_d= smf.ols('Price~age+KM+HP+Doors+Gears+QT+Weight',data =toyota1).fit()"
      ],
      "execution_count": 170,
      "outputs": []
    },
    {
      "cell_type": "code",
      "metadata": {
        "colab": {
          "base_uri": "https://localhost:8080/"
        },
        "id": "rygKRFcYUMCx",
        "outputId": "6a030b6a-b9aa-484a-b2e9-e8f25c3c4379"
      },
      "source": [
        "(final_ml_d.rsquared,final_ml_d.aic)"
      ],
      "execution_count": 171,
      "outputs": [
        {
          "output_type": "execute_result",
          "data": {
            "text/plain": [
              "(0.8631959819380927, 24751.649416173997)"
            ]
          },
          "metadata": {},
          "execution_count": 171
        }
      ]
    },
    {
      "cell_type": "code",
      "metadata": {
        "id": "eUrkFlVzUMH6"
      },
      "source": [
        "#Exclude variable \"doors\" and generate R-Squared and AIC values\n",
        "final_ml_cc= smf.ols('Price~age+KM+HP+cc+Gears+QT+Weight',data =toyota1).fit()"
      ],
      "execution_count": 172,
      "outputs": []
    },
    {
      "cell_type": "code",
      "metadata": {
        "colab": {
          "base_uri": "https://localhost:8080/"
        },
        "id": "37sBe94jUMOv",
        "outputId": "05e2761e-97bc-4014-cf3d-c9a91f470aab"
      },
      "source": [
        "(final_ml_cc.rsquared,final_ml_cc.aic)"
      ],
      "execution_count": 173,
      "outputs": [
        {
          "output_type": "execute_result",
          "data": {
            "text/plain": [
              "(0.8693349475698542, 24685.765438793034)"
            ]
          },
          "metadata": {},
          "execution_count": 173
        }
      ]
    },
    {
      "cell_type": "code",
      "metadata": {
        "id": "1XxQRO_KU8gL"
      },
      "source": [
        "##### Comparing above R-Square and AIC values, model 'final_ml_V' has high R- square and low AIC value hence include variable 'cc' so that multi collinearity problem would be resolved."
      ],
      "execution_count": null,
      "outputs": []
    },
    {
      "cell_type": "markdown",
      "metadata": {
        "id": "JUmagly7VgB3"
      },
      "source": [
        "# **# Cook’s Distance**"
      ]
    },
    {
      "cell_type": "code",
      "metadata": {
        "id": "y6PjvIdtU8ml"
      },
      "source": [
        "model_influence_cc = final_ml_cc.get_influence()\n",
        "(c_cc, _) = model_influence_cc.cooks_distance"
      ],
      "execution_count": 174,
      "outputs": []
    },
    {
      "cell_type": "code",
      "metadata": {
        "colab": {
          "base_uri": "https://localhost:8080/",
          "height": 498
        },
        "id": "lyhxUt6wViIO",
        "outputId": "ff144255-508a-4e2c-bb4c-132f711c6e1e"
      },
      "source": [
        "fig= plt.subplots(figsize=(20,7))\n",
        "plt.stem(np.arange(len(toyota1)),np.round(c_cc,3));\n",
        "plt.xlabel('Row index')\n",
        "plt.ylabel('Cooks Distance');"
      ],
      "execution_count": 175,
      "outputs": [
        {
          "output_type": "stream",
          "name": "stderr",
          "text": [
            "/usr/local/lib/python3.7/dist-packages/ipykernel_launcher.py:2: UserWarning: In Matplotlib 3.3 individual lines on a stem plot will be added as a LineCollection instead of individual lines. This significantly improves the performance of a stem plot. To remove this warning and switch to the new behaviour, set the \"use_line_collection\" keyword argument to True.\n",
            "  \n"
          ]
        },
        {
          "output_type": "display_data",
          "data": {
            "image/png": "[encoded data removed]",
            "text/plain": [
              "<Figure size 1440x504 with 1 Axes>"
            ]
          },
          "metadata": {}
        }
      ]
    },
    {
      "cell_type": "code",
      "metadata": {
        "colab": {
          "base_uri": "https://localhost:8080/"
        },
        "id": "BnfdFR4bViLL",
        "outputId": "931e0c5e-bcfd-47c0-da68-1effcf59494d"
      },
      "source": [
        "#index of the data points where c is more than .5\n",
        "(np.argmax(c_cc),np.max(c_cc))"
      ],
      "execution_count": 176,
      "outputs": [
        {
          "output_type": "execute_result",
          "data": {
            "text/plain": [
              "(220, 2.3034451664541025)"
            ]
          },
          "metadata": {},
          "execution_count": 176
        }
      ]
    },
    {
      "cell_type": "code",
      "metadata": {
        "id": "SORcbwU9ViOY"
      },
      "source": [
        "#Drop 220 observations\n",
        "toyota2=toyota1.drop(toyota1.index[[220]],axis=0).reset_index()"
      ],
      "execution_count": 177,
      "outputs": []
    },
    {
      "cell_type": "code",
      "metadata": {
        "id": "o9y6c3PbWEgF"
      },
      "source": [
        "toyota2=toyota2.drop(['index'],axis=1)\n",
        "toyota2"
      ],
      "execution_count": null,
      "outputs": []
    },
    {
      "cell_type": "code",
      "metadata": {
        "id": "uwaCAfJiWGKx"
      },
      "source": [
        ""
      ],
      "execution_count": null,
      "outputs": []
    },
    {
      "cell_type": "markdown",
      "metadata": {
        "id": "DOpSzqJtWpyQ"
      },
      "source": [
        "## **# Build Model on new data**"
      ]
    },
    {
      "cell_type": "code",
      "metadata": {
        "id": "YeqyHuHYWGOH"
      },
      "source": [
        "final_ml_cc= smf.ols('Price~age+KM+HP+cc+Gears+QT+Weight',data =toyota2).fit()"
      ],
      "execution_count": 179,
      "outputs": []
    },
    {
      "cell_type": "code",
      "metadata": {
        "colab": {
          "base_uri": "https://localhost:8080/"
        },
        "id": "95BN6dP-WGSV",
        "outputId": "6e792bd9-cb98-4ba7-8d5b-5f8c0151f34e"
      },
      "source": [
        "(final_ml_cc.rsquared,final_ml_cc.aic)"
      ],
      "execution_count": 180,
      "outputs": [
        {
          "output_type": "execute_result",
          "data": {
            "text/plain": [
              "(0.8775929090646357, 24575.728069891906)"
            ]
          },
          "metadata": {},
          "execution_count": 180
        }
      ]
    },
    {
      "cell_type": "code",
      "metadata": {
        "id": "dQa5PdtdWGVt"
      },
      "source": [
        "#Again check for influencers\n",
        "model_influence_cc = final_ml_cc.get_influence()\n",
        "(c_cc, _) = model_influence_cc.cooks_distance"
      ],
      "execution_count": 181,
      "outputs": []
    },
    {
      "cell_type": "code",
      "metadata": {
        "colab": {
          "base_uri": "https://localhost:8080/",
          "height": 498
        },
        "id": "Sp_8gFcQXiUe",
        "outputId": "f35ecc2f-1bc7-4293-9401-e2cda53d104e"
      },
      "source": [
        "fig= plt.subplots(figsize=(20,7))\n",
        "plt.stem(np.arange(len(toyota2)),np.round(c_cc,3));\n",
        "plt.xlabel('Row index')\n",
        "plt.ylabel('Cooks Distance');"
      ],
      "execution_count": 182,
      "outputs": [
        {
          "output_type": "stream",
          "name": "stderr",
          "text": [
            "/usr/local/lib/python3.7/dist-packages/ipykernel_launcher.py:2: UserWarning: In Matplotlib 3.3 individual lines on a stem plot will be added as a LineCollection instead of individual lines. This significantly improves the performance of a stem plot. To remove this warning and switch to the new behaviour, set the \"use_line_collection\" keyword argument to True.\n",
            "  \n"
          ]
        },
        {
          "output_type": "display_data",
          "data": {
            "image/png": "[encoded data removed]",
            "text/plain": [
              "<Figure size 1440x504 with 1 Axes>"
            ]
          },
          "metadata": {}
        }
      ]
    },
    {
      "cell_type": "code",
      "metadata": {
        "colab": {
          "base_uri": "https://localhost:8080/"
        },
        "id": "GjyNuQ4YXiXk",
        "outputId": "09aaa669-923c-4b52-c7c9-6b687304baec"
      },
      "source": [
        "#index of the data points where c is more than .5\n",
        "(np.argmax(c_cc),np.max(c_cc))"
      ],
      "execution_count": 183,
      "outputs": [
        {
          "output_type": "execute_result",
          "data": {
            "text/plain": [
              "(958, 2.2907159163046784)"
            ]
          },
          "metadata": {},
          "execution_count": 183
        }
      ]
    },
    {
      "cell_type": "markdown",
      "metadata": {
        "id": "EiaTMgERYLJ2"
      },
      "source": [
        "# **# Improving the model by again drop the outlier 958, because its cooks distance is > than 1**"
      ]
    },
    {
      "cell_type": "code",
      "metadata": {
        "id": "fuADf-Y9YHut"
      },
      "source": [
        "#Drop 958 observations\n",
        "toyota3=toyota2.drop(toyota2.index[[958]],axis=0).reset_index()"
      ],
      "execution_count": 184,
      "outputs": []
    },
    {
      "cell_type": "code",
      "metadata": {
        "id": "_0HTE0VyYH1e"
      },
      "source": [
        "toyota3=toyota3.drop(['index'],axis=1)\n",
        "toyota3"
      ],
      "execution_count": null,
      "outputs": []
    },
    {
      "cell_type": "markdown",
      "metadata": {
        "id": "uAg190VlYpqz"
      },
      "source": [
        "# **# Build Model on new data toyota3**"
      ]
    },
    {
      "cell_type": "code",
      "metadata": {
        "id": "GPTmG1XcYH5Y"
      },
      "source": [
        "final_ml_cc= smf.ols('Price~age+KM+HP+cc+Gears+QT+Weight',data =toyota3).fit()"
      ],
      "execution_count": 186,
      "outputs": []
    },
    {
      "cell_type": "code",
      "metadata": {
        "colab": {
          "base_uri": "https://localhost:8080/"
        },
        "id": "gmyCrswxYIAR",
        "outputId": "9dc07602-9a06-4f7e-98a3-d7ab4fe48ca3"
      },
      "source": [
        "(final_ml_cc.rsquared,final_ml_cc.aic)"
      ],
      "execution_count": 187,
      "outputs": [
        {
          "output_type": "execute_result",
          "data": {
            "text/plain": [
              "(0.8843226794628846, 24478.432455892536)"
            ]
          },
          "metadata": {},
          "execution_count": 187
        }
      ]
    },
    {
      "cell_type": "code",
      "metadata": {
        "id": "GacTO8caY55V"
      },
      "source": [
        "#Again check for influencers\n",
        "model_influence_cc = final_ml_cc.get_influence()\n",
        "(c_cc, _) = model_influence_cc.cooks_distance"
      ],
      "execution_count": 188,
      "outputs": []
    },
    {
      "cell_type": "code",
      "metadata": {
        "colab": {
          "base_uri": "https://localhost:8080/",
          "height": 500
        },
        "id": "1h6EG1FNY59o",
        "outputId": "2b5872aa-08be-4373-cdd1-a303c90de907"
      },
      "source": [
        "fig= plt.subplots(figsize=(20,7))\n",
        "plt.stem(np.arange(len(toyota3)),np.round(c_cc,3));\n",
        "plt.xlabel('Row index')\n",
        "plt.ylabel('Cooks Distance');"
      ],
      "execution_count": 189,
      "outputs": [
        {
          "output_type": "stream",
          "name": "stderr",
          "text": [
            "/usr/local/lib/python3.7/dist-packages/ipykernel_launcher.py:2: UserWarning: In Matplotlib 3.3 individual lines on a stem plot will be added as a LineCollection instead of individual lines. This significantly improves the performance of a stem plot. To remove this warning and switch to the new behaviour, set the \"use_line_collection\" keyword argument to True.\n",
            "  \n"
          ]
        },
        {
          "output_type": "display_data",
          "data": {
            "image/png": "[encoded data removed]",
            "text/plain": [
              "<Figure size 1440x504 with 1 Axes>"
            ]
          },
          "metadata": {}
        }
      ]
    },
    {
      "cell_type": "code",
      "metadata": {
        "colab": {
          "base_uri": "https://localhost:8080/"
        },
        "id": "rZafVmJjY6Ap",
        "outputId": "22754b00-df96-4ebe-ea66-83ea696b5247"
      },
      "source": [
        "#index of the data points where c is more than .5\n",
        "(np.argmax(c_cc),np.max(c_cc))"
      ],
      "execution_count": 190,
      "outputs": [
        {
          "output_type": "execute_result",
          "data": {
            "text/plain": [
              "(599, 0.28772293638956975)"
            ]
          },
          "metadata": {},
          "execution_count": 190
        }
      ]
    },
    {
      "cell_type": "markdown",
      "metadata": {
        "id": "gFlvZ4VhZLZt"
      },
      "source": [
        "## **#### Since the value is <1 , we can stop the diagnostic process and finalize the model**"
      ]
    },
    {
      "cell_type": "code",
      "metadata": {
        "id": "5dQfIJ0lZM83"
      },
      "source": [
        "final_ml_cc= smf.ols('Price~age+KM+HP+cc+Gears+QT+Weight',data =toyota3).fit()"
      ],
      "execution_count": 191,
      "outputs": []
    },
    {
      "cell_type": "code",
      "metadata": {
        "colab": {
          "base_uri": "https://localhost:8080/"
        },
        "id": "8nLbfOL7ZNAD",
        "outputId": "f4096c56-03c7-494b-9c1d-6eb07c7ee616"
      },
      "source": [
        "(final_ml_cc.rsquared,final_ml_cc.aic)"
      ],
      "execution_count": 192,
      "outputs": [
        {
          "output_type": "execute_result",
          "data": {
            "text/plain": [
              "(0.8843226794628846, 24478.432455892536)"
            ]
          },
          "metadata": {},
          "execution_count": 192
        }
      ]
    },
    {
      "cell_type": "markdown",
      "metadata": {
        "id": "_dOCtttHZtKF"
      },
      "source": [
        "## **## Predicting for new data 'age':85,'KM':50000,'HP':80,'cc':2000,'Doors':3,\t'Gears':5,'QT':250,'Weight':1190}**"
      ]
    },
    {
      "cell_type": "code",
      "metadata": {
        "colab": {
          "base_uri": "https://localhost:8080/",
          "height": 205
        },
        "id": "xIK1DaaXZv_u",
        "outputId": "9235f1ff-1587-4b69-8efb-f90487084549"
      },
      "source": [
        "toyota1.head()"
      ],
      "execution_count": 157,
      "outputs": [
        {
          "output_type": "execute_result",
          "data": {
            "text/html": [
              "<div>\n",
              "<style scoped>\n",
              "    .dataframe tbody tr th:only-of-type {\n",
              "        vertical-align: middle;\n",
              "    }\n",
              "\n",
              "    .dataframe tbody tr th {\n",
              "        vertical-align: top;\n",
              "    }\n",
              "\n",
              "    .dataframe thead th {\n",
              "        text-align: right;\n",
              "    }\n",
              "</style>\n",
              "<table border=\"1\" class=\"dataframe\">\n",
              "  <thead>\n",
              "    <tr style=\"text-align: right;\">\n",
              "      <th></th>\n",
              "      <th>Price</th>\n",
              "      <th>age</th>\n",
              "      <th>KM</th>\n",
              "      <th>HP</th>\n",
              "      <th>cc</th>\n",
              "      <th>Doors</th>\n",
              "      <th>Gears</th>\n",
              "      <th>QT</th>\n",
              "      <th>Weight</th>\n",
              "    </tr>\n",
              "  </thead>\n",
              "  <tbody>\n",
              "    <tr>\n",
              "      <th>0</th>\n",
              "      <td>13500</td>\n",
              "      <td>23</td>\n",
              "      <td>46986</td>\n",
              "      <td>90</td>\n",
              "      <td>2000</td>\n",
              "      <td>3</td>\n",
              "      <td>5</td>\n",
              "      <td>210</td>\n",
              "      <td>1165</td>\n",
              "    </tr>\n",
              "    <tr>\n",
              "      <th>1</th>\n",
              "      <td>13750</td>\n",
              "      <td>23</td>\n",
              "      <td>72937</td>\n",
              "      <td>90</td>\n",
              "      <td>2000</td>\n",
              "      <td>3</td>\n",
              "      <td>5</td>\n",
              "      <td>210</td>\n",
              "      <td>1165</td>\n",
              "    </tr>\n",
              "    <tr>\n",
              "      <th>2</th>\n",
              "      <td>13950</td>\n",
              "      <td>24</td>\n",
              "      <td>41711</td>\n",
              "      <td>90</td>\n",
              "      <td>2000</td>\n",
              "      <td>3</td>\n",
              "      <td>5</td>\n",
              "      <td>210</td>\n",
              "      <td>1165</td>\n",
              "    </tr>\n",
              "    <tr>\n",
              "      <th>3</th>\n",
              "      <td>14950</td>\n",
              "      <td>26</td>\n",
              "      <td>48000</td>\n",
              "      <td>90</td>\n",
              "      <td>2000</td>\n",
              "      <td>3</td>\n",
              "      <td>5</td>\n",
              "      <td>210</td>\n",
              "      <td>1165</td>\n",
              "    </tr>\n",
              "    <tr>\n",
              "      <th>4</th>\n",
              "      <td>13750</td>\n",
              "      <td>30</td>\n",
              "      <td>38500</td>\n",
              "      <td>90</td>\n",
              "      <td>2000</td>\n",
              "      <td>3</td>\n",
              "      <td>5</td>\n",
              "      <td>210</td>\n",
              "      <td>1170</td>\n",
              "    </tr>\n",
              "  </tbody>\n",
              "</table>\n",
              "</div>"
            ],
            "text/plain": [
              "   Price  age     KM  HP    cc  Doors  Gears   QT  Weight\n",
              "0  13500   23  46986  90  2000      3      5  210    1165\n",
              "1  13750   23  72937  90  2000      3      5  210    1165\n",
              "2  13950   24  41711  90  2000      3      5  210    1165\n",
              "3  14950   26  48000  90  2000      3      5  210    1165\n",
              "4  13750   30  38500  90  2000      3      5  210    1170"
            ]
          },
          "metadata": {},
          "execution_count": 157
        }
      ]
    },
    {
      "cell_type": "code",
      "metadata": {
        "id": "OrzGELD7ZNC7"
      },
      "source": [
        "#New data for prediction\n",
        "new_data=pd.DataFrame({'age':85,'KM':50000,'HP':80,'cc':2000,'Doors':3,\t'Gears':5,'QT':250,'Weight':1190},index=[1])"
      ],
      "execution_count": 193,
      "outputs": []
    },
    {
      "cell_type": "code",
      "metadata": {
        "colab": {
          "base_uri": "https://localhost:8080/"
        },
        "id": "YOLg4umvZwCp",
        "outputId": "11081b62-2f42-447b-a753-fefb3eede6f2"
      },
      "source": [
        "final_ml_cc.predict(new_data)"
      ],
      "execution_count": 194,
      "outputs": [
        {
          "output_type": "execute_result",
          "data": {
            "text/plain": [
              "1    9772.954214\n",
              "dtype: float64"
            ]
          },
          "metadata": {},
          "execution_count": 194
        }
      ]
    },
    {
      "cell_type": "markdown",
      "metadata": {
        "id": "B5UJu5AzdW9K"
      },
      "source": [
        "## **PREDICTED PRICE VALUES FOR ALL THE CARS IN THE DATA SET**"
      ]
    },
    {
      "cell_type": "code",
      "metadata": {
        "colab": {
          "base_uri": "https://localhost:8080/"
        },
        "id": "t-rBovI5ZwGV",
        "outputId": "6147e663-21ad-4834-d19e-0c50c5841293"
      },
      "source": [
        "final_ml_cc.predict(toyota)"
      ],
      "execution_count": 196,
      "outputs": [
        {
          "output_type": "execute_result",
          "data": {
            "text/plain": [
              "0       16199.290708\n",
              "1       15752.366936\n",
              "2       16177.734390\n",
              "3       15844.623319\n",
              "4       15705.112271\n",
              "            ...     \n",
              "1431     9024.631461\n",
              "1432     8421.042564\n",
              "1433     8567.612163\n",
              "1434     8681.735829\n",
              "1435    10684.970399\n",
              "Length: 1436, dtype: float64"
            ]
          },
          "metadata": {},
          "execution_count": 196
        }
      ]
    },
    {
      "cell_type": "code",
      "metadata": {
        "id": "7QZdb_73d3rV"
      },
      "source": [
        "predicted_price=final_ml_cc.predict(toyota)"
      ],
      "execution_count": 197,
      "outputs": []
    },
    {
      "cell_type": "code",
      "metadata": {
        "colab": {
          "base_uri": "https://localhost:8080/"
        },
        "id": "aQwEQzpFd8ks",
        "outputId": "faa50343-0c09-4cec-b12f-7cc4da97024f"
      },
      "source": [
        "predicted_price"
      ],
      "execution_count": 198,
      "outputs": [
        {
          "output_type": "execute_result",
          "data": {
            "text/plain": [
              "0       16199.290708\n",
              "1       15752.366936\n",
              "2       16177.734390\n",
              "3       15844.623319\n",
              "4       15705.112271\n",
              "            ...     \n",
              "1431     9024.631461\n",
              "1432     8421.042564\n",
              "1433     8567.612163\n",
              "1434     8681.735829\n",
              "1435    10684.970399\n",
              "Length: 1436, dtype: float64"
            ]
          },
          "metadata": {},
          "execution_count": 198
        }
      ]
    },
    {
      "cell_type": "code",
      "metadata": {
        "id": "YS0ocDBBeNNZ"
      },
      "source": [
        ""
      ],
      "execution_count": null,
      "outputs": []
    }
  ]
}